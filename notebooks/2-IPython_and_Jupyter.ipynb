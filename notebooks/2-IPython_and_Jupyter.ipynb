{
 "cells": [
  {
   "cell_type": "markdown",
   "metadata": {},
   "source": [
    "# IPython and Jupyter\n",
    "\n",
    "![](images/414px-Jupyter_logo.svg.png)\n",
    "\n",
    "Project Jupyter (including IPython) is transforming interactive development and data exploration across multiple industries. \n",
    "\n",
    "It is used in:\n",
    "\n",
    "- educational materials at Software and Data Carpentries\n",
    "- courses at many universities including: Bryn Mawr College, Cal Poly, Clemson University, George Washington University, Michigan State University, Vanderbilt University, New York University, Northwestern University, UC Berkeley, and University of Sheffield. \n",
    "- GitHub has made a built-in support for rendering notebooks\n",
    "- news organizations are writing data-driven news articles using Jupyter\n",
    "- traditional published books have been written using notebooks, such as at O'Reilly Media\n",
    "- Google is using it in their cloud data lab\n",
    "- Brookhaven National Laboratory uses Jupyter in analysis of data from scientific instruments \n",
    "- Netflix uses Jupyter internally\n",
    "- NASA uses it for data analysis \n",
    "- IBM uses it in their Data Science experience\n",
    "- Quantopian has hosted notebooks for financial modeling\n",
    "- Lawrence Berkeley National Laboratory uses Jupyter in multiple scientific projects\n",
    "- It is also in use at the NBA, Bloomberg, and Microsoft.\n",
    "\n",
    "\n",
    "### A brief history of interactive scientific computing in Python\n",
    "\n",
    "Jupyter is a product of a long process of scientific programming tool development that began as an \"enhanced inteactive shell\" called IPython (mind the upper case \"I\") developed by a CU Boulder graduate student:\n",
    "\n",
    "IPython creator Fernando Perez:\n",
    "\n",
    "> I started using Python in 2001 and liked the language, but its interactive prompt felt like a crippled toy compared to the systems mentioned above or to a Unix shell.  When I found out about sys.displayhook, I realized that by putting in a callable object, I would be able to hold state and capture previous results for reuse.  I then wrote a python startup file to provide these features and some other niceties such as loading Numeric and Gnuplot, giving me a 'mini-mathematica' in Python (femto- might be a better description, in fairness).  Thus was my 'ipython-0.0.1' born, a mere 259 lines to be loaded as $PYTYHONSTARTUP.\n",
    "\n",
    "**IPython** (Interactive Python) is an enhanced Python shell which provides a more robust and productive development environment for users. There are several key features that set it apart from the standard Python shell.\n",
    "\n",
    "* Interactive data analysis and visualization\n",
    "* Python kernel for Jupyter notebooks\n",
    "* Easy parallel computation\n",
    "* Flexible, embeddable interpreters to load into your own projects"
   ]
  },
  {
   "cell_type": "markdown",
   "metadata": {},
   "source": [
    "## Reproducible Research\n",
    "\n",
    "> reproducing conclusions from a single experiment based on the measurements from that experiment\n",
    "\n",
    "The most basic form of reproducibility is a complete description of the data and associated analyses (including code!) so the results can be *exactly* reproduced by others.\n",
    "\n",
    "Reproducing calculations can be onerous, even with one's own work!\n",
    "\n",
    "Scientific data are becoming larger and more complex, making simple descriptions inadequate for reproducibility. As a result, most modern research is irreproducible without tremendous effort.\n",
    "\n",
    "*** Reproducible research is not yet part of the culture of science in general, or scientific computing in particular. ***"
   ]
  },
  {
   "cell_type": "markdown",
   "metadata": {},
   "source": [
    "## Scientific Computing Workflow\n",
    "\n",
    "There are a number of steps to scientific endeavors that involve computing:\n",
    "\n",
    "![workflow](images/workflow.png)\n",
    "\n",
    "\n",
    "Many of the standard tools impose barriers between one or more of these steps. This can make it difficult to iterate, reproduce work.\n",
    "\n",
    "The Jupyter notebook eliminates or reduces these barriers to reproducibility."
   ]
  },
  {
   "cell_type": "markdown",
   "metadata": {},
   "source": [
    "# Jupyter Notebook\n",
    "\n",
    "Over time, the IPython project grew to include several components, including:\n",
    "\n",
    "* an interactive shell\n",
    "* a REPL protocol\n",
    "* a notebook document fromat\n",
    "* a notebook document conversion tool\n",
    "* a web-based notebook authoring tool\n",
    "* tools for building interactive UI (widgets)\n",
    "* interactive parallel Python\n",
    "\n",
    "As each component has evolved, several had grown to the point that they warrented projects of their own. For example, pieces like the notebook and protocol are not even specific to Python. As the result, the IPython team created Project Jupyter, which is the new home of language-agnostic projects that began as part of IPython, such as the notebook in which you are reading this text.\n",
    "\n",
    "The HTML notebook that is part of the Jupyter project supports **interactive data visualization** and easy high-performance **parallel computing**.\n"
   ]
  },
  {
   "cell_type": "markdown",
   "metadata": {},
   "source": [
    "## The Basics\n",
    "\n",
    "Interface tour:\n",
    "\n",
    "- Home page and tabs\n",
    "- Starting a new kernel\n",
    "- Menubar and toolbar\n",
    "\n",
    "### `.ipynb` files\n",
    "\n",
    "Jupyter notebook files are simple JSON documents, containing text, source code, rich media output, and metadata. each segment of the document is stored in a cell.\n",
    "\n",
    "### Notebook cells\n",
    "\n",
    "Notebooks can be populated with **cells** of content. They all have the same structure in the JSON notebook file:\n",
    "\n",
    "```json\n",
    "{\n",
    "  \"cell_type\" : \"name\",\n",
    "  \"metadata\" : {},\n",
    "  \"source\" : \"single string or [list, of, strings]\",\n",
    "}\n",
    "```\n",
    "\n",
    "\n",
    "There are three types of cells:\n",
    "\n",
    "**Markdown cells** are used for body-text, and contain markdown, as defined in GitHub-flavored markdown.\n",
    "\n",
    "**Code cells** are the primary content of Jupyter notebooks. They contain source code in the language of the document’s associated kernel, and a list of outputs associated with executing that code. \n",
    "\n",
    "**Raw NBConvert cells** contain content that should be included unmodified in nbconvert output. For example, this cell could include raw LaTeX for nbconvert to pdf via LaTeX. These are not rendered by the notebook.\n",
    "\n",
    "The text you are reading now is a markdown cell. Here's a simple example calculation in a code cell:"
   ]
  },
  {
   "cell_type": "code",
   "execution_count": null,
   "metadata": {},
   "outputs": [],
   "source": [
    "import numpy as np\n",
    "np.random.random(5)"
   ]
  },
  {
   "cell_type": "markdown",
   "metadata": {},
   "source": [
    "### Modality\n",
    "\n",
    "The notebook user interface is *modal*. This means that the keyboard behaves differently depending upon the current mode of the notebook. A notebook has two modes: **edit** and **command**.\n",
    "\n",
    "**Edit mode** is indicated by a green cell border and a prompt showing in the editor area. When a cell is in edit mode, you can type into the cell, like a normal text editor.\n",
    "\n",
    "![](images/edit_mode.png)\n",
    "\n",
    "**Command mode** is indicated by a grey cell border. When in command mode, the structure of the notebook can be modified as a whole, but the text in individual cells cannot be changed. Most importantly, the keyboard is mapped to a set of shortcuts for efficiently performing notebook and cell actions. For example, pressing **`c`** when in command mode, will copy the current cell; no modifier is needed.\n",
    "\n",
    "![](images/command_mode.png)\n",
    "\n",
    "<br>\n",
    "<div class=\"alert alert-success\">\n",
    "Enter edit mode by pressing `Enter` or using the mouse to click on a cell's editor area.\n",
    "</div>\n",
    "<div class=\"alert alert-success\">\n",
    "Enter command mode by pressing `Esc` or using the mouse to click *outside* a cell's editor area.\n",
    "</div>\n",
    "<div class=\"alert alert-warning\">\n",
    "Do not attempt to type into a cell when in command mode; unexpected things will happen!\n",
    "</div>"
   ]
  },
  {
   "cell_type": "markdown",
   "metadata": {},
   "source": [
    "## Jupyter Architecture\n",
    "\n",
    "The Jupyter architecture consists of four components:\n",
    "\n",
    "1. **Engine** The IPython engine is a Python instance that accepts Python commands over a network connection.  When multiple engines are started, parallel and distributed computing becomes possible. An important property of an IPython engine is that it blocks while user code is being executed. \n",
    "\n",
    "2. **Schedulers** All actions that can be performed on the engine go through a Scheduler. While the engines themselves block when user code is run, the schedulers hide that from the user to provide a fully asynchronous interface to a set of engines.\n",
    "\n",
    "3. **Client** The primary object for connecting to a cluster.\n",
    "\n",
    "4. **Hub** The hub keeps track of engine connections, schedulers, clients, as well as persist all task requests and results in a database for later use.\n",
    "\n",
    "![IPython architecture](images/ipython_architecture.png)\n",
    "(courtesy Min Ragan-Kelley)\n",
    "\n",
    "This architecture is implemented using the ØMQ messaging library and the associated Python bindings in `pyzmq`."
   ]
  },
  {
   "cell_type": "markdown",
   "metadata": {},
   "source": [
    "The notebook lets you document your workflow using either HTML or Markdown.\n",
    "\n",
    "The Jupyter Notebook consists of two related components:\n",
    "\n",
    "* A JSON based Notebook document format for recording and distributing Python code and rich text.\n",
    "* A web-based user interface for authoring and running notebook documents.\n",
    "\n",
    "Starting the Notebook server with the command:\n",
    "\n",
    "    $ jupyter notebook\n",
    "    \n",
    "initiates an **iPython engine**, which is a Python instance that takes Python commands over a network connection.\n",
    "\n",
    "Alternatively, you can use the richer JupyterLab environment for manipulating notebooks:\n",
    "\n",
    "    $ jupyter lab\n",
    "\n",
    "The **IPython controller** provides an interface for working with a set of engines, to which one or more **iPython clients** can connect.\n",
    "\n",
    "The Notebook gives you everything that a browser gives you. For example, you can embed images, videos, or entire websites."
   ]
  },
  {
   "cell_type": "code",
   "execution_count": null,
   "metadata": {},
   "outputs": [],
   "source": [
    "from IPython.display import IFrame\n",
    "IFrame('https://jupyter.org', width='100%', height=350)"
   ]
  },
  {
   "cell_type": "code",
   "execution_count": null,
   "metadata": {
    "slideshow": {
     "slide_type": "slide"
    }
   },
   "outputs": [],
   "source": [
    "from IPython.display import YouTubeVideo\n",
    "YouTubeVideo(\"Rc4JQWowG5I\")"
   ]
  },
  {
   "cell_type": "markdown",
   "metadata": {},
   "source": [
    "## Code Cells\n",
    "\n",
    "### Command history\n",
    "\n",
    "In IPython, all your inputs and outputs are saved. There are two variables named `In` and `Out` which are assigned as you work with your results. All outputs are saved automatically to variables of the form `_N`, where `N` is the prompt number, and inputs to `_iN`. This allows you to recover quickly the result of a prior computation by referring to its number even if you forgot to store it as a variable. "
   ]
  },
  {
   "cell_type": "code",
   "execution_count": null,
   "metadata": {},
   "outputs": [],
   "source": [
    "np.sin(4)**2"
   ]
  },
  {
   "cell_type": "code",
   "execution_count": null,
   "metadata": {},
   "outputs": [],
   "source": [
    "_4"
   ]
  },
  {
   "cell_type": "code",
   "execution_count": null,
   "metadata": {},
   "outputs": [],
   "source": [
    "exec(_i4)"
   ]
  },
  {
   "cell_type": "code",
   "execution_count": null,
   "metadata": {},
   "outputs": [],
   "source": [
    "_4 / 4."
   ]
  },
  {
   "cell_type": "markdown",
   "metadata": {},
   "source": [
    "### Introspection\n",
    "\n",
    "If you want details regarding the properties and functionality of any Python objects currently loaded into IPython, you can use the `?` to reveal any details that are available:"
   ]
  },
  {
   "cell_type": "code",
   "execution_count": null,
   "metadata": {},
   "outputs": [],
   "source": [
    "some_dict = {}\n",
    "some_dict?"
   ]
  },
  {
   "cell_type": "markdown",
   "metadata": {},
   "source": [
    "If available, additional detail is provided with two question marks, including the source code of the object itself."
   ]
  },
  {
   "cell_type": "code",
   "execution_count": null,
   "metadata": {},
   "outputs": [],
   "source": [
    "from numpy.linalg import cholesky\n",
    "cholesky??"
   ]
  },
  {
   "cell_type": "markdown",
   "metadata": {},
   "source": [
    "This syntax can also be used to search namespaces with wildcards (`*`)."
   ]
  },
  {
   "cell_type": "code",
   "execution_count": null,
   "metadata": {},
   "outputs": [],
   "source": [
    "np.random.rand*?"
   ]
  },
  {
   "cell_type": "markdown",
   "metadata": {},
   "source": [
    "### Tab completion\n",
    "\n",
    "Because IPython allows for introspection, it is able to afford the user the ability to tab-complete commands that have been partially typed. This is done by pressing the `<tab>` key at any point during the process of typing a command:"
   ]
  },
  {
   "cell_type": "code",
   "execution_count": null,
   "metadata": {},
   "outputs": [],
   "source": [
    "np.arccos"
   ]
  },
  {
   "cell_type": "markdown",
   "metadata": {},
   "source": [
    "### System commands\n",
    "\n",
    "In IPython, you can type `ls` to see your files or `cd` to change directories, just like you would at a regular system prompt:"
   ]
  },
  {
   "cell_type": "code",
   "execution_count": null,
   "metadata": {},
   "outputs": [],
   "source": [
    "ls /Users/fonnescj/Dropbox/Notes/"
   ]
  },
  {
   "cell_type": "markdown",
   "metadata": {},
   "source": [
    "Virtually any system command can be accessed by prepending `!`, which passes any subsequent command directly to the OS."
   ]
  },
  {
   "cell_type": "code",
   "execution_count": null,
   "metadata": {},
   "outputs": [],
   "source": [
    "!locate jupyter | grep pdf"
   ]
  },
  {
   "cell_type": "markdown",
   "metadata": {},
   "source": [
    "You can even use Python variables in commands sent to the OS:"
   ]
  },
  {
   "cell_type": "code",
   "execution_count": null,
   "metadata": {},
   "outputs": [],
   "source": [
    "file_type = 'png'\n",
    "!ls images/*$file_type"
   ]
  },
  {
   "cell_type": "markdown",
   "metadata": {},
   "source": [
    "The output of a system command using the exclamation point syntax can be assigned to a Python variable."
   ]
  },
  {
   "cell_type": "code",
   "execution_count": null,
   "metadata": {},
   "outputs": [],
   "source": [
    "data_files = !ls images/"
   ]
  },
  {
   "cell_type": "code",
   "execution_count": null,
   "metadata": {},
   "outputs": [],
   "source": [
    "data_files"
   ]
  },
  {
   "cell_type": "markdown",
   "metadata": {},
   "source": [
    "## Qt Console\n",
    "\n",
    "If you type at the system prompt:\n",
    "\n",
    "    $ ipython qtconsole\n",
    "\n",
    "instead of opening in a terminal, IPython will start a graphical console that at first sight appears just like a terminal, but which is in fact much more capable than a text-only terminal.  This is a specialized terminal designed for interactive scientific work, and it supports full multi-line editing with color highlighting and graphical calltips for functions, it can keep multiple IPython sessions open simultaneously in tabs, and when scripts run it can display the figures inline directly in the work area.\n",
    "\n",
    "![qtconsole](images/qtconsole.png)"
   ]
  },
  {
   "cell_type": "code",
   "execution_count": null,
   "metadata": {},
   "outputs": [],
   "source": [
    "%qtconsole"
   ]
  },
  {
   "cell_type": "markdown",
   "metadata": {},
   "source": [
    "### Magic functions\n",
    "\n",
    "IPython has a set of predefined ‘magic functions’ that you can call with a command line style syntax. These include:\n",
    "\n",
    "* `%run`\n",
    "* `%edit`\n",
    "* `%debug`\n",
    "* `%timeit`\n",
    "* `%paste`\n",
    "* `%load_ext`\n",
    "\n"
   ]
  },
  {
   "cell_type": "code",
   "execution_count": null,
   "metadata": {},
   "outputs": [],
   "source": [
    "%lsmagic"
   ]
  },
  {
   "cell_type": "markdown",
   "metadata": {},
   "source": [
    "Timing the execution of code; the `timeit` magic exists both in line and cell form:"
   ]
  },
  {
   "cell_type": "code",
   "execution_count": null,
   "metadata": {},
   "outputs": [],
   "source": [
    "%timeit np.linalg.eigvals(np.random.rand(100,100))"
   ]
  },
  {
   "cell_type": "code",
   "execution_count": null,
   "metadata": {},
   "outputs": [],
   "source": [
    "%%timeit a = np.random.rand(100, 100)\n",
    "np.linalg.eigvals(a)"
   ]
  },
  {
   "cell_type": "markdown",
   "metadata": {},
   "source": [
    "IPython also creates aliases for a few common interpreters, such as bash, ruby, perl, etc.\n",
    "\n",
    "These are all equivalent to `%%script <name>`"
   ]
  },
  {
   "cell_type": "code",
   "execution_count": null,
   "metadata": {},
   "outputs": [],
   "source": [
    "%%ruby\n",
    "puts \"Hello from Ruby #{RUBY_VERSION}\""
   ]
  },
  {
   "cell_type": "code",
   "execution_count": null,
   "metadata": {},
   "outputs": [],
   "source": [
    "%%bash\n",
    "echo \"hello from $BASH\""
   ]
  },
  {
   "cell_type": "markdown",
   "metadata": {},
   "source": [
    "IPython has an `rmagic` extension that contains a some magic functions for working with R via rpy2. This extension can be loaded using the `%load_ext` magic as follows:"
   ]
  },
  {
   "cell_type": "code",
   "execution_count": null,
   "metadata": {},
   "outputs": [],
   "source": [
    "%load_ext rpy2.ipython"
   ]
  },
  {
   "cell_type": "markdown",
   "metadata": {},
   "source": [
    "If the above generates an error, it is likely that you do not have the `rpy2` module installed. You can install this now via:"
   ]
  },
  {
   "cell_type": "code",
   "execution_count": null,
   "metadata": {},
   "outputs": [],
   "source": [
    "!pip install rpy2"
   ]
  },
  {
   "cell_type": "code",
   "execution_count": null,
   "metadata": {},
   "outputs": [],
   "source": [
    "x,y = np.arange(10), np.random.normal(size=10)\n",
    "%R print(lm(rnorm(10)~rnorm(10)))"
   ]
  },
  {
   "cell_type": "code",
   "execution_count": null,
   "metadata": {},
   "outputs": [],
   "source": [
    "%%R -i x,y -o XYcoef\n",
    "lm.fit <- lm(y~x)\n",
    "par(mfrow=c(2,2))\n",
    "print(summary(lm.fit))\n",
    "plot(lm.fit)\n",
    "XYcoef <- coef(lm.fit)"
   ]
  },
  {
   "cell_type": "code",
   "execution_count": null,
   "metadata": {},
   "outputs": [],
   "source": [
    "XYcoef"
   ]
  },
  {
   "cell_type": "markdown",
   "metadata": {},
   "source": [
    "## Interactive Plotting\n",
    "\n",
    "Any plots generated by the Python kernel can be redirected to appear **inline**, in an output cell. Here is an example using Matplotlib:"
   ]
  },
  {
   "cell_type": "code",
   "execution_count": null,
   "metadata": {
    "scrolled": true
   },
   "outputs": [],
   "source": [
    "%matplotlib inline\n",
    "import matplotlib.pyplot as plt\n",
    "plt.style.use('fivethirtyeight')\n",
    "\n",
    "def f(x):\n",
    "    return (x-3)*(x-5)*(x-7)+85\n",
    "\n",
    "import numpy as np\n",
    "x = np.linspace(0, 10, 200)\n",
    "y = f(x)\n",
    "plt.plot(x,y)"
   ]
  },
  {
   "cell_type": "markdown",
   "metadata": {},
   "source": [
    "### Bokeh\n",
    "\n",
    "Matplotlib will be your workhorse for creating plots in notebooks. But it's not the only game in town! A recent new player is [**Bokeh**](http://nbviewer.jupyter.org/github/bokeh/bokeh-notebooks/blob/master/index.ipynb), a visualization library to make amazing interactive plots and share them online. It can also handle very large data sets with excellent performance.\n",
    "\n",
    "If you installed **Anaconda** in your system, you will probably already have **Bokeh**. You can check if it's there by running the `conda list` command. If you installed **Miniconda**, you will need to install it with `conda install bokeh`.\n",
    "\n",
    "After installing **Bokeh**, we have many modules available: [`bokeh.plotting`](http://bokeh.pydata.org/en/latest/docs/reference/plotting.html#bokeh-plotting) gives you the ability to create interactive figures with zoom, pan, resize, save, and other tools."
   ]
  },
  {
   "cell_type": "code",
   "execution_count": null,
   "metadata": {},
   "outputs": [],
   "source": [
    "from bokeh import plotting as bplotting"
   ]
  },
  {
   "cell_type": "markdown",
   "metadata": {},
   "source": [
    "**Bokeh** integrates with Jupyter notebooks by calling the output function, as follows:"
   ]
  },
  {
   "cell_type": "code",
   "execution_count": null,
   "metadata": {},
   "outputs": [],
   "source": [
    "bplotting.output_notebook()"
   ]
  },
  {
   "cell_type": "code",
   "execution_count": null,
   "metadata": {},
   "outputs": [],
   "source": [
    "import numpy\n",
    "# Get an array of 100 evenly spaced points from 0 to 2*pi\n",
    "x = np.linspace(0.0, 2.0 * numpy.pi, 100)\n",
    "\n",
    "# Make a pointwise function of x with exp(sin(x))\n",
    "y = np.exp(np.sin(x))\n",
    "\n",
    "deriv_exact = y * np.cos(x) # analytical derivative"
   ]
  },
  {
   "cell_type": "code",
   "execution_count": null,
   "metadata": {},
   "outputs": [],
   "source": [
    "def forward_diff(y, x):\n",
    "    \"\"\"Compute derivative by forward differencing.\"\"\"\n",
    "\n",
    "    # Use numpy.empty to make an empty array to put our derivatives in\n",
    "    deriv = numpy.empty(y.size - 1)\n",
    "\n",
    "    # Use a for-loop to go through each point and compute the derivative.\n",
    "    for i in range(deriv.size):\n",
    "        deriv[i] = (y[i+1] - y[i]) / (x[i+1] - x[i])\n",
    "        \n",
    "    # Return the derivative (a NumPy array)\n",
    "    return deriv\n",
    "        \n",
    "# Call the function to perform finite differencing\n",
    "deriv = forward_diff(y, x)"
   ]
  },
  {
   "cell_type": "code",
   "execution_count": null,
   "metadata": {},
   "outputs": [],
   "source": [
    "# create a new Bokeh plot with axis labels, name it \"bop\"\n",
    "bop = bplotting.figure(x_axis_label='x', y_axis_label='dy/dx')\n",
    "\n",
    "# add a title, change the font\n",
    "bop.title.text = \"Derivative of exp(sin(x))\"\n",
    "bop.title.text_font = \"palatino\"\n",
    "\n",
    "# add a line with legend and line thickness to \"bop\"\n",
    "bop.line(x, deriv_exact, legend=\"analytical\", line_width=2)\n",
    "\n",
    "# add circle markers with legend, specify color\n",
    "bop.circle((x[1:] + x[:-1]) / 2.0, deriv, legend=\"numerical\", fill_color=\"gray\", size=8, line_color=None)\n",
    "\n",
    "bop.grid.grid_line_alpha=0.3\n",
    "\n",
    "bplotting.show(bop);"
   ]
  },
  {
   "cell_type": "markdown",
   "metadata": {},
   "source": [
    "## Markdown cells\n",
    "\n",
    "Markdown is a simple *markup* language that allows plain text to be converted into HTML.\n",
    "\n",
    "The advantages of using Markdown over HTML (and LaTeX):\n",
    "\n",
    "- its a **human-readable** format \n",
    "- allows writers to focus on content rather than formatting and layout\n",
    "- easier to learn and use\n",
    "\n",
    "For example, instead of writing:\n",
    "\n",
    "```html\n",
    "<p>In order to create valid \n",
    "<a href=\"http://en.wikipedia.org/wiki/HTML\">HTML</a>, you \n",
    "need properly coded syntax that can be cumbersome for \n",
    "&#8220;non-programmers&#8221; to write. Sometimes, you\n",
    "just want to easily make certain words <strong>bold\n",
    "</strong>, and certain words <em>italicized</em> without\n",
    "having to remember the syntax. Additionally, for example,\n",
    "creating lists:</p>\n",
    "<ul>\n",
    "<li>should be easy</li>\n",
    "<li>should not involve programming</li>\n",
    "</ul>\n",
    "```\n",
    "\n",
    "we can write the following in Markdown:\n",
    "\n",
    "```markdown\n",
    "In order to create valid [HTML], you need properly\n",
    "coded syntax that can be cumbersome for \n",
    "\"non-programmers\" to write. Sometimes, you just want\n",
    "to easily make certain words **bold**, and certain \n",
    "words *italicized* without having to remember the \n",
    "syntax. Additionally, for example, creating lists:\n",
    "\n",
    "* should be easy\n",
    "* should not involve programming\n",
    "```\n",
    "\n",
    "### Emphasis\n",
    "\n",
    "Markdown uses `*` (asterisk) and `_` (underscore) characters as \n",
    "indicators of emphasis. \n",
    "\n",
    "    *italic*, _italic_  \n",
    "    **bold**, __bold__\n",
    "    ***bold-italic***, ___bold-italic___\n",
    "\n",
    "*italic*, _italic_  \n",
    "**bold**, __bold__  \n",
    "***bold-italic***, ___bold-italic___\n",
    "\n",
    "### Lists\n",
    "\n",
    "Markdown supports both unordered and ordered lists. Unordered lists can use `*`, `-`, or \n",
    "`+` to define a list. This is an unordered list:  \n",
    "\n",
    "    * Apples\n",
    "    * Bananas\n",
    "    * Oranges\n",
    "\n",
    "* Apples\n",
    "* Bananas\n",
    "* Oranges\n",
    "\n",
    "Ordered lists are numbered lists in plain text:\n",
    "\n",
    "    1. Bryan Ferry\n",
    "    2. Brian Eno\n",
    "    3. Andy Mackay\n",
    "    4. Paul Thompson\n",
    "    5. Phil Manzanera\n",
    "\n",
    "1. Bryan Ferry\n",
    "2. Brian Eno\n",
    "3. Andy Mackay\n",
    "4. Paul Thompson\n",
    "5. Phil Manzanera\n",
    "\n",
    "### Links\n",
    "\n",
    "Markdown inline links are equivalent to HTML `<a href='foo.com'>` \n",
    "links, they just have a different syntax. \n",
    "\n",
    "    [Biostatistics home page](http://biostat.mc.vanderbilt.edu \"Visit Biostat!\")\n",
    "\n",
    "[Biostatistics home page](http://biostat.mc.vanderbilt.edu \"Visit Biostat!\")\n",
    "\n",
    "### Block quotes\n",
    "\n",
    "Block quotes are denoted by a `>` (greater than) character \n",
    "before each line of the block quote.\n",
    "\n",
    "    > Sometimes a simple model will outperform a more complex model . . . \n",
    "    > Nevertheless, I believe that deliberately limiting the complexity \n",
    "    > of the model is not fruitful when the problem is evidently complex. \n",
    "\n",
    "> Sometimes a simple model will outperform a more complex model . . .\n",
    "> Nevertheless, I believe that deliberately limiting the complexity \n",
    "> of the model is not fruitful when the problem is evidently complex.\n",
    "\n",
    "### Images\n",
    "\n",
    "Images look an awful lot like Markdown links, they just have an extra \n",
    "`!` (exclamation mark) in front of them. \n",
    "\n",
    "    ![Python logo](images/python-logo-master-v3-TM.png)\n",
    "\n",
    "![Python logo](images/python-logo-master-v3-TM.png)"
   ]
  },
  {
   "cell_type": "markdown",
   "metadata": {},
   "source": [
    "### Remote Code\n",
    "\n",
    "Use `%load` to add remote code"
   ]
  },
  {
   "cell_type": "code",
   "execution_count": null,
   "metadata": {},
   "outputs": [],
   "source": [
    "%load http://matplotlib.org/mpl_examples/statistics/boxplot_demo.py"
   ]
  },
  {
   "cell_type": "markdown",
   "metadata": {},
   "source": [
    "### Mathjax Support\n",
    "\n",
    "Mathjax ia a javascript implementation $\\alpha$ of LaTeX that allows equations to be embedded into HTML. For example, this markup:\n",
    "\n",
    "    \"\"\"$$ \\int_{a}^{b} f(x)\\, dx \\approx \\frac{1}{2} \\sum_{k=1}^{N} \\left( x_{k} - x_{k-1} \\right) \\left( f(x_{k}) + f(x_{k-1}) \\right). $$\"\"\"\n",
    "    \n",
    "becomes this:\n",
    "\n",
    "$$\n",
    "\\int_{a}^{b} f(x)\\, dx \\approx \\frac{1}{2} \\sum_{k=1}^{N} \\left( x_{k} - x_{k-1} \\right) \\left( f(x_{k}) + f(x_{k-1}) \\right).\n",
    "$$"
   ]
  },
  {
   "cell_type": "markdown",
   "metadata": {},
   "source": [
    "Code cells can be displayed as LaTeX"
   ]
  },
  {
   "cell_type": "code",
   "execution_count": null,
   "metadata": {},
   "outputs": [],
   "source": [
    "from IPython.display import Latex\n",
    "Latex(r\"\"\"\\begin{eqnarray}\n",
    "\\nabla \\times \\vec{\\mathbf{B}} -\\, \\frac1c\\, \\frac{\\partial\\vec{\\mathbf{E}}}{\\partial t} & = \\frac{4\\pi}{c}\\vec{\\mathbf{j}} \\\\\n",
    "\\nabla \\cdot \\vec{\\mathbf{E}} & = 4 \\pi \\rho \\\\\n",
    "\\nabla \\times \\vec{\\mathbf{E}}\\, +\\, \\frac1c\\, \\frac{\\partial\\vec{\\mathbf{B}}}{\\partial t} & = \\vec{\\mathbf{0}} \\\\\n",
    "\\nabla \\cdot \\vec{\\mathbf{B}} & = 0 \n",
    "\\end{eqnarray}\"\"\")"
   ]
  },
  {
   "cell_type": "markdown",
   "metadata": {},
   "source": [
    "## Debugging\n",
    "\n",
    "The `%debug` magic can be used to trigger the IPython debugger (`ipd`) for a cell that raises an exception. The debugger allows you to step through code line-by-line and inspect variables and execute code."
   ]
  },
  {
   "cell_type": "code",
   "execution_count": null,
   "metadata": {},
   "outputs": [],
   "source": [
    "def div(x, y):\n",
    "    return x/y\n",
    "\n",
    "div(1,0)"
   ]
  },
  {
   "cell_type": "code",
   "execution_count": null,
   "metadata": {},
   "outputs": [],
   "source": [
    "%debug"
   ]
  },
  {
   "cell_type": "markdown",
   "metadata": {},
   "source": [
    "## Exporting and Converting Notebooks\n",
    "\n",
    "In Jupyter, one can convert an `.ipynb` notebook document file into various static formats via the `nbconvert` tool. Currently, nbconvert is a command line tool, run as a script using Jupyter."
   ]
  },
  {
   "cell_type": "code",
   "execution_count": null,
   "metadata": {},
   "outputs": [],
   "source": [
    "!jupyter nbconvert --to html \"IPython and Jupyter.ipynb\""
   ]
  },
  {
   "cell_type": "markdown",
   "metadata": {},
   "source": [
    "Currently, `nbconvert` supports HTML (default), LaTeX, Markdown, reStructuredText, Python and HTML5 slides for presentations. Some types can be post-processed, such as LaTeX to PDF (this requires [Pandoc](http://johnmacfarlane.net/pandoc/) to be installed, however)."
   ]
  },
  {
   "cell_type": "code",
   "execution_count": null,
   "metadata": {},
   "outputs": [],
   "source": [
    "!jupyter nbconvert --to pdf \"IPython and Jupyter.ipynb\""
   ]
  },
  {
   "cell_type": "markdown",
   "metadata": {},
   "source": [
    "A very useful online service is the [IPython Notebook Viewer](http://nbviewer.ipython.org) which allows you to display your notebook as a static HTML page, which is useful for sharing with others:"
   ]
  },
  {
   "cell_type": "code",
   "execution_count": null,
   "metadata": {},
   "outputs": [],
   "source": [
    "IFrame(\"http://nbviewer.ipython.org/2352771\", width='100%', height=350)"
   ]
  },
  {
   "cell_type": "markdown",
   "metadata": {},
   "source": [
    "As of this year, GitHub supports the [rendering of Jupyter Notebooks](https://github.com/fonnesbeck/Bios8366/blob/master/notebooks/Section1_2-Programming-with-Python.ipynb) stored on its repositories."
   ]
  },
  {
   "cell_type": "markdown",
   "metadata": {},
   "source": [
    "## Version control\n",
    "\n",
    "Since a Jupyter Notebook is just a JSON file, it can be readily added to a version control system, such as Git. However, JSON is not inherently conducive resolving merge conflicts or other tasks that involve comparing different versions of the file.\n",
    "\n",
    "\n",
    "### Jupyter Notebook Diff and Merge tools\n",
    "\n",
    "`nbdime` provides [tools for diffing and merging of notebooks](https://nbdime.readthedocs.io/en/latest/).\n",
    "\n",
    "- `nbdiff` compare notebooks in a terminal-friendly way\n",
    "- `nbmerge` three-way merge of notebooks with automatic conflict resolution\n",
    "- `nbdiff-web` shows you a rich rendered diff of notebooks\n",
    "- `nbmerge-web` gives you a web-based three-way merge tool for notebooks\n",
    "- `nbshow` present a single notebook in a terminal-friendly way\n",
    "\n",
    "![](images/nbdiff-web.png)"
   ]
  },
  {
   "cell_type": "markdown",
   "metadata": {},
   "source": [
    "---\n",
    "\n",
    "## To Learn More\n",
    "\n",
    "* [A Gallery of Interesting Jupyter Notebooks](https://github.com/jupyter/jupyter/wiki/A-gallery-of-interesting-Jupyter-Notebooks) \n",
    "\n",
    "* [A Reference-Free Algorithm for Computational Normalization of Shotgun Sequencing Data](http://ged.msu.edu/papers/2012-diginorm/) A landmark example of reproducible research in genomics: Git repo, iPython notebook, data and scripts.\n",
    "\n",
    "* Jacques Ravel and K Eric Wommack. 2014. [All Hail Reproducibility in Microbiome Research](http://www.microbiomejournal.com/content/pdf/2049-2618-2-8.pdf). Microbiome, 2:8.\n",
    "\n",
    "* Benjamin Ragan-Kelley et al.. 2013. [Collaborative cloud-enabled tools allow rapid, reproducible biological insights](http://www.nature.com/ismej/journal/v7/n3/full/ismej2012123a.html). The ISME Journal, 7, 461–464; doi:10.1038/ismej.2012.123;"
   ]
  }
 ],
 "metadata": {
  "_draft": {
   "nbviewer_url": "https://gist.github.com/9449466995d534c7af942db3843732e7"
  },
  "anaconda-cloud": {},
  "gist": {
   "data": {
    "description": "IPython and Jupyter.ipynb",
    "public": true
   },
   "id": "9449466995d534c7af942db3843732e7"
  },
  "kernelspec": {
   "display_name": "Python 3",
   "language": "python",
   "name": "python3"
  },
  "language_info": {
   "codemirror_mode": {
    "name": "ipython",
    "version": 3
   },
   "file_extension": ".py",
   "mimetype": "text/x-python",
   "name": "python",
   "nbconvert_exporter": "python",
   "pygments_lexer": "ipython3",
   "version": "3.7.2"
  },
  "nav_menu": {},
  "toc": {
   "navigate_menu": true,
   "number_sections": false,
   "sideBar": true,
   "threshold": 6,
   "toc_cell": false,
   "toc_section_display": "block",
   "toc_window_display": false
  }
 },
 "nbformat": 4,
 "nbformat_minor": 2
}
