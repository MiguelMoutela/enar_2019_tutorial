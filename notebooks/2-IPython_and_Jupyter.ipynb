{
 "cells": [
  {
   "cell_type": "markdown",
   "metadata": {},
   "source": [
    "# IPython and Jupyter\n",
    "\n",
    "![](images/414px-Jupyter_logo.svg.png)\n",
    "\n",
    "Project Jupyter (including IPython) is transforming interactive development and data exploration across multiple industries. \n",
    "\n",
    "It is used in:\n",
    "\n",
    "- educational materials at Software and Data Carpentries\n",
    "- courses at many universities including: Bryn Mawr College, Cal Poly, Clemson University, George Washington University, Michigan State University, Vanderbilt University, New York University, Northwestern University, UC Berkeley, and University of Sheffield. \n",
    "- GitHub has made a built-in support for rendering notebooks\n",
    "- news organizations are writing data-driven news articles using Jupyter\n",
    "- traditional published books have been written using notebooks, such as at O'Reilly Media\n",
    "- Google is using it in their cloud data lab\n",
    "- Brookhaven National Laboratory uses Jupyter in analysis of data from scientific instruments \n",
    "- Netflix uses Jupyter internally\n",
    "- NASA uses it for data analysis \n",
    "- IBM uses it in their Data Science experience\n",
    "- Quantopian has hosted notebooks for financial modeling\n",
    "- Lawrence Berkeley National Laboratory uses Jupyter in multiple scientific projects\n",
    "- It is also in use at the NBA, Bloomberg, and Microsoft.\n",
    "\n",
    "\n",
    "### A brief history of interactive scientific computing in Python\n",
    "\n",
    "Jupyter is a product of a long process of scientific programming tool development that began as an \"enhanced inteactive shell\" called IPython (mind the upper case \"I\") developed by a CU Boulder graduate student:\n",
    "\n",
    "IPython creator Fernando Perez:\n",
    "\n",
    "> I started using Python in 2001 and liked the language, but its interactive prompt felt like a crippled toy compared to the systems mentioned above or to a Unix shell.  When I found out about sys.displayhook, I realized that by putting in a callable object, I would be able to hold state and capture previous results for reuse.  I then wrote a python startup file to provide these features and some other niceties such as loading Numeric and Gnuplot, giving me a 'mini-mathematica' in Python (femto- might be a better description, in fairness).  Thus was my 'ipython-0.0.1' born, a mere 259 lines to be loaded as $PYTYHONSTARTUP.\n",
    "\n",
    "**IPython** (Interactive Python) is an enhanced Python shell which provides a more robust and productive development environment for users. There are several key features that set it apart from the standard Python shell.\n",
    "\n",
    "* Interactive data analysis and visualization\n",
    "* Python kernel for Jupyter notebooks\n",
    "* Easy parallel computation\n",
    "* Flexible, embeddable interpreters to load into your own projects"
   ]
  },
  {
   "cell_type": "markdown",
   "metadata": {},
   "source": [
    "## Reproducible Research\n",
    "\n",
    "> reproducing conclusions from a single experiment based on the measurements from that experiment\n",
    "\n",
    "The most basic form of reproducibility is a complete description of the data and associated analyses (including code!) so the results can be *exactly* reproduced by others.\n",
    "\n",
    "Reproducing calculations can be onerous, even with one's own work!\n",
    "\n",
    "Scientific data are becoming larger and more complex, making simple descriptions inadequate for reproducibility. As a result, most modern research is irreproducible without tremendous effort.\n",
    "\n",
    "*** Reproducible research is not yet part of the culture of science in general, or scientific computing in particular. ***"
   ]
  },
  {
   "cell_type": "markdown",
   "metadata": {},
   "source": [
    "## Scientific Computing Workflow\n",
    "\n",
    "There are a number of steps to scientific endeavors that involve computing:\n",
    "\n",
    "![workflow](images/workflow.png)\n",
    "\n",
    "\n",
    "Many of the standard tools impose barriers between one or more of these steps. This can make it difficult to iterate, reproduce work.\n",
    "\n",
    "The Jupyter notebook eliminates or reduces these barriers to reproducibility."
   ]
  },
  {
   "cell_type": "markdown",
   "metadata": {},
   "source": [
    "# Jupyter Notebook\n",
    "\n",
    "Over time, the IPython project grew to include several components, including:\n",
    "\n",
    "* an interactive shell\n",
    "* a REPL protocol\n",
    "* a notebook document fromat\n",
    "* a notebook document conversion tool\n",
    "* a web-based notebook authoring tool\n",
    "* tools for building interactive UI (widgets)\n",
    "* interactive parallel Python\n",
    "\n",
    "As each component has evolved, several had grown to the point that they warrented projects of their own. For example, pieces like the notebook and protocol are not even specific to Python. As the result, the IPython team created Project Jupyter, which is the new home of language-agnostic projects that began as part of IPython, such as the notebook in which you are reading this text.\n",
    "\n",
    "The HTML notebook that is part of the Jupyter project supports **interactive data visualization** and easy high-performance **parallel computing**.\n"
   ]
  },
  {
   "cell_type": "markdown",
   "metadata": {},
   "source": [
    "## The Basics\n",
    "\n",
    "Interface tour:\n",
    "\n",
    "- Home page and tabs\n",
    "- Starting a new kernel\n",
    "- Menubar and toolbar\n",
    "\n",
    "### `.ipynb` files\n",
    "\n",
    "Jupyter notebook files are simple JSON documents, containing text, source code, rich media output, and metadata. each segment of the document is stored in a cell.\n",
    "\n",
    "### Notebook cells\n",
    "\n",
    "Notebooks can be populated with **cells** of content. They all have the same structure in the JSON notebook file:\n",
    "\n",
    "```json\n",
    "{\n",
    "  \"cell_type\" : \"name\",\n",
    "  \"metadata\" : {},\n",
    "  \"source\" : \"single string or [list, of, strings]\",\n",
    "}\n",
    "```\n",
    "\n",
    "\n",
    "There are three types of cells:\n",
    "\n",
    "**Markdown cells** are used for body-text, and contain markdown, as defined in GitHub-flavored markdown.\n",
    "\n",
    "**Code cells** are the primary content of Jupyter notebooks. They contain source code in the language of the document’s associated kernel, and a list of outputs associated with executing that code. \n",
    "\n",
    "**Raw NBConvert cells** contain content that should be included unmodified in nbconvert output. For example, this cell could include raw LaTeX for nbconvert to pdf via LaTeX. These are not rendered by the notebook.\n",
    "\n",
    "The text you are reading now is a markdown cell. Here's a simple example calculation in a code cell:"
   ]
  },
  {
   "cell_type": "code",
   "execution_count": 1,
   "metadata": {},
   "outputs": [
    {
     "data": {
      "text/plain": [
       "array([0.51025833, 0.76413702, 0.56479743, 0.7028858 , 0.7458605 ])"
      ]
     },
     "execution_count": 1,
     "metadata": {},
     "output_type": "execute_result"
    }
   ],
   "source": [
    "import numpy as np\n",
    "np.random.random(5)"
   ]
  },
  {
   "cell_type": "markdown",
   "metadata": {},
   "source": [
    "### Modality\n",
    "\n",
    "The notebook user interface is *modal*. This means that the keyboard behaves differently depending upon the current mode of the notebook. A notebook has two modes: **edit** and **command**.\n",
    "\n",
    "**Edit mode** is indicated by a green cell border and a prompt showing in the editor area. When a cell is in edit mode, you can type into the cell, like a normal text editor.\n",
    "\n",
    "![](images/edit_mode.png)\n",
    "\n",
    "**Command mode** is indicated by a grey cell border. When in command mode, the structure of the notebook can be modified as a whole, but the text in individual cells cannot be changed. Most importantly, the keyboard is mapped to a set of shortcuts for efficiently performing notebook and cell actions. For example, pressing **`c`** when in command mode, will copy the current cell; no modifier is needed.\n",
    "\n",
    "![](images/command_mode.png)\n",
    "\n",
    "<br>\n",
    "<div class=\"alert alert-success\">\n",
    "Enter edit mode by pressing `Enter` or using the mouse to click on a cell's editor area.\n",
    "</div>\n",
    "<div class=\"alert alert-success\">\n",
    "Enter command mode by pressing `Esc` or using the mouse to click *outside* a cell's editor area.\n",
    "</div>\n",
    "<div class=\"alert alert-warning\">\n",
    "Do not attempt to type into a cell when in command mode; unexpected things will happen!\n",
    "</div>"
   ]
  },
  {
   "cell_type": "markdown",
   "metadata": {},
   "source": [
    "## Jupyter Architecture\n",
    "\n",
    "The Jupyter architecture consists of four components:\n",
    "\n",
    "1. **Engine** The IPython engine is a Python instance that accepts Python commands over a network connection.  When multiple engines are started, parallel and distributed computing becomes possible. An important property of an IPython engine is that it blocks while user code is being executed. \n",
    "\n",
    "2. **Hub** The hub keeps track of engine connections, schedulers, clients, as well as persist all task requests and results in a database for later use.\n",
    "\n",
    "3. **Schedulers** All actions that can be performed on the engine go through a Scheduler. While the engines themselves block when user code is run, the schedulers hide that from the user to provide a fully asynchronous interface to a set of engines.\n",
    "\n",
    "4. **Client** The primary object for connecting to a cluster.\n",
    "\n",
    "![IPython architecture](images/ipython_architecture.png)\n",
    "(courtesy Min Ragan-Kelley)\n",
    "\n",
    "This architecture is implemented using the ØMQ messaging library and the associated Python bindings in `pyzmq`."
   ]
  },
  {
   "cell_type": "markdown",
   "metadata": {},
   "source": [
    "The notebook lets you document your workflow using either HTML or Markdown.\n",
    "\n",
    "The Jupyter Notebook consists of two related components:\n",
    "\n",
    "* A JSON based Notebook document format for recording and distributing Python code and rich text.\n",
    "* A web-based user interface for authoring and running notebook documents.\n",
    "\n",
    "Starting the Notebook server with the command:\n",
    "\n",
    "    $ ipython notebook\n",
    "    \n",
    "initiates an **iPython engine**, which is a Python instance that takes Python commands over a network connection.\n",
    "\n",
    "The **IPython controller** provides an interface for working with a set of engines, to which one or more **iPython clients** can connect.\n",
    "\n",
    "The Notebook gives you everything that a browser gives you. For example, you can embed images, videos, or entire websites."
   ]
  },
  {
   "cell_type": "code",
   "execution_count": 2,
   "metadata": {},
   "outputs": [
    {
     "data": {
      "text/html": [
       "\n",
       "        <iframe\n",
       "            width=\"100%\"\n",
       "            height=\"350\"\n",
       "            src=\"https://jupyter.org\"\n",
       "            frameborder=\"0\"\n",
       "            allowfullscreen\n",
       "        ></iframe>\n",
       "        "
      ],
      "text/plain": [
       "<IPython.lib.display.IFrame at 0x105eb85f8>"
      ]
     },
     "execution_count": 2,
     "metadata": {},
     "output_type": "execute_result"
    }
   ],
   "source": [
    "from IPython.display import IFrame\n",
    "IFrame('https://jupyter.org', width='100%', height=350)"
   ]
  },
  {
   "cell_type": "code",
   "execution_count": 3,
   "metadata": {
    "slideshow": {
     "slide_type": "slide"
    }
   },
   "outputs": [
    {
     "data": {
      "image/jpeg": "[encoded data removed]",
      "text/html": [
       "\n",
       "        <iframe\n",
       "            width=\"400\"\n",
       "            height=\"300\"\n",
       "            src=\"https://www.youtube.com/embed/Rc4JQWowG5I\"\n",
       "            frameborder=\"0\"\n",
       "            allowfullscreen\n",
       "        ></iframe>\n",
       "        "
      ],
      "text/plain": [
       "<IPython.lib.display.YouTubeVideo at 0x105eb8470>"
      ]
     },
     "execution_count": 3,
     "metadata": {},
     "output_type": "execute_result"
    }
   ],
   "source": [
    "from IPython.display import YouTubeVideo\n",
    "YouTubeVideo(\"Rc4JQWowG5I\")"
   ]
  },
  {
   "cell_type": "markdown",
   "metadata": {},
   "source": [
    "## Code Cells\n",
    "\n",
    "### Command history\n",
    "\n",
    "In IPython, all your inputs and outputs are saved. There are two variables named `In` and `Out` which are assigned as you work with your results. All outputs are saved automatically to variables of the form `_N`, where `N` is the prompt number, and inputs to `_iN`. This allows you to recover quickly the result of a prior computation by referring to its number even if you forgot to store it as a variable. "
   ]
  },
  {
   "cell_type": "code",
   "execution_count": 4,
   "metadata": {},
   "outputs": [
    {
     "data": {
      "text/plain": [
       "0.5727500169043067"
      ]
     },
     "execution_count": 4,
     "metadata": {},
     "output_type": "execute_result"
    }
   ],
   "source": [
    "np.sin(4)**2"
   ]
  },
  {
   "cell_type": "code",
   "execution_count": 5,
   "metadata": {},
   "outputs": [
    {
     "data": {
      "text/plain": [
       "0.5727500169043067"
      ]
     },
     "execution_count": 5,
     "metadata": {},
     "output_type": "execute_result"
    }
   ],
   "source": [
    "_4"
   ]
  },
  {
   "cell_type": "code",
   "execution_count": 6,
   "metadata": {},
   "outputs": [],
   "source": [
    "exec(_i4)"
   ]
  },
  {
   "cell_type": "code",
   "execution_count": 7,
   "metadata": {},
   "outputs": [
    {
     "data": {
      "text/plain": [
       "0.14318750422607668"
      ]
     },
     "execution_count": 7,
     "metadata": {},
     "output_type": "execute_result"
    }
   ],
   "source": [
    "_4 / 4."
   ]
  },
  {
   "cell_type": "markdown",
   "metadata": {},
   "source": [
    "### Introspection\n",
    "\n",
    "If you want details regarding the properties and functionality of any Python objects currently loaded into IPython, you can use the `?` to reveal any details that are available:"
   ]
  },
  {
   "cell_type": "code",
   "execution_count": 8,
   "metadata": {},
   "outputs": [
    {
     "data": {
      "text/plain": [
       "\u001b[0;31mType:\u001b[0m        dict\n",
       "\u001b[0;31mString form:\u001b[0m {}\n",
       "\u001b[0;31mLength:\u001b[0m      0\n",
       "\u001b[0;31mDocstring:\u001b[0m  \n",
       "dict() -> new empty dictionary\n",
       "dict(mapping) -> new dictionary initialized from a mapping object's\n",
       "    (key, value) pairs\n",
       "dict(iterable) -> new dictionary initialized as if via:\n",
       "    d = {}\n",
       "    for k, v in iterable:\n",
       "        d[k] = v\n",
       "dict(**kwargs) -> new dictionary initialized with the name=value pairs\n",
       "    in the keyword argument list.  For example:  dict(one=1, two=2)\n"
      ]
     },
     "metadata": {},
     "output_type": "display_data"
    }
   ],
   "source": [
    "some_dict = {}\n",
    "some_dict?"
   ]
  },
  {
   "cell_type": "markdown",
   "metadata": {},
   "source": [
    "If available, additional detail is provided with two question marks, including the source code of the object itself."
   ]
  },
  {
   "cell_type": "code",
   "execution_count": 10,
   "metadata": {},
   "outputs": [
    {
     "data": {
      "text/plain": [
       "\u001b[0;31mSignature:\u001b[0m \u001b[0mcholesky\u001b[0m\u001b[0;34m(\u001b[0m\u001b[0ma\u001b[0m\u001b[0;34m)\u001b[0m\u001b[0;34m\u001b[0m\u001b[0;34m\u001b[0m\u001b[0m\n",
       "\u001b[0;31mSource:\u001b[0m   \n",
       "\u001b[0;32mdef\u001b[0m \u001b[0mcholesky\u001b[0m\u001b[0;34m(\u001b[0m\u001b[0ma\u001b[0m\u001b[0;34m)\u001b[0m\u001b[0;34m:\u001b[0m\u001b[0;34m\u001b[0m\n",
       "\u001b[0;34m\u001b[0m    \u001b[0;34m\"\"\"\u001b[0m\n",
       "\u001b[0;34m    Cholesky decomposition.\u001b[0m\n",
       "\u001b[0;34m\u001b[0m\n",
       "\u001b[0;34m    Return the Cholesky decomposition, `L * L.H`, of the square matrix `a`,\u001b[0m\n",
       "\u001b[0;34m    where `L` is lower-triangular and .H is the conjugate transpose operator\u001b[0m\n",
       "\u001b[0;34m    (which is the ordinary transpose if `a` is real-valued).  `a` must be\u001b[0m\n",
       "\u001b[0;34m    Hermitian (symmetric if real-valued) and positive-definite.  Only `L` is\u001b[0m\n",
       "\u001b[0;34m    actually returned.\u001b[0m\n",
       "\u001b[0;34m\u001b[0m\n",
       "\u001b[0;34m    Parameters\u001b[0m\n",
       "\u001b[0;34m    ----------\u001b[0m\n",
       "\u001b[0;34m    a : (..., M, M) array_like\u001b[0m\n",
       "\u001b[0;34m        Hermitian (symmetric if all elements are real), positive-definite\u001b[0m\n",
       "\u001b[0;34m        input matrix.\u001b[0m\n",
       "\u001b[0;34m\u001b[0m\n",
       "\u001b[0;34m    Returns\u001b[0m\n",
       "\u001b[0;34m    -------\u001b[0m\n",
       "\u001b[0;34m    L : (..., M, M) array_like\u001b[0m\n",
       "\u001b[0;34m        Upper or lower-triangular Cholesky factor of `a`.  Returns a\u001b[0m\n",
       "\u001b[0;34m        matrix object if `a` is a matrix object.\u001b[0m\n",
       "\u001b[0;34m\u001b[0m\n",
       "\u001b[0;34m    Raises\u001b[0m\n",
       "\u001b[0;34m    ------\u001b[0m\n",
       "\u001b[0;34m    LinAlgError\u001b[0m\n",
       "\u001b[0;34m       If the decomposition fails, for example, if `a` is not\u001b[0m\n",
       "\u001b[0;34m       positive-definite.\u001b[0m\n",
       "\u001b[0;34m\u001b[0m\n",
       "\u001b[0;34m    Notes\u001b[0m\n",
       "\u001b[0;34m    -----\u001b[0m\n",
       "\u001b[0;34m\u001b[0m\n",
       "\u001b[0;34m    .. versionadded:: 1.8.0\u001b[0m\n",
       "\u001b[0;34m\u001b[0m\n",
       "\u001b[0;34m    Broadcasting rules apply, see the `numpy.linalg` documentation for\u001b[0m\n",
       "\u001b[0;34m    details.\u001b[0m\n",
       "\u001b[0;34m\u001b[0m\n",
       "\u001b[0;34m    The Cholesky decomposition is often used as a fast way of solving\u001b[0m\n",
       "\u001b[0;34m\u001b[0m\n",
       "\u001b[0;34m    .. math:: A \\\\mathbf{x} = \\\\mathbf{b}\u001b[0m\n",
       "\u001b[0;34m\u001b[0m\n",
       "\u001b[0;34m    (when `A` is both Hermitian/symmetric and positive-definite).\u001b[0m\n",
       "\u001b[0;34m\u001b[0m\n",
       "\u001b[0;34m    First, we solve for :math:`\\\\mathbf{y}` in\u001b[0m\n",
       "\u001b[0;34m\u001b[0m\n",
       "\u001b[0;34m    .. math:: L \\\\mathbf{y} = \\\\mathbf{b},\u001b[0m\n",
       "\u001b[0;34m\u001b[0m\n",
       "\u001b[0;34m    and then for :math:`\\\\mathbf{x}` in\u001b[0m\n",
       "\u001b[0;34m\u001b[0m\n",
       "\u001b[0;34m    .. math:: L.H \\\\mathbf{x} = \\\\mathbf{y}.\u001b[0m\n",
       "\u001b[0;34m\u001b[0m\n",
       "\u001b[0;34m    Examples\u001b[0m\n",
       "\u001b[0;34m    --------\u001b[0m\n",
       "\u001b[0;34m    >>> A = np.array([[1,-2j],[2j,5]])\u001b[0m\n",
       "\u001b[0;34m    >>> A\u001b[0m\n",
       "\u001b[0;34m    array([[ 1.+0.j,  0.-2.j],\u001b[0m\n",
       "\u001b[0;34m           [ 0.+2.j,  5.+0.j]])\u001b[0m\n",
       "\u001b[0;34m    >>> L = np.linalg.cholesky(A)\u001b[0m\n",
       "\u001b[0;34m    >>> L\u001b[0m\n",
       "\u001b[0;34m    array([[ 1.+0.j,  0.+0.j],\u001b[0m\n",
       "\u001b[0;34m           [ 0.+2.j,  1.+0.j]])\u001b[0m\n",
       "\u001b[0;34m    >>> np.dot(L, L.T.conj()) # verify that L * L.H = A\u001b[0m\n",
       "\u001b[0;34m    array([[ 1.+0.j,  0.-2.j],\u001b[0m\n",
       "\u001b[0;34m           [ 0.+2.j,  5.+0.j]])\u001b[0m\n",
       "\u001b[0;34m    >>> A = [[1,-2j],[2j,5]] # what happens if A is only array_like?\u001b[0m\n",
       "\u001b[0;34m    >>> np.linalg.cholesky(A) # an ndarray object is returned\u001b[0m\n",
       "\u001b[0;34m    array([[ 1.+0.j,  0.+0.j],\u001b[0m\n",
       "\u001b[0;34m           [ 0.+2.j,  1.+0.j]])\u001b[0m\n",
       "\u001b[0;34m    >>> # But a matrix object is returned if A is a matrix object\u001b[0m\n",
       "\u001b[0;34m    >>> LA.cholesky(np.matrix(A))\u001b[0m\n",
       "\u001b[0;34m    matrix([[ 1.+0.j,  0.+0.j],\u001b[0m\n",
       "\u001b[0;34m            [ 0.+2.j,  1.+0.j]])\u001b[0m\n",
       "\u001b[0;34m\u001b[0m\n",
       "\u001b[0;34m    \"\"\"\u001b[0m\u001b[0;34m\u001b[0m\n",
       "\u001b[0;34m\u001b[0m    \u001b[0mextobj\u001b[0m \u001b[0;34m=\u001b[0m \u001b[0mget_linalg_error_extobj\u001b[0m\u001b[0;34m(\u001b[0m\u001b[0m_raise_linalgerror_nonposdef\u001b[0m\u001b[0;34m)\u001b[0m\u001b[0;34m\u001b[0m\n",
       "\u001b[0;34m\u001b[0m    \u001b[0mgufunc\u001b[0m \u001b[0;34m=\u001b[0m \u001b[0m_umath_linalg\u001b[0m\u001b[0;34m.\u001b[0m\u001b[0mcholesky_lo\u001b[0m\u001b[0;34m\u001b[0m\n",
       "\u001b[0;34m\u001b[0m    \u001b[0ma\u001b[0m\u001b[0;34m,\u001b[0m \u001b[0mwrap\u001b[0m \u001b[0;34m=\u001b[0m \u001b[0m_makearray\u001b[0m\u001b[0;34m(\u001b[0m\u001b[0ma\u001b[0m\u001b[0;34m)\u001b[0m\u001b[0;34m\u001b[0m\n",
       "\u001b[0;34m\u001b[0m    \u001b[0m_assertRankAtLeast2\u001b[0m\u001b[0;34m(\u001b[0m\u001b[0ma\u001b[0m\u001b[0;34m)\u001b[0m\u001b[0;34m\u001b[0m\n",
       "\u001b[0;34m\u001b[0m    \u001b[0m_assertNdSquareness\u001b[0m\u001b[0;34m(\u001b[0m\u001b[0ma\u001b[0m\u001b[0;34m)\u001b[0m\u001b[0;34m\u001b[0m\n",
       "\u001b[0;34m\u001b[0m    \u001b[0mt\u001b[0m\u001b[0;34m,\u001b[0m \u001b[0mresult_t\u001b[0m \u001b[0;34m=\u001b[0m \u001b[0m_commonType\u001b[0m\u001b[0;34m(\u001b[0m\u001b[0ma\u001b[0m\u001b[0;34m)\u001b[0m\u001b[0;34m\u001b[0m\n",
       "\u001b[0;34m\u001b[0m    \u001b[0msignature\u001b[0m \u001b[0;34m=\u001b[0m \u001b[0;34m'D->D'\u001b[0m \u001b[0;32mif\u001b[0m \u001b[0misComplexType\u001b[0m\u001b[0;34m(\u001b[0m\u001b[0mt\u001b[0m\u001b[0;34m)\u001b[0m \u001b[0;32melse\u001b[0m \u001b[0;34m'd->d'\u001b[0m\u001b[0;34m\u001b[0m\n",
       "\u001b[0;34m\u001b[0m    \u001b[0mr\u001b[0m \u001b[0;34m=\u001b[0m \u001b[0mgufunc\u001b[0m\u001b[0;34m(\u001b[0m\u001b[0ma\u001b[0m\u001b[0;34m,\u001b[0m \u001b[0msignature\u001b[0m\u001b[0;34m=\u001b[0m\u001b[0msignature\u001b[0m\u001b[0;34m,\u001b[0m \u001b[0mextobj\u001b[0m\u001b[0;34m=\u001b[0m\u001b[0mextobj\u001b[0m\u001b[0;34m)\u001b[0m\u001b[0;34m\u001b[0m\n",
       "\u001b[0;34m\u001b[0m    \u001b[0;32mreturn\u001b[0m \u001b[0mwrap\u001b[0m\u001b[0;34m(\u001b[0m\u001b[0mr\u001b[0m\u001b[0;34m.\u001b[0m\u001b[0mastype\u001b[0m\u001b[0;34m(\u001b[0m\u001b[0mresult_t\u001b[0m\u001b[0;34m,\u001b[0m \u001b[0mcopy\u001b[0m\u001b[0;34m=\u001b[0m\u001b[0;32mFalse\u001b[0m\u001b[0;34m)\u001b[0m\u001b[0;34m)\u001b[0m\u001b[0;34m\u001b[0m\u001b[0;34m\u001b[0m\u001b[0m\n",
       "\u001b[0;31mFile:\u001b[0m      ~/anaconda3/envs/dev/lib/python3.6/site-packages/numpy/linalg/linalg.py\n",
       "\u001b[0;31mType:\u001b[0m      function\n"
      ]
     },
     "metadata": {},
     "output_type": "display_data"
    }
   ],
   "source": [
    "from numpy.linalg import cholesky\n",
    "cholesky??"
   ]
  },
  {
   "cell_type": "markdown",
   "metadata": {},
   "source": [
    "This syntax can also be used to search namespaces with wildcards (`*`)."
   ]
  },
  {
   "cell_type": "code",
   "execution_count": 11,
   "metadata": {},
   "outputs": [
    {
     "data": {
      "text/plain": [
       "np.random.rand\n",
       "np.random.randint\n",
       "np.random.randn\n",
       "np.random.random\n",
       "np.random.random_integers\n",
       "np.random.random_sample"
      ]
     },
     "metadata": {},
     "output_type": "display_data"
    }
   ],
   "source": [
    "np.random.rand*?"
   ]
  },
  {
   "cell_type": "markdown",
   "metadata": {},
   "source": [
    "### Tab completion\n",
    "\n",
    "Because IPython allows for introspection, it is able to afford the user the ability to tab-complete commands that have been partially typed. This is done by pressing the `<tab>` key at any point during the process of typing a command:"
   ]
  },
  {
   "cell_type": "code",
   "execution_count": 12,
   "metadata": {},
   "outputs": [
    {
     "data": {
      "text/plain": [
       "<ufunc 'arccos'>"
      ]
     },
     "execution_count": 12,
     "metadata": {},
     "output_type": "execute_result"
    }
   ],
   "source": [
    "np.arccos"
   ]
  },
  {
   "cell_type": "markdown",
   "metadata": {},
   "source": [
    "### System commands\n",
    "\n",
    "In IPython, you can type `ls` to see your files or `cd` to change directories, just like you would at a regular system prompt:"
   ]
  },
  {
   "cell_type": "code",
   "execution_count": 13,
   "metadata": {},
   "outputs": [
    {
     "name": "stdout",
     "output_type": "stream",
     "text": [
      "AGE_methods.md\n",
      "Adult Flu Vaccination Statistical Analysis Plan slides.md\n",
      "Adult Flu Vaccination Statistical Analysis Plan.md\n",
      "Complex Interventions Analytic Approaches.md\n",
      "Dask.md\n",
      "Flu Vaccination Statistical Analysis Plan slides.md\n",
      "Flu Vaccination Statistical Analysis Plan.md\n",
      "Flu Vaccination Statistical Analysis Plan.pdf\n",
      "Population modeling.md\n",
      "Probabilistic programming notes.md\n",
      "Stratagem.md\n",
      "Variational Inference.md\n",
      "analysis_plan.md\n"
     ]
    }
   ],
   "source": [
    "ls /Users/fonnescj/Dropbox/Notes/"
   ]
  },
  {
   "cell_type": "markdown",
   "metadata": {},
   "source": [
    "Virtually any system command can be accessed by prepending `!`, which passes any subsequent command directly to the OS."
   ]
  },
  {
   "cell_type": "code",
   "execution_count": 26,
   "metadata": {},
   "outputs": [
    {
     "name": "stdout",
     "output_type": "stream",
     "text": [
      "/Users/fonnescj/Repos/aou_jupyter_tutorials/Introduction to Jupyter Notebooks.pdf\n",
      "/Users/fonnescj/anaconda3/envs/codedev/lib/python3.6/site-packages/jupyter_contrib_nbextensions/nbconvert_support/__pycache__/pre_svg2pdf.cpython-36.pyc\n",
      "/Users/fonnescj/anaconda3/envs/codedev/lib/python3.6/site-packages/jupyter_contrib_nbextensions/nbconvert_support/pre_svg2pdf.py\n",
      "/Users/fonnescj/anaconda3/envs/codedev/lib/python3.6/site-packages/jupyter_contrib_nbextensions/nbextensions/highlighter/export_highlights.pdf\n",
      "/Users/fonnescj/anaconda3/envs/codedev/lib/python3.6/site-packages/jupyter_contrib_nbextensions/nbextensions/highlighter/tst_highlights.pdf\n",
      "/Users/fonnescj/anaconda3/envs/codedev/share/jupyter/nbextensions/highlighter/export_highlights.pdf\n",
      "/Users/fonnescj/anaconda3/envs/codedev/share/jupyter/nbextensions/highlighter/tst_highlights.pdf\n",
      "/Users/fonnescj/anaconda3/envs/codedev/share/jupyter/nbextensions/latex_envs/doc/documentation.pdf\n",
      "/Users/fonnescj/anaconda3/envs/dev/lib/python3.6/site-packages/jupyter_contrib_nbextensions/nbconvert_support/__pycache__/pre_svg2pdf.cpython-36.pyc\n",
      "/Users/fonnescj/anaconda3/envs/dev/lib/python3.6/site-packages/jupyter_contrib_nbextensions/nbconvert_support/pre_svg2pdf.py\n",
      "/Users/fonnescj/anaconda3/envs/dev/lib/python3.6/site-packages/jupyter_contrib_nbextensions/nbextensions/highlighter/export_highlights.pdf\n",
      "/Users/fonnescj/anaconda3/envs/dev/lib/python3.6/site-packages/jupyter_contrib_nbextensions/nbextensions/highlighter/tst_highlights.pdf\n",
      "/Users/fonnescj/anaconda3/envs/dev/share/jupyter/nbextensions/highlighter/export_highlights.pdf\n",
      "/Users/fonnescj/anaconda3/envs/dev/share/jupyter/nbextensions/highlighter/tst_highlights.pdf\n",
      "/Users/fonnescj/anaconda3/envs/dev/share/jupyter/nbextensions/latex_envs/doc/documentation.pdf\n",
      "/Users/fonnescj/anaconda3/envs/dev/share/jupyter/nbextensions/rise/reveal.js/css/print/pdf.css\n",
      "/Users/fonnescj/anaconda3/envs/dev/share/jupyter/nbextensions/rise/reveal.js/plugin/print-pdf\n",
      "/Users/fonnescj/anaconda3/envs/dev/share/jupyter/nbextensions/rise/reveal.js/plugin/print-pdf/print-pdf.js\n",
      "/Users/fonnescj/anaconda3/envs/dev/share/jupyter/nbextensions/rise/reveal.js/test/test-pdf.html\n",
      "/Users/fonnescj/anaconda3/envs/dev/share/jupyter/nbextensions/rise/reveal.js/test/test-pdf.js\n",
      "/Users/fonnescj/anaconda3/envs/jupyter_tutorial/bin/tiff2pdf\n",
      "/Users/fonnescj/anaconda3/envs/jupyter_tutorial/include/cairo/cairo-pdf.h\n",
      "/Users/fonnescj/anaconda3/envs/jupyter_tutorial/include/qt/QtGui/5.6.2/QtGui/private/qpdf_p.h\n",
      "/Users/fonnescj/anaconda3/envs/jupyter_tutorial/include/qt/QtGui/qpdfwriter.h\n",
      "/Users/fonnescj/anaconda3/envs/jupyter_tutorial/include/qt/QtPrintSupport/5.6.2/QtPrintSupport/private/qprintengine_pdf_p.h\n",
      "/Users/fonnescj/anaconda3/envs/jupyter_tutorial/lib/R/bin/Rd2pdf\n",
      "/Users/fonnescj/anaconda3/envs/jupyter_tutorial/lib/R/doc/NEWS.pdf\n",
      "/Users/fonnescj/anaconda3/envs/jupyter_tutorial/lib/R/doc/html/Rlogo.pdf\n",
      "/Users/fonnescj/anaconda3/envs/jupyter_tutorial/lib/R/library/BH/include/boost/math/distributions/detail/hypergeometric_pdf.hpp\n",
      "/Users/fonnescj/anaconda3/envs/jupyter_tutorial/lib/R/library/Rcpp/doc/Rcpp-FAQ.pdf\n",
      "/Users/fonnescj/anaconda3/envs/jupyter_tutorial/lib/R/library/Rcpp/doc/Rcpp-attributes.pdf\n",
      "/Users/fonnescj/anaconda3/envs/jupyter_tutorial/lib/R/library/Rcpp/doc/Rcpp-extending.pdf\n",
      "/Users/fonnescj/anaconda3/envs/jupyter_tutorial/lib/R/library/Rcpp/doc/Rcpp-introduction.pdf\n",
      "/Users/fonnescj/anaconda3/envs/jupyter_tutorial/lib/R/library/Rcpp/doc/Rcpp-jss-2011.pdf\n",
      "/Users/fonnescj/anaconda3/envs/jupyter_tutorial/lib/R/library/Rcpp/doc/Rcpp-modules.pdf\n",
      "/Users/fonnescj/anaconda3/envs/jupyter_tutorial/lib/R/library/Rcpp/doc/Rcpp-package.pdf\n",
      "/Users/fonnescj/anaconda3/envs/jupyter_tutorial/lib/R/library/Rcpp/doc/Rcpp-quickref.pdf\n",
      "/Users/fonnescj/anaconda3/envs/jupyter_tutorial/lib/R/library/Rcpp/doc/Rcpp-sugar.pdf\n",
      "/Users/fonnescj/anaconda3/envs/jupyter_tutorial/lib/R/library/Rcpp/doc/Rcpp-unitTests.pdf\n",
      "/Users/fonnescj/anaconda3/envs/jupyter_tutorial/lib/R/library/graphics/help/figures/mai.pdf\n",
      "/Users/fonnescj/anaconda3/envs/jupyter_tutorial/lib/R/library/graphics/help/figures/oma.pdf\n",
      "/Users/fonnescj/anaconda3/envs/jupyter_tutorial/lib/R/library/graphics/help/figures/pch.pdf\n",
      "/Users/fonnescj/anaconda3/envs/jupyter_tutorial/lib/R/library/grid/doc/displaylist.pdf\n",
      "/Users/fonnescj/anaconda3/envs/jupyter_tutorial/lib/R/library/grid/doc/frame.pdf\n",
      "/Users/fonnescj/anaconda3/envs/jupyter_tutorial/lib/R/library/grid/doc/grid.pdf\n",
      "/Users/fonnescj/anaconda3/envs/jupyter_tutorial/lib/R/library/grid/doc/grobs.pdf\n",
      "/Users/fonnescj/anaconda3/envs/jupyter_tutorial/lib/R/library/grid/doc/interactive.pdf\n",
      "/Users/fonnescj/anaconda3/envs/jupyter_tutorial/lib/R/library/grid/doc/locndimn.pdf\n",
      "/Users/fonnescj/anaconda3/envs/jupyter_tutorial/lib/R/library/grid/doc/moveline.pdf\n",
      "/Users/fonnescj/anaconda3/envs/jupyter_tutorial/lib/R/library/grid/doc/nonfinite.pdf\n",
      "/Users/fonnescj/anaconda3/envs/jupyter_tutorial/lib/R/library/grid/doc/plotexample.pdf\n",
      "/Users/fonnescj/anaconda3/envs/jupyter_tutorial/lib/R/library/grid/doc/rotated.pdf\n",
      "/Users/fonnescj/anaconda3/envs/jupyter_tutorial/lib/R/library/grid/doc/saveload.pdf\n",
      "/Users/fonnescj/anaconda3/envs/jupyter_tutorial/lib/R/library/grid/doc/sharing.pdf\n",
      "/Users/fonnescj/anaconda3/envs/jupyter_tutorial/lib/R/library/grid/doc/viewports.pdf\n",
      "/Users/fonnescj/anaconda3/envs/jupyter_tutorial/lib/R/library/parallel/doc/parallel.pdf\n",
      "/Users/fonnescj/anaconda3/envs/jupyter_tutorial/lib/R/library/utils/doc/Sweave.pdf\n",
      "/Users/fonnescj/anaconda3/envs/jupyter_tutorial/lib/pkgconfig/cairo-pdf.pc\n",
      "/Users/fonnescj/anaconda3/envs/jupyter_tutorial/lib/python3.6/site-packages/matplotlib/backends/__pycache__/backend_pdf.cpython-36.pyc\n",
      "/Users/fonnescj/anaconda3/envs/jupyter_tutorial/lib/python3.6/site-packages/matplotlib/backends/backend_pdf.py\n",
      "/Users/fonnescj/anaconda3/envs/jupyter_tutorial/lib/python3.6/site-packages/matplotlib/mpl-data/fonts/pdfcorefonts\n",
      "/Users/fonnescj/anaconda3/envs/jupyter_tutorial/lib/python3.6/site-packages/matplotlib/mpl-data/fonts/pdfcorefonts/Courier-Bold.afm\n",
      "/Users/fonnescj/anaconda3/envs/jupyter_tutorial/lib/python3.6/site-packages/matplotlib/mpl-data/fonts/pdfcorefonts/Courier-BoldOblique.afm\n",
      "/Users/fonnescj/anaconda3/envs/jupyter_tutorial/lib/python3.6/site-packages/matplotlib/mpl-data/fonts/pdfcorefonts/Courier-Oblique.afm\n",
      "/Users/fonnescj/anaconda3/envs/jupyter_tutorial/lib/python3.6/site-packages/matplotlib/mpl-data/fonts/pdfcorefonts/Courier.afm\n",
      "/Users/fonnescj/anaconda3/envs/jupyter_tutorial/lib/python3.6/site-packages/matplotlib/mpl-data/fonts/pdfcorefonts/Helvetica-Bold.afm\n",
      "/Users/fonnescj/anaconda3/envs/jupyter_tutorial/lib/python3.6/site-packages/matplotlib/mpl-data/fonts/pdfcorefonts/Helvetica-BoldOblique.afm\n",
      "/Users/fonnescj/anaconda3/envs/jupyter_tutorial/lib/python3.6/site-packages/matplotlib/mpl-data/fonts/pdfcorefonts/Helvetica-Oblique.afm\n",
      "/Users/fonnescj/anaconda3/envs/jupyter_tutorial/lib/python3.6/site-packages/matplotlib/mpl-data/fonts/pdfcorefonts/Helvetica.afm\n",
      "/Users/fonnescj/anaconda3/envs/jupyter_tutorial/lib/python3.6/site-packages/matplotlib/mpl-data/fonts/pdfcorefonts/Symbol.afm\n",
      "/Users/fonnescj/anaconda3/envs/jupyter_tutorial/lib/python3.6/site-packages/matplotlib/mpl-data/fonts/pdfcorefonts/Times-Bold.afm\n",
      "/Users/fonnescj/anaconda3/envs/jupyter_tutorial/lib/python3.6/site-packages/matplotlib/mpl-data/fonts/pdfcorefonts/Times-BoldItalic.afm\n",
      "/Users/fonnescj/anaconda3/envs/jupyter_tutorial/lib/python3.6/site-packages/matplotlib/mpl-data/fonts/pdfcorefonts/Times-Italic.afm\n",
      "/Users/fonnescj/anaconda3/envs/jupyter_tutorial/lib/python3.6/site-packages/matplotlib/mpl-data/fonts/pdfcorefonts/Times-Roman.afm\n",
      "/Users/fonnescj/anaconda3/envs/jupyter_tutorial/lib/python3.6/site-packages/matplotlib/mpl-data/fonts/pdfcorefonts/ZapfDingbats.afm\n",
      "/Users/fonnescj/anaconda3/envs/jupyter_tutorial/lib/python3.6/site-packages/matplotlib/mpl-data/fonts/pdfcorefonts/readme.txt\n",
      "/Users/fonnescj/anaconda3/envs/jupyter_tutorial/lib/python3.6/site-packages/matplotlib/mpl-data/images/back.pdf\n",
      "/Users/fonnescj/anaconda3/envs/jupyter_tutorial/lib/python3.6/site-packages/matplotlib/mpl-data/images/filesave.pdf\n",
      "/Users/fonnescj/anaconda3/envs/jupyter_tutorial/lib/python3.6/site-packages/matplotlib/mpl-data/images/forward.pdf\n",
      "/Users/fonnescj/anaconda3/envs/jupyter_tutorial/lib/python3.6/site-packages/matplotlib/mpl-data/images/hand.pdf\n",
      "/Users/fonnescj/anaconda3/envs/jupyter_tutorial/lib/python3.6/site-packages/matplotlib/mpl-data/images/home.pdf\n",
      "/Users/fonnescj/anaconda3/envs/jupyter_tutorial/lib/python3.6/site-packages/matplotlib/mpl-data/images/matplotlib.pdf\n",
      "/Users/fonnescj/anaconda3/envs/jupyter_tutorial/lib/python3.6/site-packages/matplotlib/mpl-data/images/move.pdf\n",
      "/Users/fonnescj/anaconda3/envs/jupyter_tutorial/lib/python3.6/site-packages/matplotlib/mpl-data/images/qt4_editor_options.pdf\n",
      "/Users/fonnescj/anaconda3/envs/jupyter_tutorial/lib/python3.6/site-packages/matplotlib/mpl-data/images/subplots.pdf\n",
      "/Users/fonnescj/anaconda3/envs/jupyter_tutorial/lib/python3.6/site-packages/matplotlib/mpl-data/images/zoom_to_rect.pdf\n",
      "/Users/fonnescj/anaconda3/envs/jupyter_tutorial/lib/python3.6/site-packages/nbconvert/exporters/__pycache__/pdf.cpython-36.pyc\n",
      "/Users/fonnescj/anaconda3/envs/jupyter_tutorial/lib/python3.6/site-packages/nbconvert/exporters/pdf.py\n",
      "/Users/fonnescj/anaconda3/envs/jupyter_tutorial/lib/python3.6/site-packages/nbconvert/exporters/tests/__pycache__/test_pdf.cpython-36.pyc\n",
      "/Users/fonnescj/anaconda3/envs/jupyter_tutorial/lib/python3.6/site-packages/nbconvert/exporters/tests/test_pdf.py\n",
      "/Users/fonnescj/anaconda3/envs/jupyter_tutorial/lib/python3.6/site-packages/nbconvert/preprocessors/__pycache__/svg2pdf.cpython-36.pyc\n",
      "/Users/fonnescj/anaconda3/envs/jupyter_tutorial/lib/python3.6/site-packages/nbconvert/preprocessors/svg2pdf.py\n",
      "/Users/fonnescj/anaconda3/envs/jupyter_tutorial/lib/python3.6/site-packages/nbconvert/preprocessors/tests/__pycache__/test_svg2pdf.cpython-36.pyc\n",
      "/Users/fonnescj/anaconda3/envs/jupyter_tutorial/lib/python3.6/site-packages/nbconvert/preprocessors/tests/test_svg2pdf.py\n",
      "/Users/fonnescj/anaconda3/envs/jupyter_tutorial/share/doc/libxml2-2.9.8/html/tutorial/xmltutorial.pdf\n",
      "/Users/fonnescj/anaconda3/envs/jupyter_tutorial/share/sip/PyQt5/QtGui/qpdfwriter.sip\n",
      "/Users/fonnescj/anaconda3/envs/mongolia/lib/python3.6/site-packages/jupyter_contrib_nbextensions/nbconvert_support/__pycache__/pre_svg2pdf.cpython-36.pyc\n",
      "/Users/fonnescj/anaconda3/envs/mongolia/lib/python3.6/site-packages/jupyter_contrib_nbextensions/nbconvert_support/pre_svg2pdf.py\n",
      "/Users/fonnescj/anaconda3/envs/mongolia/lib/python3.6/site-packages/jupyter_contrib_nbextensions/nbextensions/highlighter/export_highlights.pdf\n",
      "/Users/fonnescj/anaconda3/envs/mongolia/lib/python3.6/site-packages/jupyter_contrib_nbextensions/nbextensions/highlighter/tst_highlights.pdf\n",
      "/Users/fonnescj/anaconda3/envs/mongolia/share/jupyter/nbextensions/highlighter/export_highlights.pdf\n",
      "/Users/fonnescj/anaconda3/envs/mongolia/share/jupyter/nbextensions/highlighter/tst_highlights.pdf\n",
      "/Users/fonnescj/anaconda3/envs/mongolia/share/jupyter/nbextensions/latex_envs/doc/documentation.pdf\n",
      "/Users/fonnescj/anaconda3/pkgs/jupyter_contrib_nbextensions-0.2.6-py35_0/lib/python3.5/site-packages/jupyter_contrib_nbextensions/nbconvert_support/__pycache__/pre_svg2pdf.cpython-35.pyc\n",
      "/Users/fonnescj/anaconda3/pkgs/jupyter_contrib_nbextensions-0.2.6-py35_0/lib/python3.5/site-packages/jupyter_contrib_nbextensions/nbconvert_support/pre_svg2pdf.py\n",
      "/Users/fonnescj/anaconda3/pkgs/jupyter_contrib_nbextensions-0.2.6-py35_0/lib/python3.5/site-packages/jupyter_contrib_nbextensions/nbextensions/highlighter/export_highlights.pdf\n",
      "/Users/fonnescj/anaconda3/pkgs/jupyter_contrib_nbextensions-0.2.6-py35_0/lib/python3.5/site-packages/jupyter_contrib_nbextensions/nbextensions/highlighter/tst_highlights.pdf\n",
      "/Users/fonnescj/anaconda3/pkgs/jupyter_contrib_nbextensions-0.2.6-py36_0/lib/python3.6/site-packages/jupyter_contrib_nbextensions/nbconvert_support/__pycache__/pre_svg2pdf.cpython-36.pyc\n",
      "/Users/fonnescj/anaconda3/pkgs/jupyter_contrib_nbextensions-0.2.6-py36_0/lib/python3.6/site-packages/jupyter_contrib_nbextensions/nbconvert_support/pre_svg2pdf.py\n",
      "/Users/fonnescj/anaconda3/pkgs/jupyter_contrib_nbextensions-0.2.6-py36_0/lib/python3.6/site-packages/jupyter_contrib_nbextensions/nbextensions/highlighter/export_highlights.pdf\n",
      "/Users/fonnescj/anaconda3/pkgs/jupyter_contrib_nbextensions-0.2.6-py36_0/lib/python3.6/site-packages/jupyter_contrib_nbextensions/nbextensions/highlighter/tst_highlights.pdf\n",
      "/Users/fonnescj/anaconda3/pkgs/jupyter_contrib_nbextensions-0.3.3-py36_0/lib/python3.6/site-packages/jupyter_contrib_nbextensions/nbconvert_support/__pycache__/pre_svg2pdf.cpython-36.pyc\n",
      "/Users/fonnescj/anaconda3/pkgs/jupyter_contrib_nbextensions-0.3.3-py36_0/lib/python3.6/site-packages/jupyter_contrib_nbextensions/nbconvert_support/pre_svg2pdf.py\n",
      "/Users/fonnescj/anaconda3/pkgs/jupyter_contrib_nbextensions-0.3.3-py36_0/lib/python3.6/site-packages/jupyter_contrib_nbextensions/nbextensions/highlighter/export_highlights.pdf\n",
      "/Users/fonnescj/anaconda3/pkgs/jupyter_contrib_nbextensions-0.3.3-py36_0/lib/python3.6/site-packages/jupyter_contrib_nbextensions/nbextensions/highlighter/tst_highlights.pdf\n",
      "/Users/fonnescj/anaconda3/pkgs/jupyter_contrib_nbextensions-0.4.0-py36_0/lib/python3.6/site-packages/jupyter_contrib_nbextensions/nbconvert_support/__pycache__/pre_svg2pdf.cpython-36.pyc\n",
      "/Users/fonnescj/anaconda3/pkgs/jupyter_contrib_nbextensions-0.4.0-py36_0/lib/python3.6/site-packages/jupyter_contrib_nbextensions/nbconvert_support/pre_svg2pdf.py\n",
      "/Users/fonnescj/anaconda3/pkgs/jupyter_contrib_nbextensions-0.4.0-py36_0/lib/python3.6/site-packages/jupyter_contrib_nbextensions/nbextensions/highlighter/export_highlights.pdf\n",
      "/Users/fonnescj/anaconda3/pkgs/jupyter_contrib_nbextensions-0.4.0-py36_0/lib/python3.6/site-packages/jupyter_contrib_nbextensions/nbextensions/highlighter/tst_highlights.pdf\n",
      "/Users/fonnescj/anaconda3/pkgs/jupyter_contrib_nbextensions-0.5.0-py36_0/lib/python3.6/site-packages/jupyter_contrib_nbextensions/nbconvert_support/__pycache__/pre_svg2pdf.cpython-36.pyc\n",
      "/Users/fonnescj/anaconda3/pkgs/jupyter_contrib_nbextensions-0.5.0-py36_0/lib/python3.6/site-packages/jupyter_contrib_nbextensions/nbconvert_support/pre_svg2pdf.py\n",
      "/Users/fonnescj/anaconda3/pkgs/jupyter_contrib_nbextensions-0.5.0-py36_0/lib/python3.6/site-packages/jupyter_contrib_nbextensions/nbextensions/highlighter/export_highlights.pdf\n",
      "/Users/fonnescj/anaconda3/pkgs/jupyter_contrib_nbextensions-0.5.0-py36_0/lib/python3.6/site-packages/jupyter_contrib_nbextensions/nbextensions/highlighter/tst_highlights.pdf\n",
      "/Users/fonnescj/anaconda3/pkgs/jupyter_contrib_nbextensions-0.5.1-py36_0/lib/python3.6/site-packages/jupyter_contrib_nbextensions/nbconvert_support/__pycache__/pre_svg2pdf.cpython-36.pyc\n",
      "/Users/fonnescj/anaconda3/pkgs/jupyter_contrib_nbextensions-0.5.1-py36_0/lib/python3.6/site-packages/jupyter_contrib_nbextensions/nbconvert_support/pre_svg2pdf.py\n",
      "/Users/fonnescj/anaconda3/pkgs/jupyter_contrib_nbextensions-0.5.1-py36_0/lib/python3.6/site-packages/jupyter_contrib_nbextensions/nbextensions/highlighter/export_highlights.pdf\n",
      "/Users/fonnescj/anaconda3/pkgs/jupyter_contrib_nbextensions-0.5.1-py36_0/lib/python3.6/site-packages/jupyter_contrib_nbextensions/nbextensions/highlighter/tst_highlights.pdf\n",
      "/Users/fonnescj/anaconda3/pkgs/jupyter_latex_envs-1.3.8.2-py35_1/lib/python3.5/site-packages/latex_envs/static/doc/documentation.pdf\n",
      "/Users/fonnescj/anaconda3/pkgs/jupyter_latex_envs-1.3.8.2-py36_1/lib/python3.6/site-packages/latex_envs/static/doc/documentation.pdf\n",
      "/Users/fonnescj/anaconda3/pkgs/jupyter_latex_envs-1.4.0-py36_1/lib/python3.6/site-packages/latex_envs/static/doc/documentation.pdf\n",
      "/Users/fonnescj/anaconda3/pkgs/jupyter_latex_envs-1.4.4-py36_0/lib/python3.6/site-packages/latex_envs/static/doc/documentation.pdf\n",
      "/Users/fonnescj/anaconda3/pkgs/jupyter_latex_envs-1.4.4-py36_1000/lib/python3.6/site-packages/latex_envs/static/doc/documentation.pdf\n",
      "/Users/fonnescj/anaconda3/pkgs/rise-5.0.0-py36_0/share/jupyter/nbextensions/rise/reveal.js/css/print/pdf.css\n",
      "/Users/fonnescj/anaconda3/pkgs/rise-5.0.0-py36_0/share/jupyter/nbextensions/rise/reveal.js/plugin/print-pdf\n",
      "/Users/fonnescj/anaconda3/pkgs/rise-5.0.0-py36_0/share/jupyter/nbextensions/rise/reveal.js/plugin/print-pdf/print-pdf.js\n",
      "/Users/fonnescj/anaconda3/pkgs/rise-5.0.0-py36_0/share/jupyter/nbextensions/rise/reveal.js/test/test-pdf.html\n",
      "/Users/fonnescj/anaconda3/pkgs/rise-5.0.0-py36_0/share/jupyter/nbextensions/rise/reveal.js/test/test-pdf.js\n",
      "/Users/fonnescj/anaconda3/pkgs/rise-5.4.1-py36_1000/share/jupyter/nbextensions/rise/reveal.js/css/print/pdf.css\n",
      "/Users/fonnescj/anaconda3/pkgs/rise-5.4.1-py36_1000/share/jupyter/nbextensions/rise/reveal.js/plugin/print-pdf\n",
      "/Users/fonnescj/anaconda3/pkgs/rise-5.4.1-py36_1000/share/jupyter/nbextensions/rise/reveal.js/plugin/print-pdf/print-pdf.js\n",
      "/Users/fonnescj/anaconda3/pkgs/rise-5.4.1-py36_1000/share/jupyter/nbextensions/rise/reveal.js/test/test-pdf.html\n",
      "/Users/fonnescj/anaconda3/pkgs/rise-5.4.1-py36_1000/share/jupyter/nbextensions/rise/reveal.js/test/test-pdf.js\n"
     ]
    }
   ],
   "source": [
    "!locate jupyter | grep pdf"
   ]
  },
  {
   "cell_type": "markdown",
   "metadata": {},
   "source": [
    "You can even use Python variables in commands sent to the OS:"
   ]
  },
  {
   "cell_type": "code",
   "execution_count": 15,
   "metadata": {},
   "outputs": [
    {
     "name": "stdout",
     "output_type": "stream",
     "text": [
      "images/414px-Jupyter_logo.svg.png images/ecosystem.png\n",
      "images/_olympics.png              images/edit_mode.png\n",
      "images/command_mode.png           images/ipython_architecture.png\n"
     ]
    }
   ],
   "source": [
    "file_type = 'png'\n",
    "!ls images/*$file_type"
   ]
  },
  {
   "cell_type": "markdown",
   "metadata": {},
   "source": [
    "The output of a system command using the exclamation point syntax can be assigned to a Python variable."
   ]
  },
  {
   "cell_type": "code",
   "execution_count": 16,
   "metadata": {},
   "outputs": [],
   "source": [
    "data_files = !ls images/"
   ]
  },
  {
   "cell_type": "code",
   "execution_count": 17,
   "metadata": {},
   "outputs": [
    {
     "data": {
      "text/plain": [
       "['414px-Jupyter_logo.svg.png',\n",
       " '_olympics.png',\n",
       " 'command_mode.png',\n",
       " 'ebola.jpg',\n",
       " 'ecosystem.png',\n",
       " 'edit_mode.png',\n",
       " 'ipython_architecture.png',\n",
       " 'radon.jpg']"
      ]
     },
     "execution_count": 17,
     "metadata": {},
     "output_type": "execute_result"
    }
   ],
   "source": [
    "data_files"
   ]
  },
  {
   "cell_type": "markdown",
   "metadata": {},
   "source": [
    "## Qt Console\n",
    "\n",
    "If you type at the system prompt:\n",
    "\n",
    "    $ ipython qtconsole\n",
    "\n",
    "instead of opening in a terminal, IPython will start a graphical console that at first sight appears just like a terminal, but which is in fact much more capable than a text-only terminal.  This is a specialized terminal designed for interactive scientific work, and it supports full multi-line editing with color highlighting and graphical calltips for functions, it can keep multiple IPython sessions open simultaneously in tabs, and when scripts run it can display the figures inline directly in the work area.\n",
    "\n",
    "![qtconsole](images/qtconsole.png)"
   ]
  },
  {
   "cell_type": "code",
   "execution_count": 18,
   "metadata": {},
   "outputs": [],
   "source": [
    "%qtconsole"
   ]
  },
  {
   "cell_type": "markdown",
   "metadata": {},
   "source": [
    "### Magic functions\n",
    "\n",
    "IPython has a set of predefined ‘magic functions’ that you can call with a command line style syntax. These include:\n",
    "\n",
    "* `%run`\n",
    "* `%edit`\n",
    "* `%debug`\n",
    "* `%timeit`\n",
    "* `%paste`\n",
    "* `%load_ext`\n",
    "\n"
   ]
  },
  {
   "cell_type": "code",
   "execution_count": null,
   "metadata": {},
   "outputs": [],
   "source": [
    "%lsmagic"
   ]
  },
  {
   "cell_type": "markdown",
   "metadata": {},
   "source": [
    "Timing the execution of code; the `timeit` magic exists both in line and cell form:"
   ]
  },
  {
   "cell_type": "code",
   "execution_count": null,
   "metadata": {},
   "outputs": [],
   "source": [
    "%timeit np.linalg.eigvals(np.random.rand(100,100))"
   ]
  },
  {
   "cell_type": "code",
   "execution_count": null,
   "metadata": {},
   "outputs": [],
   "source": [
    "%%timeit a = np.random.rand(100, 100)\n",
    "np.linalg.eigvals(a)"
   ]
  },
  {
   "cell_type": "markdown",
   "metadata": {},
   "source": [
    "IPython also creates aliases for a few common interpreters, such as bash, ruby, perl, etc.\n",
    "\n",
    "These are all equivalent to `%%script <name>`"
   ]
  },
  {
   "cell_type": "code",
   "execution_count": null,
   "metadata": {},
   "outputs": [],
   "source": [
    "%%ruby\n",
    "puts \"Hello from Ruby #{RUBY_VERSION}\""
   ]
  },
  {
   "cell_type": "code",
   "execution_count": null,
   "metadata": {},
   "outputs": [],
   "source": [
    "%%bash\n",
    "echo \"hello from $BASH\""
   ]
  },
  {
   "cell_type": "markdown",
   "metadata": {},
   "source": [
    "IPython has an `rmagic` extension that contains a some magic functions for working with R via rpy2. This extension can be loaded using the `%load_ext` magic as follows:"
   ]
  },
  {
   "cell_type": "code",
   "execution_count": null,
   "metadata": {},
   "outputs": [],
   "source": [
    "%load_ext rpy2.ipython"
   ]
  },
  {
   "cell_type": "markdown",
   "metadata": {},
   "source": [
    "If the above generates an error, it is likely that you do not have the `rpy2` module installed. You can install this now via:"
   ]
  },
  {
   "cell_type": "code",
   "execution_count": null,
   "metadata": {},
   "outputs": [],
   "source": [
    "!pip install rpy2"
   ]
  },
  {
   "cell_type": "code",
   "execution_count": null,
   "metadata": {},
   "outputs": [],
   "source": [
    "x,y = np.arange(10), np.random.normal(size=10)\n",
    "%R print(lm(rnorm(10)~rnorm(10)))"
   ]
  },
  {
   "cell_type": "code",
   "execution_count": null,
   "metadata": {},
   "outputs": [],
   "source": [
    "%%R -i x,y -o XYcoef\n",
    "lm.fit <- lm(y~x)\n",
    "par(mfrow=c(2,2))\n",
    "print(summary(lm.fit))\n",
    "plot(lm.fit)\n",
    "XYcoef <- coef(lm.fit)"
   ]
  },
  {
   "cell_type": "code",
   "execution_count": null,
   "metadata": {},
   "outputs": [],
   "source": [
    "XYcoef"
   ]
  },
  {
   "cell_type": "markdown",
   "metadata": {},
   "source": [
    "## Interactive Plotting\n",
    "\n",
    "Any plots generated by the Python kernel can be redirected to appear **inline**, in an output cell. Here is an example using Matplotlib:"
   ]
  },
  {
   "cell_type": "code",
   "execution_count": 19,
   "metadata": {
    "scrolled": true
   },
   "outputs": [
    {
     "data": {
      "text/plain": [
       "[<matplotlib.lines.Line2D at 0x10f539080>]"
      ]
     },
     "execution_count": 19,
     "metadata": {},
     "output_type": "execute_result"
    },
    {
     "data": {
      "image/png": "[encoded data removed]",
      "text/plain": [
       "<Figure size 432x288 with 1 Axes>"
      ]
     },
     "metadata": {},
     "output_type": "display_data"
    }
   ],
   "source": [
    "%matplotlib inline\n",
    "import matplotlib.pyplot as plt\n",
    "plt.style.use('fivethirtyeight')\n",
    "\n",
    "def f(x):\n",
    "    return (x-3)*(x-5)*(x-7)+85\n",
    "\n",
    "import numpy as np\n",
    "x = np.linspace(0, 10, 200)\n",
    "y = f(x)\n",
    "plt.plot(x,y)"
   ]
  },
  {
   "cell_type": "markdown",
   "metadata": {},
   "source": [
    "### Bokeh\n",
    "\n",
    "Matplotlib will be your workhorse for creating plots in notebooks. But it's not the only game in town! A recent new player is [**Bokeh**](http://nbviewer.jupyter.org/github/bokeh/bokeh-notebooks/blob/master/index.ipynb), a visualization library to make amazing interactive plots and share them online. It can also handle very large data sets with excellent performance.\n",
    "\n",
    "If you installed **Anaconda** in your system, you will probably already have **Bokeh**. You can check if it's there by running the `conda list` command. If you installed **Miniconda**, you will need to install it with `conda install bokeh`.\n",
    "\n",
    "After installing **Bokeh**, we have many modules available: [`bokeh.plotting`](http://bokeh.pydata.org/en/latest/docs/reference/plotting.html#bokeh-plotting) gives you the ability to create interactive figures with zoom, pan, resize, save, and other tools."
   ]
  },
  {
   "cell_type": "code",
   "execution_count": 20,
   "metadata": {},
   "outputs": [],
   "source": [
    "from bokeh import plotting as bplotting"
   ]
  },
  {
   "cell_type": "markdown",
   "metadata": {},
   "source": [
    "**Bokeh** integrates with Jupyter notebooks by calling the output function, as follows:"
   ]
  },
  {
   "cell_type": "code",
   "execution_count": 21,
   "metadata": {},
   "outputs": [
    {
     "data": {
      "text/html": [
       "\n",
       "    <div class=\"bk-root\">\n",
       "        <a href=\"http://bokeh.pydata.org\" target=\"_blank\" class=\"bk-logo bk-logo-small bk-logo-notebook\"></a>\n",
       "        <span id=\"ad883c96-4fa2-4eaa-985b-35c0f0632847\">Loading BokehJS ...</span>\n",
       "    </div>"
      ]
     },
     "metadata": {},
     "output_type": "display_data"
    },
    {
     "data": {
      "application/javascript": [
       "\n",
       "(function(global) {\n",
       "  function now() {\n",
       "    return new Date();\n",
       "  }\n",
       "\n",
       "  var force = true;\n",
       "\n",
       "  if (typeof (window._bokeh_onload_callbacks) === \"undefined\" || force === true) {\n",
       "    window._bokeh_onload_callbacks = [];\n",
       "    window._bokeh_is_loading = undefined;\n",
       "  }\n",
       "\n",
       "\n",
       "  \n",
       "  if (typeof (window._bokeh_timeout) === \"undefined\" || force === true) {\n",
       "    window._bokeh_timeout = Date.now() + 5000;\n",
       "    window._bokeh_failed_load = false;\n",
       "  }\n",
       "\n",
       "  var NB_LOAD_WARNING = {'data': {'text/html':\n",
       "     \"<div style='background-color: #fdd'>\\n\"+\n",
       "     \"<p>\\n\"+\n",
       "     \"BokehJS does not appear to have successfully loaded. If loading BokehJS from CDN, this \\n\"+\n",
       "     \"may be due to a slow or bad network connection. Possible fixes:\\n\"+\n",
       "     \"</p>\\n\"+\n",
       "     \"<ul>\\n\"+\n",
       "     \"<li>re-rerun `output_notebook()` to attempt to load from CDN again, or</li>\\n\"+\n",
       "     \"<li>use INLINE resources instead, as so:</li>\\n\"+\n",
       "     \"</ul>\\n\"+\n",
       "     \"<code>\\n\"+\n",
       "     \"from bokeh.resources import INLINE\\n\"+\n",
       "     \"output_notebook(resources=INLINE)\\n\"+\n",
       "     \"</code>\\n\"+\n",
       "     \"</div>\"}};\n",
       "\n",
       "  function display_loaded() {\n",
       "    if (window.Bokeh !== undefined) {\n",
       "      document.getElementById(\"ad883c96-4fa2-4eaa-985b-35c0f0632847\").textContent = \"BokehJS successfully loaded.\";\n",
       "    } else if (Date.now() < window._bokeh_timeout) {\n",
       "      setTimeout(display_loaded, 100)\n",
       "    }\n",
       "  }\n",
       "\n",
       "  function run_callbacks() {\n",
       "    window._bokeh_onload_callbacks.forEach(function(callback) { callback() });\n",
       "    delete window._bokeh_onload_callbacks\n",
       "    console.info(\"Bokeh: all callbacks have finished\");\n",
       "  }\n",
       "\n",
       "  function load_libs(js_urls, callback) {\n",
       "    window._bokeh_onload_callbacks.push(callback);\n",
       "    if (window._bokeh_is_loading > 0) {\n",
       "      console.log(\"Bokeh: BokehJS is being loaded, scheduling callback at\", now());\n",
       "      return null;\n",
       "    }\n",
       "    if (js_urls == null || js_urls.length === 0) {\n",
       "      run_callbacks();\n",
       "      return null;\n",
       "    }\n",
       "    console.log(\"Bokeh: BokehJS not loaded, scheduling load and callback at\", now());\n",
       "    window._bokeh_is_loading = js_urls.length;\n",
       "    for (var i = 0; i < js_urls.length; i++) {\n",
       "      var url = js_urls[i];\n",
       "      var s = document.createElement('script');\n",
       "      s.src = url;\n",
       "      s.async = false;\n",
       "      s.onreadystatechange = s.onload = function() {\n",
       "        window._bokeh_is_loading--;\n",
       "        if (window._bokeh_is_loading === 0) {\n",
       "          console.log(\"Bokeh: all BokehJS libraries loaded\");\n",
       "          run_callbacks()\n",
       "        }\n",
       "      };\n",
       "      s.onerror = function() {\n",
       "        console.warn(\"failed to load library \" + url);\n",
       "      };\n",
       "      console.log(\"Bokeh: injecting script tag for BokehJS library: \", url);\n",
       "      document.getElementsByTagName(\"head\")[0].appendChild(s);\n",
       "    }\n",
       "  };var element = document.getElementById(\"ad883c96-4fa2-4eaa-985b-35c0f0632847\");\n",
       "  if (element == null) {\n",
       "    console.log(\"Bokeh: ERROR: autoload.js configured with elementid 'ad883c96-4fa2-4eaa-985b-35c0f0632847' but no matching script tag was found. \")\n",
       "    return false;\n",
       "  }\n",
       "\n",
       "  var js_urls = [\"https://cdn.pydata.org/bokeh/release/bokeh-0.12.4.min.js\", \"https://cdn.pydata.org/bokeh/release/bokeh-widgets-0.12.4.min.js\"];\n",
       "\n",
       "  var inline_js = [\n",
       "    function(Bokeh) {\n",
       "      Bokeh.set_log_level(\"info\");\n",
       "    },\n",
       "    \n",
       "    function(Bokeh) {\n",
       "      \n",
       "      document.getElementById(\"ad883c96-4fa2-4eaa-985b-35c0f0632847\").textContent = \"BokehJS is loading...\";\n",
       "\n",
       "    },\n",
       "    function(Bokeh) {\n",
       "      console.log(\"Bokeh: injecting CSS: https://cdn.pydata.org/bokeh/release/bokeh-0.12.4.min.css\");\n",
       "      Bokeh.embed.inject_css(\"https://cdn.pydata.org/bokeh/release/bokeh-0.12.4.min.css\");\n",
       "      console.log(\"Bokeh: injecting CSS: https://cdn.pydata.org/bokeh/release/bokeh-widgets-0.12.4.min.css\");\n",
       "      Bokeh.embed.inject_css(\"https://cdn.pydata.org/bokeh/release/bokeh-widgets-0.12.4.min.css\");\n",
       "    }\n",
       "  ];\n",
       "\n",
       "  function run_inline_js() {\n",
       "    \n",
       "    if ((window.Bokeh !== undefined) || (force === true)) {\n",
       "      for (var i = 0; i < inline_js.length; i++) {\n",
       "        inline_js[i](window.Bokeh);\n",
       "      }if (force === true) {\n",
       "        display_loaded();\n",
       "      }} else if (Date.now() < window._bokeh_timeout) {\n",
       "      setTimeout(run_inline_js, 100);\n",
       "    } else if (!window._bokeh_failed_load) {\n",
       "      console.log(\"Bokeh: BokehJS failed to load within specified timeout.\");\n",
       "      window._bokeh_failed_load = true;\n",
       "    } else if (force !== true) {\n",
       "      var cell = $(document.getElementById(\"ad883c96-4fa2-4eaa-985b-35c0f0632847\")).parents('.cell').data().cell;\n",
       "      cell.output_area.append_execute_result(NB_LOAD_WARNING)\n",
       "    }\n",
       "\n",
       "  }\n",
       "\n",
       "  if (window._bokeh_is_loading === 0) {\n",
       "    console.log(\"Bokeh: BokehJS loaded, going straight to plotting\");\n",
       "    run_inline_js();\n",
       "  } else {\n",
       "    load_libs(js_urls, function() {\n",
       "      console.log(\"Bokeh: BokehJS plotting callback run at\", now());\n",
       "      run_inline_js();\n",
       "    });\n",
       "  }\n",
       "}(this));"
      ]
     },
     "metadata": {},
     "output_type": "display_data"
    }
   ],
   "source": [
    "bplotting.output_notebook()"
   ]
  },
  {
   "cell_type": "code",
   "execution_count": 22,
   "metadata": {},
   "outputs": [],
   "source": [
    "import numpy\n",
    "# Get an array of 100 evenly spaced points from 0 to 2*pi\n",
    "x = np.linspace(0.0, 2.0 * numpy.pi, 100)\n",
    "\n",
    "# Make a pointwise function of x with exp(sin(x))\n",
    "y = np.exp(np.sin(x))\n",
    "\n",
    "deriv_exact = y * np.cos(x) # analytical derivative"
   ]
  },
  {
   "cell_type": "code",
   "execution_count": 23,
   "metadata": {},
   "outputs": [],
   "source": [
    "def forward_diff(y, x):\n",
    "    \"\"\"Compute derivative by forward differencing.\"\"\"\n",
    "\n",
    "    # Use numpy.empty to make an empty array to put our derivatives in\n",
    "    deriv = numpy.empty(y.size - 1)\n",
    "\n",
    "    # Use a for-loop to go through each point and compute the derivative.\n",
    "    for i in range(deriv.size):\n",
    "        deriv[i] = (y[i+1] - y[i]) / (x[i+1] - x[i])\n",
    "        \n",
    "    # Return the derivative (a NumPy array)\n",
    "    return deriv\n",
    "        \n",
    "# Call the function to perform finite differencing\n",
    "deriv = forward_diff(y, x)"
   ]
  },
  {
   "cell_type": "code",
   "execution_count": 24,
   "metadata": {},
   "outputs": [
    {
     "data": {
      "text/html": [
       "\n",
       "\n",
       "    <div class=\"bk-root\">\n",
       "        <div class=\"bk-plotdiv\" id=\"f391fec4-fc2b-4c22-9190-a45a9334bf95\"></div>\n",
       "    </div>\n",
       "<script type=\"text/javascript\">\n",
       "  \n",
       "  (function(global) {\n",
       "    function now() {\n",
       "      return new Date();\n",
       "    }\n",
       "\n",
       "    var force = false;\n",
       "\n",
       "    if (typeof (window._bokeh_onload_callbacks) === \"undefined\" || force === true) {\n",
       "      window._bokeh_onload_callbacks = [];\n",
       "      window._bokeh_is_loading = undefined;\n",
       "    }\n",
       "\n",
       "\n",
       "    \n",
       "    if (typeof (window._bokeh_timeout) === \"undefined\" || force === true) {\n",
       "      window._bokeh_timeout = Date.now() + 0;\n",
       "      window._bokeh_failed_load = false;\n",
       "    }\n",
       "\n",
       "    var NB_LOAD_WARNING = {'data': {'text/html':\n",
       "       \"<div style='background-color: #fdd'>\\n\"+\n",
       "       \"<p>\\n\"+\n",
       "       \"BokehJS does not appear to have successfully loaded. If loading BokehJS from CDN, this \\n\"+\n",
       "       \"may be due to a slow or bad network connection. Possible fixes:\\n\"+\n",
       "       \"</p>\\n\"+\n",
       "       \"<ul>\\n\"+\n",
       "       \"<li>re-rerun `output_notebook()` to attempt to load from CDN again, or</li>\\n\"+\n",
       "       \"<li>use INLINE resources instead, as so:</li>\\n\"+\n",
       "       \"</ul>\\n\"+\n",
       "       \"<code>\\n\"+\n",
       "       \"from bokeh.resources import INLINE\\n\"+\n",
       "       \"output_notebook(resources=INLINE)\\n\"+\n",
       "       \"</code>\\n\"+\n",
       "       \"</div>\"}};\n",
       "\n",
       "    function display_loaded() {\n",
       "      if (window.Bokeh !== undefined) {\n",
       "        document.getElementById(\"f391fec4-fc2b-4c22-9190-a45a9334bf95\").textContent = \"BokehJS successfully loaded.\";\n",
       "      } else if (Date.now() < window._bokeh_timeout) {\n",
       "        setTimeout(display_loaded, 100)\n",
       "      }\n",
       "    }\n",
       "\n",
       "    function run_callbacks() {\n",
       "      window._bokeh_onload_callbacks.forEach(function(callback) { callback() });\n",
       "      delete window._bokeh_onload_callbacks\n",
       "      console.info(\"Bokeh: all callbacks have finished\");\n",
       "    }\n",
       "\n",
       "    function load_libs(js_urls, callback) {\n",
       "      window._bokeh_onload_callbacks.push(callback);\n",
       "      if (window._bokeh_is_loading > 0) {\n",
       "        console.log(\"Bokeh: BokehJS is being loaded, scheduling callback at\", now());\n",
       "        return null;\n",
       "      }\n",
       "      if (js_urls == null || js_urls.length === 0) {\n",
       "        run_callbacks();\n",
       "        return null;\n",
       "      }\n",
       "      console.log(\"Bokeh: BokehJS not loaded, scheduling load and callback at\", now());\n",
       "      window._bokeh_is_loading = js_urls.length;\n",
       "      for (var i = 0; i < js_urls.length; i++) {\n",
       "        var url = js_urls[i];\n",
       "        var s = document.createElement('script');\n",
       "        s.src = url;\n",
       "        s.async = false;\n",
       "        s.onreadystatechange = s.onload = function() {\n",
       "          window._bokeh_is_loading--;\n",
       "          if (window._bokeh_is_loading === 0) {\n",
       "            console.log(\"Bokeh: all BokehJS libraries loaded\");\n",
       "            run_callbacks()\n",
       "          }\n",
       "        };\n",
       "        s.onerror = function() {\n",
       "          console.warn(\"failed to load library \" + url);\n",
       "        };\n",
       "        console.log(\"Bokeh: injecting script tag for BokehJS library: \", url);\n",
       "        document.getElementsByTagName(\"head\")[0].appendChild(s);\n",
       "      }\n",
       "    };var element = document.getElementById(\"f391fec4-fc2b-4c22-9190-a45a9334bf95\");\n",
       "    if (element == null) {\n",
       "      console.log(\"Bokeh: ERROR: autoload.js configured with elementid 'f391fec4-fc2b-4c22-9190-a45a9334bf95' but no matching script tag was found. \")\n",
       "      return false;\n",
       "    }\n",
       "\n",
       "    var js_urls = [];\n",
       "\n",
       "    var inline_js = [\n",
       "      function(Bokeh) {\n",
       "        (function() {\n",
       "          var fn = function() {\n",
       "            var docs_json = {\"563ea9e7-9ad2-497e-a9b4-094236e47df6\":{\"roots\":{\"references\":[{\"attributes\":{\"below\":[{\"id\":\"c2bc92c6-b927-4878-9da8-1bcfc389231c\",\"type\":\"LinearAxis\"}],\"left\":[{\"id\":\"a9c2e426-c7bb-4db3-88e8-5bb89fe616cc\",\"type\":\"LinearAxis\"}],\"renderers\":[{\"id\":\"c2bc92c6-b927-4878-9da8-1bcfc389231c\",\"type\":\"LinearAxis\"},{\"id\":\"75ccb247-9aa0-4765-b455-54b5db1e790b\",\"type\":\"Grid\"},{\"id\":\"a9c2e426-c7bb-4db3-88e8-5bb89fe616cc\",\"type\":\"LinearAxis\"},{\"id\":\"bf880b15-96f4-4b2e-9889-dc6b80374f06\",\"type\":\"Grid\"},{\"id\":\"62ae025a-3867-4483-bb54-dc9931c7b6a8\",\"type\":\"BoxAnnotation\"},{\"id\":\"c99d2949-68eb-4559-8b63-32b49e7e1699\",\"type\":\"Legend\"},{\"id\":\"991eaf5e-818c-4878-b8ca-96d9c118d2d8\",\"type\":\"GlyphRenderer\"},{\"id\":\"805e8131-2495-46e9-82f2-59e6adf460be\",\"type\":\"GlyphRenderer\"}],\"title\":{\"id\":\"15f087e9-f6bf-478e-8bce-de66e7840d86\",\"type\":\"Title\"},\"tool_events\":{\"id\":\"7e403f52-1062-4e76-88f9-ac718c757d05\",\"type\":\"ToolEvents\"},\"toolbar\":{\"id\":\"2f19461c-8646-46b9-85ff-bf3f989ccefd\",\"type\":\"Toolbar\"},\"x_range\":{\"id\":\"dab4e33b-3426-41eb-a2f8-f585b5f9f4cd\",\"type\":\"DataRange1d\"},\"y_range\":{\"id\":\"9b717b6e-54a2-4ef2-9326-194579f50a44\",\"type\":\"DataRange1d\"}},\"id\":\"d480231c-522c-4351-b255-974f58e2e551\",\"subtype\":\"Figure\",\"type\":\"Plot\"},{\"attributes\":{\"label\":{\"value\":\"analytical\"},\"renderers\":[{\"id\":\"991eaf5e-818c-4878-b8ca-96d9c118d2d8\",\"type\":\"GlyphRenderer\"}]},\"id\":\"e4891906-5757-415d-a8c9-8f33256053c7\",\"type\":\"LegendItem\"},{\"attributes\":{\"plot\":null,\"text\":\"Derivative of exp(sin(x))\",\"text_font\":\"palatino\"},\"id\":\"15f087e9-f6bf-478e-8bce-de66e7840d86\",\"type\":\"Title\"},{\"attributes\":{},\"id\":\"7e403f52-1062-4e76-88f9-ac718c757d05\",\"type\":\"ToolEvents\"},{\"attributes\":{\"data_source\":{\"id\":\"9db9778e-1a73-4ad5-908d-fac178bdf57f\",\"type\":\"ColumnDataSource\"},\"glyph\":{\"id\":\"c2833b8e-5fc4-4372-b539-569008adc188\",\"type\":\"Line\"},\"hover_glyph\":null,\"nonselection_glyph\":{\"id\":\"ecf837aa-d579-42bf-8d82-41675c07db53\",\"type\":\"Line\"},\"selection_glyph\":null},\"id\":\"991eaf5e-818c-4878-b8ca-96d9c118d2d8\",\"type\":\"GlyphRenderer\"},{\"attributes\":{\"callback\":null},\"id\":\"dab4e33b-3426-41eb-a2f8-f585b5f9f4cd\",\"type\":\"DataRange1d\"},{\"attributes\":{\"active_drag\":\"auto\",\"active_scroll\":\"auto\",\"active_tap\":\"auto\",\"tools\":[{\"id\":\"9f5ae4cb-6deb-4dd5-84b6-b74fc2522126\",\"type\":\"PanTool\"},{\"id\":\"8363faf4-ada1-42da-b76a-e5186705fc93\",\"type\":\"WheelZoomTool\"},{\"id\":\"0def4c1c-5c65-445d-b2d9-b9671aeba319\",\"type\":\"BoxZoomTool\"},{\"id\":\"7accb816-54af-4d01-b551-706253c216fa\",\"type\":\"SaveTool\"},{\"id\":\"279dc261-d437-43a8-b9f3-8e3e9f2fa950\",\"type\":\"ResetTool\"},{\"id\":\"7cfe96e7-54ca-4457-899f-b59fe476c705\",\"type\":\"HelpTool\"}]},\"id\":\"2f19461c-8646-46b9-85ff-bf3f989ccefd\",\"type\":\"Toolbar\"},{\"attributes\":{\"dimension\":1,\"grid_line_alpha\":{\"value\":0.3},\"plot\":{\"id\":\"d480231c-522c-4351-b255-974f58e2e551\",\"subtype\":\"Figure\",\"type\":\"Plot\"},\"ticker\":{\"id\":\"fd80486b-90fc-44e3-8d0b-ed4908ef4d9f\",\"type\":\"BasicTicker\"}},\"id\":\"bf880b15-96f4-4b2e-9889-dc6b80374f06\",\"type\":\"Grid\"},{\"attributes\":{\"bottom_units\":\"screen\",\"fill_alpha\":{\"value\":0.5},\"fill_color\":{\"value\":\"lightgrey\"},\"left_units\":\"screen\",\"level\":\"overlay\",\"line_alpha\":{\"value\":1.0},\"line_color\":{\"value\":\"black\"},\"line_dash\":[4,4],\"line_width\":{\"value\":2},\"plot\":null,\"render_mode\":\"css\",\"right_units\":\"screen\",\"top_units\":\"screen\"},\"id\":\"62ae025a-3867-4483-bb54-dc9931c7b6a8\",\"type\":\"BoxAnnotation\"},{\"attributes\":{\"plot\":{\"id\":\"d480231c-522c-4351-b255-974f58e2e551\",\"subtype\":\"Figure\",\"type\":\"Plot\"}},\"id\":\"8363faf4-ada1-42da-b76a-e5186705fc93\",\"type\":\"WheelZoomTool\"},{\"attributes\":{\"callback\":null,\"column_names\":[\"x\",\"y\"],\"data\":{\"x\":{\"__ndarray__\":\"AAAAAAAAAACRGkt8Vz+wP5EaS3xXP8A/2qdwOgNfyD+RGkt8Vz/QPzXhXVstT9Q/2qdwOgNf2D9+boMZ2W7cP5EaS3xXP+A/433Ua0JH4j814V1bLU/kP4dE50oYV+Y/2qdwOgNf6D8sC/op7mbqP35ugxnZbuw/0NEMCcR27j+RGkt8Vz/wPzrMD/RMQ/E/433Ua0JH8j+ML5njN0vzPzXhXVstT/Q/3pIi0yJT9T+HROdKGFf2PzD2q8INW/c/2qdwOgNf+D+DWTWy+GL5PywL+inuZvo/1by+oeNq+z9+boMZ2W78PycgSJHOcv0/0NEMCcR2/j95g9GAuXr/P5EaS3xXPwBAZnMtOFLBAEA6zA/0TEMBQA8l8q9HxQFA433Ua0JHAkC41rYnPckCQIwvmeM3SwNAYYh7nzLNA0A14V1bLU8EQAo6QBco0QRA3pIi0yJTBUCz6wSPHdUFQIdE50oYVwZAXJ3JBhPZBkAw9qvCDVsHQAVPjn4I3QdA2qdwOgNfCECuAFP2/eAIQINZNbL4YglAV7IXbvPkCUAsC/op7mYKQABk3OXo6ApA1by+oeNqC0CpFaFd3uwLQH5ugxnZbgxAUsdl1dPwDEAnIEiRznINQPt4Kk3J9A1A0NEMCcR2DkCkKu/EvvgOQHmD0YC5eg9ATdyzPLT8D0CRGkt8Vz8QQPtGPNpUgBBAZnMtOFLBEEDQnx6WTwIRQDrMD/RMQxFApPgAUkqEEUAPJfKvR8URQHlR4w1FBhJA433Ua0JHEkBNqsXJP4gSQLjWtic9yRJAIgOohToKE0CML5njN0sTQPZbikE1jBNAYYh7nzLNE0DLtGz9Lw4UQDXhXVstTxRAoA1PuSqQFEAKOkAXKNEUQHRmMXUlEhVA3pIi0yJTFUBJvxMxIJQVQLPrBI8d1RVAHRj27BoWFkCHROdKGFcWQPJw2KgVmBZAXJ3JBhPZFkDGybpkEBoXQDD2q8INWxdAmyKdIAucF0AFT45+CN0XQG97f9wFHhhA2qdwOgNfGEBE1GGYAKAYQK4AU/b94BhAGC1EVPshGUA=\",\"dtype\":\"float64\",\"shape\":[100]},\"y\":{\"__ndarray__\":\"AAAAAAAA8D8SmKu+aQPxP4xg7XRfA/I/NPbh9u/78j8Q8vJjpejzP2uj2ZGOxPQ/kRWu406K9T9eLKIfNTT2P1wHeI5ZvPY/0JUiU8Mc9z+4qeB5lE/3P/hwZ8E7T/c/YFuWnaoW9z/L9BNzjaH2P1oGFJmD7PU/KjsjVlT19D8DfZbZHbvzP3Bt9C57PvI/XOpDWp6B8D/85tNsuBDtPxcJCJ9QsOg/bp/dhf/v4z/nYfiCDMHdPwBrLjcBKtM/dHb1MXOJwD/DR+TOLhSmvzK7sUzWfMu/Wd8rhP6B2L9zgJLTAnHhv/ZLkLQoW+a/sE7qCnPt6r9W5YWPeBjvvzRTpZXgZ/G/WghSqgAF879u+keamWD0v5bWMkpHefW/0AWPLTFP9r+x3vrp6eP2v7H1PIJEOve/3v3i+SFW978kYmF4Ojz3vyy/xdXk8fa/07PhM9989r8V6BfgGuP1v9C/Zj+NKvW/z7JnAwdZ9L+bEgNmEnTzvzOe6LLYgPK/J6CH/w6E8b/3tPmf6YHwv64+MVUr/O6/g8HPaG/37L/BIYS43frqv9pQEm62Cum/FrgwcU0q579pVtCQH1zlvwY0yZTpoeO/8i/YAsD84b9TsqqdJm3gvyFQLL1N5t2/Rsanv8kc27/yAeq3ZHzYv0krux0/A9a/6jqAyROv07+2ljD5UH3Rv6wxsVha1s6/WHz8QXDryr+/0zqX0DPHv5X0oFpKqcO/cnDI3J1FwL/NNamKDgW6v7iVDWWKs7O/ytD9o3AUq79lTfQMvPKdv2/WsxIP6Xe/X4+WRODxkT+jZMhMgQGlP+RTTv6hmrA/YsTwF3/Wtj9YiwEOyEC9P1LMtyD98sE/C5fqEk5pxT9jxoWvmQnJP76bT+QZ2sw/itF9enlw0D+ZPwTSEJLSP7/l/76x1NQ/SqpGPgw71z/yQT+hjsfZP1GAQaVOfNw/XgcaRu5a3z+CkVIWPjLhPwym6OKnzOI/0K60o3B85D9fMuMXz0DmP43eD5JdGOg/N4HLOgIB6j8VC2OC1/frP2heC9kV+e0//v//////7z8=\",\"dtype\":\"float64\",\"shape\":[100]}}},\"id\":\"9db9778e-1a73-4ad5-908d-fac178bdf57f\",\"type\":\"ColumnDataSource\"},{\"attributes\":{},\"id\":\"89301187-8601-4d10-a88b-2d25d14626b5\",\"type\":\"BasicTicker\"},{\"attributes\":{\"items\":[{\"id\":\"e4891906-5757-415d-a8c9-8f33256053c7\",\"type\":\"LegendItem\"},{\"id\":\"84f79e66-b7b6-4f30-81ef-40fa777c066d\",\"type\":\"LegendItem\"}],\"plot\":{\"id\":\"d480231c-522c-4351-b255-974f58e2e551\",\"subtype\":\"Figure\",\"type\":\"Plot\"}},\"id\":\"c99d2949-68eb-4559-8b63-32b49e7e1699\",\"type\":\"Legend\"},{\"attributes\":{\"callback\":null,\"column_names\":[\"x\",\"y\"],\"data\":{\"x\":{\"__ndarray__\":\"kRpLfFc/oD/ap3A6A1+4PzbhXVstT8Q/fm6DGdluzD/jfdRrQkfSP4hE50oYV9Y/LAv6Ke5m2j/Q0QwJxHbePzrMD/RMQ+E/jC+Z4zdL4z/ekiLTIlPlPzD2q8INW+c/g1k1svhi6T/VvL6h42rrPycgSJHOcu0/eYPRgLl67z9mcy04UsHwPw4l8q9HxfE/uNa2Jz3J8j9giHufMs3zPwo6QBco0fQ/susEjx3V9T9cnckGE9n2PwVPjn4I3fc/rgBT9v3g+D9Yshdu8+T5PwBk3OXo6Po/qhWhXd7s+z9Sx2XV0/D8P/x4Kk3J9P0/pCrvxL74/j9O3LM8tPz/P/xGPNpUgABA0J8elk8CAUCk+ABSSoQBQHlR4w1FBgJATqrFyT+IAkAiA6iFOgoDQPZbikE1jANAy7Rs/S8OBECgDU+5KpAEQHRmMXUlEgVASL8TMSCUBUAdGPbsGhYGQPJw2KgVmAZAxsm6ZBAaB0CaIp0gC5wHQHB7f9wFHghARNRhmACgCEAYLURU+yEJQO2FJhD2owlAwt4IzPAlCkCWN+uH66cKQGqQzUPmKQtAP+mv/+CrC0AUQpK72y0MQOiadHfWrwxAvPNWM9ExDUCRTDnvy7MNQGalG6vGNQ5AOv79ZsG3DkAOV+AivDkPQOOvwt62uw9AXIRSzdgeEEDGsEMr1l8QQDDdNInToBBAmwkm59DhEEAFNhdFziIRQG9iCKPLYxFA2o75AMmkEUBEu+pexuURQK7n27zDJhJAGBTNGsFnEkCCQL54vqgSQO1sr9a76RJAV5mgNLkqE0DBxZGStmsTQCzygvCzrBNAlh50TrHtE0AAS2Wsri4UQGp3VgqsbxRA1aNHaKmwFEA/0DjGpvEUQKn8KSSkMhVAFCkbgqFzFUB+VQzgnrQVQOiB/T2c9RVAUq7um5k2FkC82t/5lncWQCcH0VeUuBZAkTPCtZH5FkD7X7MTjzoXQGaMpHGMexdA0LiVz4m8F0A65YYth/0XQKQReIuEPhhADz5p6YF/GEB5alpHf8AYQOOWS6V8ARlA\",\"dtype\":\"float64\",\"shape\":[99]},\"y\":{\"__ndarray__\":\"qiqfFtiB8D9K1gs/1oPxP4j0xBRzgPI/kIk8iHpz8z/EFkkJOFj0P5HxjRmDKfU/KdFOmdLh9T8mJ1Q/V3v2P4/rTVod8PY/10X0kzU69z/l37b341P3PzHiLf7TN/c/4RwJ3E/h9j82uSbZeEz2PzxTPQ5+dvU/B6nMoM5d9D9P1Y14RALzP73H1n9EZfE/uBWKnKMT7z/7VddFI+nqP+lnuJh9V+Y/b7Mf/hdu4T8SSwdc1n3YPx2ZtygieMs/26HJ8mMQpj+f0RnxnIbAv2rQXd+8JtO/lzuptQi83b/o7qNksezjvwEP93RPrOi/tFov8SEM7b9evaXmGH/wvyld2NnMO/K/OUjJIli487/bqHw9iPL0v/6sEgbB6fW/afVAtuKe9r9J9h8QJBT3v28ZAYXjTPe/Dpy1WHJN97/kzrC93Br3vwIGnLOxuva/RDQJGs0y9r9rIlD3JYn1v7B2/XOiw/S/kEKEiPLn879BznTecfvyv+K7kPcQA/K/r46PUEUD8b8HPrbb///vv99n/xxT+e2/LyG1R0f4679VhsBBmgHqvxQxC24UGei/szjxSpxB5r9jDverTH3kvzQ5YTyMzeK/wJaHMyUz4b99ZLe9uFzfv+NcrboNfty/W1VSNDzJ2b/WLpt/ozzXv1if/AAv1tS/QOY7W3GT0r8DNa5au3HQvxz6arVd3My/Xjho8JsLyb9gmlHgDWvFvz/hCB969MG/iUooaTxDvb/9Pqw2bti2v1kHgXEMnLC/tQt4+E0Dpb+m///OavORv6O5KAod63c/PCej1U31nT+C9rpMwRarP9j5JBs3tbM/7RL7NkAHuj8bI+Fu+UbAP+hIV8XoqsM/+ogisbE1xz+kEeFxk+3KP83HwGO+2M4/W+fwYKJ+0T/P/Lz4grDTP8H6yMTJBNY/+BLWqAd+2D/TI8XBgB7bP+H4l14T6N0/Rqb9UA1u4D8YFvNgpv3hP7rGeobKouM/IpXCDvVc5T97A914ECvnP3pVq/5eC+k/3AFB2mL76j+NWRlBx/fsP5UgH0pL/O4/\",\"dtype\":\"float64\",\"shape\":[99]}}},\"id\":\"b589a972-9f1a-494b-a3ff-a66347d0f511\",\"type\":\"ColumnDataSource\"},{\"attributes\":{\"axis_label\":\"x\",\"formatter\":{\"id\":\"ee34647c-ed4e-47d9-862e-1c8bb73b4f18\",\"type\":\"BasicTickFormatter\"},\"plot\":{\"id\":\"d480231c-522c-4351-b255-974f58e2e551\",\"subtype\":\"Figure\",\"type\":\"Plot\"},\"ticker\":{\"id\":\"89301187-8601-4d10-a88b-2d25d14626b5\",\"type\":\"BasicTicker\"}},\"id\":\"c2bc92c6-b927-4878-9da8-1bcfc389231c\",\"type\":\"LinearAxis\"},{\"attributes\":{\"grid_line_alpha\":{\"value\":0.3},\"plot\":{\"id\":\"d480231c-522c-4351-b255-974f58e2e551\",\"subtype\":\"Figure\",\"type\":\"Plot\"},\"ticker\":{\"id\":\"89301187-8601-4d10-a88b-2d25d14626b5\",\"type\":\"BasicTicker\"}},\"id\":\"75ccb247-9aa0-4765-b455-54b5db1e790b\",\"type\":\"Grid\"},{\"attributes\":{\"callback\":null},\"id\":\"9b717b6e-54a2-4ef2-9326-194579f50a44\",\"type\":\"DataRange1d\"},{\"attributes\":{\"axis_label\":\"dy/dx\",\"formatter\":{\"id\":\"939efb22-106e-4f97-9654-4576fcd1c55a\",\"type\":\"BasicTickFormatter\"},\"plot\":{\"id\":\"d480231c-522c-4351-b255-974f58e2e551\",\"subtype\":\"Figure\",\"type\":\"Plot\"},\"ticker\":{\"id\":\"fd80486b-90fc-44e3-8d0b-ed4908ef4d9f\",\"type\":\"BasicTicker\"}},\"id\":\"a9c2e426-c7bb-4db3-88e8-5bb89fe616cc\",\"type\":\"LinearAxis\"},{\"attributes\":{},\"id\":\"fd80486b-90fc-44e3-8d0b-ed4908ef4d9f\",\"type\":\"BasicTicker\"},{\"attributes\":{\"plot\":{\"id\":\"d480231c-522c-4351-b255-974f58e2e551\",\"subtype\":\"Figure\",\"type\":\"Plot\"}},\"id\":\"9f5ae4cb-6deb-4dd5-84b6-b74fc2522126\",\"type\":\"PanTool\"},{\"attributes\":{\"overlay\":{\"id\":\"62ae025a-3867-4483-bb54-dc9931c7b6a8\",\"type\":\"BoxAnnotation\"},\"plot\":{\"id\":\"d480231c-522c-4351-b255-974f58e2e551\",\"subtype\":\"Figure\",\"type\":\"Plot\"}},\"id\":\"0def4c1c-5c65-445d-b2d9-b9671aeba319\",\"type\":\"BoxZoomTool\"},{\"attributes\":{\"plot\":{\"id\":\"d480231c-522c-4351-b255-974f58e2e551\",\"subtype\":\"Figure\",\"type\":\"Plot\"}},\"id\":\"7accb816-54af-4d01-b551-706253c216fa\",\"type\":\"SaveTool\"},{\"attributes\":{\"plot\":{\"id\":\"d480231c-522c-4351-b255-974f58e2e551\",\"subtype\":\"Figure\",\"type\":\"Plot\"}},\"id\":\"279dc261-d437-43a8-b9f3-8e3e9f2fa950\",\"type\":\"ResetTool\"},{\"attributes\":{\"line_alpha\":{\"value\":0.1},\"line_color\":{\"value\":\"#1f77b4\"},\"line_width\":{\"value\":2},\"x\":{\"field\":\"x\"},\"y\":{\"field\":\"y\"}},\"id\":\"ecf837aa-d579-42bf-8d82-41675c07db53\",\"type\":\"Line\"},{\"attributes\":{\"plot\":{\"id\":\"d480231c-522c-4351-b255-974f58e2e551\",\"subtype\":\"Figure\",\"type\":\"Plot\"}},\"id\":\"7cfe96e7-54ca-4457-899f-b59fe476c705\",\"type\":\"HelpTool\"},{\"attributes\":{},\"id\":\"939efb22-106e-4f97-9654-4576fcd1c55a\",\"type\":\"BasicTickFormatter\"},{\"attributes\":{\"line_color\":{\"value\":null},\"size\":{\"units\":\"screen\",\"value\":8},\"x\":{\"field\":\"x\"},\"y\":{\"field\":\"y\"}},\"id\":\"15afad2f-0c73-4a94-aa63-0cba444f6c33\",\"type\":\"Circle\"},{\"attributes\":{\"data_source\":{\"id\":\"b589a972-9f1a-494b-a3ff-a66347d0f511\",\"type\":\"ColumnDataSource\"},\"glyph\":{\"id\":\"15afad2f-0c73-4a94-aa63-0cba444f6c33\",\"type\":\"Circle\"},\"hover_glyph\":null,\"nonselection_glyph\":{\"id\":\"f6d0f517-0437-4ded-a625-b0340e133405\",\"type\":\"Circle\"},\"selection_glyph\":null},\"id\":\"805e8131-2495-46e9-82f2-59e6adf460be\",\"type\":\"GlyphRenderer\"},{\"attributes\":{\"fill_alpha\":{\"value\":0.1},\"fill_color\":{\"value\":\"#1f77b4\"},\"line_alpha\":{\"value\":0.1},\"line_color\":{\"value\":\"#1f77b4\"},\"size\":{\"units\":\"screen\",\"value\":8},\"x\":{\"field\":\"x\"},\"y\":{\"field\":\"y\"}},\"id\":\"f6d0f517-0437-4ded-a625-b0340e133405\",\"type\":\"Circle\"},{\"attributes\":{},\"id\":\"ee34647c-ed4e-47d9-862e-1c8bb73b4f18\",\"type\":\"BasicTickFormatter\"},{\"attributes\":{\"label\":{\"value\":\"numerical\"},\"renderers\":[{\"id\":\"805e8131-2495-46e9-82f2-59e6adf460be\",\"type\":\"GlyphRenderer\"}]},\"id\":\"84f79e66-b7b6-4f30-81ef-40fa777c066d\",\"type\":\"LegendItem\"},{\"attributes\":{\"line_color\":{\"value\":\"#1f77b4\"},\"line_width\":{\"value\":2},\"x\":{\"field\":\"x\"},\"y\":{\"field\":\"y\"}},\"id\":\"c2833b8e-5fc4-4372-b539-569008adc188\",\"type\":\"Line\"}],\"root_ids\":[\"d480231c-522c-4351-b255-974f58e2e551\"]},\"title\":\"Bokeh Application\",\"version\":\"0.12.4\"}};\n",
       "            var render_items = [{\"docid\":\"563ea9e7-9ad2-497e-a9b4-094236e47df6\",\"elementid\":\"f391fec4-fc2b-4c22-9190-a45a9334bf95\",\"modelid\":\"d480231c-522c-4351-b255-974f58e2e551\"}];\n",
       "            \n",
       "            Bokeh.embed.embed_items(docs_json, render_items);\n",
       "          };\n",
       "          if (document.readyState != \"loading\") fn();\n",
       "          else document.addEventListener(\"DOMContentLoaded\", fn);\n",
       "        })();\n",
       "\n",
       "      },\n",
       "      function(Bokeh) {\n",
       "      }\n",
       "    ];\n",
       "\n",
       "    function run_inline_js() {\n",
       "      \n",
       "      if ((window.Bokeh !== undefined) || (force === true)) {\n",
       "        for (var i = 0; i < inline_js.length; i++) {\n",
       "          inline_js[i](window.Bokeh);\n",
       "        }if (force === true) {\n",
       "          display_loaded();\n",
       "        }} else if (Date.now() < window._bokeh_timeout) {\n",
       "        setTimeout(run_inline_js, 100);\n",
       "      } else if (!window._bokeh_failed_load) {\n",
       "        console.log(\"Bokeh: BokehJS failed to load within specified timeout.\");\n",
       "        window._bokeh_failed_load = true;\n",
       "      } else if (force !== true) {\n",
       "        var cell = $(document.getElementById(\"f391fec4-fc2b-4c22-9190-a45a9334bf95\")).parents('.cell').data().cell;\n",
       "        cell.output_area.append_execute_result(NB_LOAD_WARNING)\n",
       "      }\n",
       "\n",
       "    }\n",
       "\n",
       "    if (window._bokeh_is_loading === 0) {\n",
       "      console.log(\"Bokeh: BokehJS loaded, going straight to plotting\");\n",
       "      run_inline_js();\n",
       "    } else {\n",
       "      load_libs(js_urls, function() {\n",
       "        console.log(\"Bokeh: BokehJS plotting callback run at\", now());\n",
       "        run_inline_js();\n",
       "      });\n",
       "    }\n",
       "  }(this));\n",
       "</script>"
      ]
     },
     "metadata": {},
     "output_type": "display_data"
    }
   ],
   "source": [
    "# create a new Bokeh plot with axis labels, name it \"bop\"\n",
    "bop = bplotting.figure(x_axis_label='x', y_axis_label='dy/dx')\n",
    "\n",
    "# add a title, change the font\n",
    "bop.title.text = \"Derivative of exp(sin(x))\"\n",
    "bop.title.text_font = \"palatino\"\n",
    "\n",
    "# add a line with legend and line thickness to \"bop\"\n",
    "bop.line(x, deriv_exact, legend=\"analytical\", line_width=2)\n",
    "\n",
    "# add circle markers with legend, specify color\n",
    "bop.circle((x[1:] + x[:-1]) / 2.0, deriv, legend=\"numerical\", fill_color=\"gray\", size=8, line_color=None)\n",
    "\n",
    "bop.grid.grid_line_alpha=0.3\n",
    "\n",
    "bplotting.show(bop);"
   ]
  },
  {
   "cell_type": "markdown",
   "metadata": {},
   "source": [
    "## Markdown cells\n",
    "\n",
    "Markdown is a simple *markup* language that allows plain text to be converted into HTML.\n",
    "\n",
    "The advantages of using Markdown over HTML (and LaTeX):\n",
    "\n",
    "- its a **human-readable** format \n",
    "- allows writers to focus on content rather than formatting and layout\n",
    "- easier to learn and use\n",
    "\n",
    "For example, instead of writing:\n",
    "\n",
    "```html\n",
    "<p>In order to create valid \n",
    "<a href=\"http://en.wikipedia.org/wiki/HTML\">HTML</a>, you \n",
    "need properly coded syntax that can be cumbersome for \n",
    "&#8220;non-programmers&#8221; to write. Sometimes, you\n",
    "just want to easily make certain words <strong>bold\n",
    "</strong>, and certain words <em>italicized</em> without\n",
    "having to remember the syntax. Additionally, for example,\n",
    "creating lists:</p>\n",
    "<ul>\n",
    "<li>should be easy</li>\n",
    "<li>should not involve programming</li>\n",
    "</ul>\n",
    "```\n",
    "\n",
    "we can write the following in Markdown:\n",
    "\n",
    "```markdown\n",
    "In order to create valid [HTML], you need properly\n",
    "coded syntax that can be cumbersome for \n",
    "\"non-programmers\" to write. Sometimes, you just want\n",
    "to easily make certain words **bold**, and certain \n",
    "words *italicized* without having to remember the \n",
    "syntax. Additionally, for example, creating lists:\n",
    "\n",
    "* should be easy\n",
    "* should not involve programming\n",
    "```\n",
    "\n",
    "### Emphasis\n",
    "\n",
    "Markdown uses `*` (asterisk) and `_` (underscore) characters as \n",
    "indicators of emphasis. \n",
    "\n",
    "    *italic*, _italic_  \n",
    "    **bold**, __bold__\n",
    "    ***bold-italic***, ___bold-italic___\n",
    "\n",
    "*italic*, _italic_  \n",
    "**bold**, __bold__  \n",
    "***bold-italic***, ___bold-italic___\n",
    "\n",
    "### Lists\n",
    "\n",
    "Markdown supports both unordered and ordered lists. Unordered lists can use `*`, `-`, or \n",
    "`+` to define a list. This is an unordered list:  \n",
    "\n",
    "    * Apples\n",
    "    * Bananas\n",
    "    * Oranges\n",
    "\n",
    "* Apples\n",
    "* Bananas\n",
    "* Oranges\n",
    "\n",
    "Ordered lists are numbered lists in plain text:\n",
    "\n",
    "    1. Bryan Ferry\n",
    "    2. Brian Eno\n",
    "    3. Andy Mackay\n",
    "    4. Paul Thompson\n",
    "    5. Phil Manzanera\n",
    "\n",
    "1. Bryan Ferry\n",
    "2. Brian Eno\n",
    "3. Andy Mackay\n",
    "4. Paul Thompson\n",
    "5. Phil Manzanera\n",
    "\n",
    "### Links\n",
    "\n",
    "Markdown inline links are equivalent to HTML `<a href='foo.com'>` \n",
    "links, they just have a different syntax. \n",
    "\n",
    "    [Biostatistics home page](http://biostat.mc.vanderbilt.edu \"Visit Biostat!\")\n",
    "\n",
    "[Biostatistics home page](http://biostat.mc.vanderbilt.edu \"Visit Biostat!\")\n",
    "\n",
    "### Block quotes\n",
    "\n",
    "Block quotes are denoted by a `>` (greater than) character \n",
    "before each line of the block quote.\n",
    "\n",
    "    > Sometimes a simple model will outperform a more complex model . . . \n",
    "    > Nevertheless, I believe that deliberately limiting the complexity \n",
    "    > of the model is not fruitful when the problem is evidently complex. \n",
    "\n",
    "> Sometimes a simple model will outperform a more complex model . . .\n",
    "> Nevertheless, I believe that deliberately limiting the complexity \n",
    "> of the model is not fruitful when the problem is evidently complex.\n",
    "\n",
    "### Images\n",
    "\n",
    "Images look an awful lot like Markdown links, they just have an extra \n",
    "`!` (exclamation mark) in front of them. \n",
    "\n",
    "    ![Python logo](images/python-logo-master-v3-TM.png)\n",
    "\n",
    "![Python logo](images/python-logo-master-v3-TM.png)"
   ]
  },
  {
   "cell_type": "markdown",
   "metadata": {},
   "source": [
    "### Remote Code\n",
    "\n",
    "Use `%load` to add remote code"
   ]
  },
  {
   "cell_type": "code",
   "execution_count": null,
   "metadata": {},
   "outputs": [],
   "source": [
    "%load http://matplotlib.org/mpl_examples/statistics/boxplot_demo.py"
   ]
  },
  {
   "cell_type": "markdown",
   "metadata": {},
   "source": [
    "### Mathjax Support\n",
    "\n",
    "Mathjax ia a javascript implementation $\\alpha$ of LaTeX that allows equations to be embedded into HTML. For example, this markup:\n",
    "\n",
    "    \"\"\"$$ \\int_{a}^{b} f(x)\\, dx \\approx \\frac{1}{2} \\sum_{k=1}^{N} \\left( x_{k} - x_{k-1} \\right) \\left( f(x_{k}) + f(x_{k-1}) \\right). $$\"\"\"\n",
    "    \n",
    "becomes this:\n",
    "\n",
    "$$\n",
    "\\int_{a}^{b} f(x)\\, dx \\approx \\frac{1}{2} \\sum_{k=1}^{N} \\left( x_{k} - x_{k-1} \\right) \\left( f(x_{k}) + f(x_{k-1}) \\right).\n",
    "$$"
   ]
  },
  {
   "cell_type": "markdown",
   "metadata": {},
   "source": [
    "Code cells can be displayed as LaTeX"
   ]
  },
  {
   "cell_type": "code",
   "execution_count": 25,
   "metadata": {},
   "outputs": [
    {
     "data": {
      "text/latex": [
       "\\begin{eqnarray}\n",
       "\\nabla \\times \\vec{\\mathbf{B}} -\\, \\frac1c\\, \\frac{\\partial\\vec{\\mathbf{E}}}{\\partial t} & = \\frac{4\\pi}{c}\\vec{\\mathbf{j}} \\\\\n",
       "\\nabla \\cdot \\vec{\\mathbf{E}} & = 4 \\pi \\rho \\\\\n",
       "\\nabla \\times \\vec{\\mathbf{E}}\\, +\\, \\frac1c\\, \\frac{\\partial\\vec{\\mathbf{B}}}{\\partial t} & = \\vec{\\mathbf{0}} \\\\\n",
       "\\nabla \\cdot \\vec{\\mathbf{B}} & = 0 \n",
       "\\end{eqnarray}"
      ],
      "text/plain": [
       "<IPython.core.display.Latex object>"
      ]
     },
     "execution_count": 25,
     "metadata": {},
     "output_type": "execute_result"
    }
   ],
   "source": [
    "from IPython.display import Latex\n",
    "Latex(r\"\"\"\\begin{eqnarray}\n",
    "\\nabla \\times \\vec{\\mathbf{B}} -\\, \\frac1c\\, \\frac{\\partial\\vec{\\mathbf{E}}}{\\partial t} & = \\frac{4\\pi}{c}\\vec{\\mathbf{j}} \\\\\n",
    "\\nabla \\cdot \\vec{\\mathbf{E}} & = 4 \\pi \\rho \\\\\n",
    "\\nabla \\times \\vec{\\mathbf{E}}\\, +\\, \\frac1c\\, \\frac{\\partial\\vec{\\mathbf{B}}}{\\partial t} & = \\vec{\\mathbf{0}} \\\\\n",
    "\\nabla \\cdot \\vec{\\mathbf{B}} & = 0 \n",
    "\\end{eqnarray}\"\"\")"
   ]
  },
  {
   "cell_type": "markdown",
   "metadata": {},
   "source": [
    "## Debugging\n",
    "\n",
    "The `%debug` magic can be used to trigger the IPython debugger (`ipd`) for a cell that raises an exception. The debugger allows you to step through code line-by-line and inspect variables and execute code."
   ]
  },
  {
   "cell_type": "code",
   "execution_count": null,
   "metadata": {},
   "outputs": [],
   "source": [
    "def div(x, y):\n",
    "    return x/y\n",
    "\n",
    "div(1,0)"
   ]
  },
  {
   "cell_type": "code",
   "execution_count": null,
   "metadata": {},
   "outputs": [],
   "source": [
    "%debug"
   ]
  },
  {
   "cell_type": "markdown",
   "metadata": {},
   "source": [
    "## Exporting and Converting Notebooks\n",
    "\n",
    "In Jupyter, one can convert an `.ipynb` notebook document file into various static formats via the `nbconvert` tool. Currently, nbconvert is a command line tool, run as a script using Jupyter."
   ]
  },
  {
   "cell_type": "code",
   "execution_count": null,
   "metadata": {},
   "outputs": [],
   "source": [
    "!jupyter nbconvert --to html \"IPython and Jupyter.ipynb\""
   ]
  },
  {
   "cell_type": "markdown",
   "metadata": {},
   "source": [
    "Currently, `nbconvert` supports HTML (default), LaTeX, Markdown, reStructuredText, Python and HTML5 slides for presentations. Some types can be post-processed, such as LaTeX to PDF (this requires [Pandoc](http://johnmacfarlane.net/pandoc/) to be installed, however)."
   ]
  },
  {
   "cell_type": "code",
   "execution_count": null,
   "metadata": {},
   "outputs": [],
   "source": [
    "!jupyter nbconvert --to pdf \"IPython and Jupyter.ipynb\""
   ]
  },
  {
   "cell_type": "markdown",
   "metadata": {},
   "source": [
    "A very useful online service is the [IPython Notebook Viewer](http://nbviewer.ipython.org) which allows you to display your notebook as a static HTML page, which is useful for sharing with others:"
   ]
  },
  {
   "cell_type": "code",
   "execution_count": null,
   "metadata": {},
   "outputs": [],
   "source": [
    "IFrame(\"http://nbviewer.ipython.org/2352771\", width='100%', height=350)"
   ]
  },
  {
   "cell_type": "markdown",
   "metadata": {},
   "source": [
    "As of this year, GitHub supports the [rendering of Jupyter Notebooks](https://github.com/fonnesbeck/Bios8366/blob/master/notebooks/Section1_2-Programming-with-Python.ipynb) stored on its repositories."
   ]
  },
  {
   "cell_type": "markdown",
   "metadata": {},
   "source": [
    "## Version control\n",
    "\n",
    "Since a Jupyter Notebook is just a JSON file, it can be readily added to a version control system, such as Git. However, JSON is not inherently conducive resolving merge conflicts or other tasks that involve comparing different versions of the file.\n",
    "\n",
    "\n",
    "### Jupyter Notebook Diff and Merge tools\n",
    "\n",
    "`nbdime` provides [tools for diffing and merging of notebooks](https://nbdime.readthedocs.io/en/latest/).\n",
    "\n",
    "- `nbdiff` compare notebooks in a terminal-friendly way\n",
    "- `nbmerge` three-way merge of notebooks with automatic conflict resolution\n",
    "- `nbdiff-web` shows you a rich rendered diff of notebooks\n",
    "- `nbmerge-web` gives you a web-based three-way merge tool for notebooks\n",
    "- `nbshow` present a single notebook in a terminal-friendly way\n",
    "\n",
    "![](images/nbdiff-web.png)"
   ]
  },
  {
   "cell_type": "markdown",
   "metadata": {},
   "source": [
    "---\n",
    "\n",
    "## Links and References\n",
    "\n",
    "* [IPython Notebook Viewer](http://nbviewer.ipython.org) Displays static HTML versions of notebooks, and includes a gallery of notebook examples.\n",
    "\n",
    "* [A Reference-Free Algorithm for Computational Normalization of Shotgun Sequencing Data](http://ged.msu.edu/papers/2012-diginorm/) A landmark example of reproducible research in genomics: Git repo, iPython notebook, data and scripts.\n",
    "\n",
    "* Jacques Ravel and K Eric Wommack. 2014. [All Hail Reproducibility in Microbiome Research](http://www.microbiomejournal.com/content/pdf/2049-2618-2-8.pdf). Microbiome, 2:8.\n",
    "\n",
    "* Benjamin Ragan-Kelley et al.. 2013. [Collaborative cloud-enabled tools allow rapid, reproducible biological insights](http://www.nature.com/ismej/journal/v7/n3/full/ismej2012123a.html). The ISME Journal, 7, 461–464; doi:10.1038/ismej.2012.123;"
   ]
  }
 ],
 "metadata": {
  "_draft": {
   "nbviewer_url": "https://gist.github.com/9449466995d534c7af942db3843732e7"
  },
  "anaconda-cloud": {},
  "gist": {
   "data": {
    "description": "IPython and Jupyter.ipynb",
    "public": true
   },
   "id": "9449466995d534c7af942db3843732e7"
  },
  "kernelspec": {
   "display_name": "Python 3",
   "language": "python",
   "name": "python3"
  },
  "language_info": {
   "codemirror_mode": {
    "name": "ipython",
    "version": 3
   },
   "file_extension": ".py",
   "mimetype": "text/x-python",
   "name": "python",
   "nbconvert_exporter": "python",
   "pygments_lexer": "ipython3",
   "version": "3.6.7"
  },
  "nav_menu": {},
  "toc": {
   "navigate_menu": true,
   "number_sections": false,
   "sideBar": true,
   "threshold": 6,
   "toc_cell": false,
   "toc_section_display": "block",
   "toc_window_display": false
  }
 },
 "nbformat": 4,
 "nbformat_minor": 2
}
