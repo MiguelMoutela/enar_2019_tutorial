{
 "cells": [
  {
   "cell_type": "markdown",
   "metadata": {},
   "source": [
    "# Introduction to `Scikit-learn`\n",
    "\n",
    "The `scikit-learn` package is an open-source library that provides a robust set of machine learning algorithms for Python. It is built upon the core Python scientific stack (*i.e.* NumPy, SciPy, Cython), and has a simple, consistent API, making it useful for a wide range of statistical learning applications.\n",
    "\n",
    "<img src=\"http://1.bp.blogspot.com/-ME24ePzpzIM/UQLWTwurfXI/AAAAAAAAANw/W3EETIroA80/s1600/drop_shadows_background.png\" width=\"800px\"/>\n",
    "\n",
    "## What is Machine Learning?\n",
    "\n",
    "Machine Learning (ML) is about coding programs that automatically adjust their performance from exposure to information encoded in data. This learning is achieved via **tunable parameters** that are automatically adjusted according to performance criteria.\n",
    "\n",
    "Machine Learning can be considered a subfield of Artificial Intelligence (AI).\n",
    "\n",
    "There are three major classes of ML:\n",
    "\n",
    "**Supervised learning**\n",
    ": Algorithms which learn from a training set of *labeled* examples (exemplars) to generalize to the set of all possible inputs. Examples of supervised learning include regression and support vector machines.\n",
    "\n",
    "**Unsupervised learning**\n",
    ": Algorithms which learn from a training set of *unlableled* examples, using the features of the inputs to categorize inputs together according to some statistical criteria. Examples of unsupervised learning include k-means clustering and kernel density estimation.\n",
    "\n",
    "**Reinforcement learning**\n",
    ": Algorithms that learn via reinforcement from a *critic* that provides information on the quality of a solution, but not on how to improve it. Improved solutions are achieved by iteratively exploring the solution space. We will not cover RL in this course.\n",
    "\n",
    "## Representing Data in `scikit-learn`\n",
    "\n",
    "Most machine learning algorithms implemented in scikit-learn expect data to be stored in a\n",
    "**two-dimensional array or matrix**.  The arrays can be\n",
    "either ``numpy`` arrays, or in some cases ``scipy.sparse`` matrices.\n",
    "The size of the array is expected to be `[n_samples, n_features]`\n",
    "\n",
    "- **n_samples:**   The number of samples: each sample is an item to process (e.g. classify).\n",
    "  A sample can be a document, a picture, a sound, a video, an astronomical object,\n",
    "  a row in database or CSV file,\n",
    "  or whatever you can describe with a fixed set of quantitative traits.\n",
    "- **n_features:**  The number of features or distinct traits that can be used to describe each\n",
    "  item in a quantitative manner.  Features are generally real-valued, but may be boolean or\n",
    "  discrete-valued in some cases.\n",
    "\n",
    "The number of features must be fixed in advance. However it can be very high dimensional\n",
    "(e.g. millions of features) with most of them being zeros for a given sample. This is a case\n",
    "where `scipy.sparse` matrices can be useful, in that they are\n",
    "much more memory-efficient than numpy arrays."
   ]
  },
  {
   "cell_type": "markdown",
   "metadata": {},
   "source": [
    "## `scikit-learn` interface\n",
    "\n",
    "All objects within scikit-learn share a uniform common basic API consisting of three complementary interfaces: \n",
    "\n",
    "* **estimator** interface for building and ﬁtting models\n",
    "* **predictor** interface for making predictions\n",
    "* **transformer** interface for converting data.\n",
    "\n",
    "The estimator interface is at the core of the library. It deﬁnes instantiation mechanisms of objects and exposes a fit method for learning a model from training data. All supervised and unsupervised learning algorithms (*e.g.*, for classiﬁcation, regression or clustering) are oﬀered as objects implementing this interface. Machine learning tasks like feature extraction, feature selection or dimensionality reduction are also provided as estimators.\n",
    "\n",
    "The consistent interface across machine learning methods makes it easy to switch between different approaches without drastically changing the form of the data or the supporting code, making experimentation and prototyping fast and easy.\n",
    "\n",
    "Scikit-learn strives to have a uniform interface across all methods. For example, a typical **estimator** follows this template:"
   ]
  },
  {
   "cell_type": "code",
   "execution_count": 1,
   "metadata": {},
   "outputs": [],
   "source": [
    "class Estimator(object):\n",
    "  \n",
    "    def fit(self, X, y=None):\n",
    "        \"\"\"Fit model to data X (and y)\"\"\"\n",
    "        self.some_attribute = self.some_fitting_method(X, y)\n",
    "        return self\n",
    "            \n",
    "    def predict(self, X_test):\n",
    "        \"\"\"Make prediction based on passed features\"\"\"\n",
    "        pred = self.make_prediction(X_test)\n",
    "        return pred"
   ]
  },
  {
   "cell_type": "markdown",
   "metadata": {},
   "source": [
    "For a given scikit-learn **estimator** object named `model`, several methods are available. Irrespective of the type of **estimator**, there will be a `fit` method:\n",
    "\n",
    "- `model.fit` : fit training data. For supervised learning applications, this accepts two arguments: the data `X` and the labels `y` (e.g. `model.fit(X, y)`). For unsupervised learning applications, this accepts only a single argument, the data `X` (e.g. `model.fit(X)`).\n",
    "\n",
    "> During the fitting process, the state of the **estimator** is stored in attributes of the estimator instance named with a trailing underscore character (\\_). For example, the sequence of regression trees `sklearn.tree.DecisionTreeRegressor` is stored in `estimators_` attribute.\n",
    "\n",
    "The **predictor** interface extends the notion of an estimator by adding a `predict` method that takes an array `X_test` and produces predictions based on the learned parameters of the estimator. In the case of supervised learning estimators, this method typically returns the predicted labels or values computed by the model. Some unsupervised learning estimators may also implement the predict interface, such as k-means, where the predicted values are the cluster labels.\n",
    "\n",
    "**supervised estimators** are expected to have the following methods:\n",
    "\n",
    "- `model.predict` : given a trained model, predict the label of a new set of data. This method accepts one argument, the new data `X_new` (e.g. `model.predict(X_new)`), and returns the learned label for each object in the array.\n",
    "- `model.predict_proba` : For classification problems, some estimators also provide this method, which returns the probability that a new observation has each categorical label. In this case, the label with the highest probability is returned by `model.predict()`.\n",
    "- `model.score` : for classification or regression problems, most (all?) estimators implement a score method.  Scores are between 0 and 1, with a larger score indicating a better fit.\n",
    "\n",
    "Since it is common to modify or ﬁlter data before feeding it to a learning algorithm, some estimators in the library implement a **transformer** interface which deﬁnes a `transform` method. It takes as input some new data `X_test` and yields as output a transformed version. Preprocessing, feature selection, feature extraction and dimensionality reduction algorithms are all provided as transformers within the library.\n",
    "\n",
    "**unsupervised estimators** will always have these methods:\n",
    "\n",
    "- `model.transform` : given an unsupervised model, transform new data into the new basis. This also accepts one argument `X_new`, and returns the new representation of the data based on the unsupervised model.\n",
    "- `model.fit_transform` : some estimators implement this method, which more efficiently performs a fit and a transform on the same input data."
   ]
  },
  {
   "cell_type": "markdown",
   "metadata": {},
   "source": [
    "# Supervised Learning: Decision Trees"
   ]
  },
  {
   "cell_type": "markdown",
   "metadata": {},
   "source": [
    "For methods like support vector machines to work well, it requires identifying an appropriate kernel function, which is not always straightforward or intuitive.\n",
    "\n",
    "An alternative to this is to perform statistical learning more directly, say, as a combination of the predictors (features). An **adaptive basis-function model** (ABM) is one example of this.\n",
    "\n",
    "$$f(x) = w_0 + \\sum_{j=1}^k w_j \\phi_j(\\mathbf{x})$$\n",
    "\n",
    "here, $\\phi_j$ is a *basis function*, which is typically parametric:\n",
    "\n",
    "$$\\phi_j(\\mathbf{x}) = \\phi_j(\\mathbf{x}|\\alpha_j)$$\n",
    "\n",
    "The parameter set for this model is thus $\\theta = \\{\\mathbf{w} = w_0,\\ldots,w_k; \\mathbf{\\alpha} = \\alpha_1, \\ldots, \\alpha_k\\}$. This model is *not* linear in the parameters.\n",
    "\n",
    "\n",
    "**Decision trees** use an ABM to *recursively partition* the space of predictor variables into a piecewise-constant response surface. We can consider each component $j=1,\\ldots,k$ to be a region in the response surface, and $w_j$ the expected response in that region.\n",
    "\n",
    "$$f(x) = \\sum_{j=1}^k w_j I(\\mathbf{x} \\in R_j)$$\n",
    "\n",
    "Each paramter $\\alpha_j$ encodes both (1) a variable used for splitting and (2) the corresponding threshold value. Specifically, the basis functions define the regions, and the weights encode the response value in each region.\n",
    "\n",
    "This particular formulation implies a regression-type model, but we can generalize this to classification by storing the *distribution over classes* in each leaf, instead of the mean response."
   ]
  },
  {
   "cell_type": "markdown",
   "metadata": {},
   "source": [
    "To get a sense of how decision trees work, consider the diabetes dataset that we have seen previously. In the plot below, the response variable (`target`, an index of disease progression) is color-coded as a function of two variables, metabolic rate (`bmi`) and a blood serum measurement (`ltg`)."
   ]
  },
  {
   "cell_type": "code",
   "execution_count": 2,
   "metadata": {},
   "outputs": [
    {
     "data": {
      "image/png": "[encoded data removed]",
      "text/plain": [
       "<Figure size 432x288 with 2 Axes>"
      ]
     },
     "metadata": {},
     "output_type": "display_data"
    }
   ],
   "source": [
    "%matplotlib inline\n",
    "import matplotlib.pyplot as plt\n",
    "import numpy as np\n",
    "import pandas as pd\n",
    "import seaborn as sns\n",
    "sns.set()\n",
    "from sklearn.datasets import load_diabetes\n",
    "\n",
    "# Predictors: \"age\" \"sex\" \"bmi\" \"map\" \"tc\"  \"ldl\" \"hdl\" \"tch\" \"ltg\" \"glu\"\n",
    "diabetes = load_diabetes()\n",
    "y = diabetes['target']\n",
    "bmi, ltg = diabetes['data'][:,[2,8]].T\n",
    "\n",
    "plt.scatter(ltg, bmi,  c=y, cmap=\"Blues\")\n",
    "plt.colorbar()\n",
    "plt.xlabel('ltg'); plt.ylabel('bmi');"
   ]
  },
  {
   "cell_type": "markdown",
   "metadata": {},
   "source": [
    "One approach to building a predictive model is to subdivide the variable space into regions, by sequentially subdividing each variable. For example, if we split `ltg` at a threshold value of -0.01, it does a reasonable job of isolating the large values in one of the resulting subspaces."
   ]
  },
  {
   "cell_type": "code",
   "execution_count": 3,
   "metadata": {},
   "outputs": [
    {
     "data": {
      "image/png": "[encoded data removed]",
      "text/plain": [
       "<Figure size 432x288 with 2 Axes>"
      ]
     },
     "metadata": {
      "needs_background": "light"
     },
     "output_type": "display_data"
    }
   ],
   "source": [
    "ltg_split = -0.01\n",
    "plt.scatter(ltg, bmi,  c=y, cmap=\"Blues\")\n",
    "plt.vlines(ltg_split, *plt.gca().get_ylim(), linestyles='dashed')\n",
    "plt.colorbar()\n",
    "plt.xlabel('ltg'); plt.ylabel('bmi');"
   ]
  },
  {
   "cell_type": "markdown",
   "metadata": {},
   "source": [
    "However, that region still contains a fair number of low (blue) values, so we can similarly bisect the region using a `bmi` value of -0.03 as a threshold value:"
   ]
  },
  {
   "cell_type": "code",
   "execution_count": 4,
   "metadata": {},
   "outputs": [
    {
     "data": {
      "image/png": "[encoded data removed]",
      "text/plain": [
       "<Figure size 432x288 with 2 Axes>"
      ]
     },
     "metadata": {
      "needs_background": "light"
     },
     "output_type": "display_data"
    }
   ],
   "source": [
    "bmi_split = -0.03\n",
    "plt.scatter(ltg, bmi,  c=y, cmap=\"Blues\")\n",
    "plt.vlines(ltg_split, *plt.gca().get_ylim(), linestyles='dashed')\n",
    "plt.hlines(bmi_split, ltg_split, plt.gca().get_xlim()[1], linestyles='dashed')\n",
    "plt.colorbar()\n",
    "plt.xlabel('ltg'); plt.ylabel('bmi');"
   ]
  },
  {
   "cell_type": "markdown",
   "metadata": {},
   "source": [
    "We can use this partition to create a piecewise-constant function, which returns the average value of the observations in each region defined by the threshold values. We could then use this rudimentary function as a predictive model."
   ]
  },
  {
   "cell_type": "code",
   "execution_count": 5,
   "metadata": {},
   "outputs": [
    {
     "data": {
      "text/plain": [
       "197.69417475728156"
      ]
     },
     "execution_count": 5,
     "metadata": {},
     "output_type": "execute_result"
    }
   ],
   "source": [
    "np.mean(y[(bmi>bmi_split) & (ltg>ltg_split)])"
   ]
  },
  {
   "cell_type": "code",
   "execution_count": 6,
   "metadata": {},
   "outputs": [
    {
     "data": {
      "text/plain": [
       "136.93939393939394"
      ]
     },
     "execution_count": 6,
     "metadata": {},
     "output_type": "execute_result"
    }
   ],
   "source": [
    "np.mean(y[(bmi<=bmi_split) & (ltg>ltg_split)])"
   ]
  },
  {
   "cell_type": "code",
   "execution_count": 7,
   "metadata": {},
   "outputs": [
    {
     "data": {
      "text/plain": [
       "108.36945812807882"
      ]
     },
     "execution_count": 7,
     "metadata": {},
     "output_type": "execute_result"
    }
   ],
   "source": [
    "np.mean(y[ltg<ltg_split])"
   ]
  },
  {
   "cell_type": "markdown",
   "metadata": {},
   "source": [
    "The choices for splitting the variables here were relatively arbitrary. Better choices can be made using a cost function $C$, such as **residual sums of squares** (RSS).\n",
    "\n",
    "$$C = \\sum_j \\sum_{i \\in R_j} (y_i - \\hat{y}_{R_j})^2$$\n",
    "\n",
    "where $\\hat{y}_{R_j}$ is the mean response for the training observations in the jth region."
   ]
  },
  {
   "cell_type": "markdown",
   "metadata": {},
   "source": [
    "The recursive partitioning demonstrated above results in a **decision tree**. The regions defined by the trees are called *terminal nodes*. Locations at which a predictor is split, such as `bmi`=-0.03, are called  *internal nodes*. As with this simple example, splits are not generally symmetric, in the sense that splits do not occur similarly on all branches.\n",
    "\n",
    "Now consider a subset of three variables from the Titanic dataset, which we would like to use to predict survival from the disaster. The following describes one such decision tree:\n",
    "\n",
    "- We first check if gender of the passenger is male. If \"no\", we follow the right branch and end up in a leaf where the probability of survival is $p(y=1,x_1=F)=0.73$, so we predict survival ($y=1$) at this node (36% of observations fall under this leaf)\n",
    "- If the passenger is male, we then check the age of the passenger. If he is older than 9.5 years, then the probability of survival $p(y=1,x_1=M,x_2>9.5)=0.17$, so we predict death ($y=0$). \n",
    "- If, on the other hand, the passenger is younger than 9.5 years, we then check if the number of siblings and spouses on board was higher than 2.5; if \"yes\", then the probability of survival  $p(y=1, x_1=M, x_2>9.5, x_3>2.5)=0.05$, so we predict death, otherwise we predict survival with $p(y=1, x_1=M, x_2>9.5 , x_3 \\lt 2.5)=0.89$. \n",
    "\n",
    "Hence, these probabilities are just the empirical fraction of positive examples that satisfy each conjunction of feature values, which defines a path from the root to a leaf.\n",
    "\n",
    "![titanic tree](http://upload.wikimedia.org/wikipedia/commons/f/f3/CART_tree_titanic_survivors.png)\n",
    "\n",
    "There is no way to feasibly evaluate all possible partitions. Instead, the strategy is to use a top-down, **greedy** approach that is optimal (according to a particular cost function) for the current split only. By \"greedy\", we mean that at each step it chooses the most advantageous binary partition, not taking into account the impact of the choice on the quality of subsequent partitions.\n",
    "\n",
    "$$(j^*, t^*) = \\text{argmin}_{j,t} C(\\{\\mathbf{x}_i,y_i: x_{ij} \\le t\\}) + C(\\{\\mathbf{x}_i,y_i: x_{ij} \\gt t\\})$$\n",
    "\n",
    "where $C$ is a cost function, $j$ and $t$ are a variable index and cutpoint, respectively. We will restrict consideration to **binary partitions**.\n",
    "\n",
    "## Classification Trees\n",
    "\n",
    "In addition to regression trees, we can also use decision trees on categorical outcomes, and these are called classification trees. The primary difference in implementation is that residual sums of squares is no longer an appropriate splitting criterion."
   ]
  },
  {
   "cell_type": "markdown",
   "metadata": {},
   "source": [
    "### Entropy\n",
    "\n",
    "An alternative splitting criterion for decision tree learning algorithms is *information gain*. It measures how well a particular attribute distinguishes among different target classifications. Information gain is measured in terms of the expected reduction in the entropy or impurity of the data. The entropy of a set of probabilities is:\n",
    "\n",
    "$$H(p) = -\\sum_i p_i log_2(p_i)$$\n",
    "\n",
    "If we have a set of binary responses from some variable, all of which are positive/true/1, then knowing the values of the variable does not hold any predictive value for us, since all the outcomes are positive. Hence, the entropy is zero:"
   ]
  },
  {
   "cell_type": "code",
   "execution_count": 8,
   "metadata": {},
   "outputs": [],
   "source": [
    "import numpy as np\n",
    "\n",
    "entropy = lambda p: -np.sum(p * np.log2(p)) if not 0 in p else 0"
   ]
  },
  {
   "cell_type": "code",
   "execution_count": 9,
   "metadata": {},
   "outputs": [
    {
     "data": {
      "text/plain": [
       "0.9709505944546686"
      ]
     },
     "execution_count": 9,
     "metadata": {},
     "output_type": "execute_result"
    }
   ],
   "source": [
    "entropy([.4,.6])"
   ]
  },
  {
   "cell_type": "markdown",
   "metadata": {},
   "source": [
    "However, if the variable splits responses into equal numbers of positive and negative values, then entropy is maximized, and we wish to know about the feature:"
   ]
  },
  {
   "cell_type": "code",
   "execution_count": 10,
   "metadata": {},
   "outputs": [
    {
     "data": {
      "text/plain": [
       "1.0"
      ]
     },
     "execution_count": 10,
     "metadata": {},
     "output_type": "execute_result"
    }
   ],
   "source": [
    "entropy([0.5, 0.5])"
   ]
  },
  {
   "cell_type": "code",
   "execution_count": 11,
   "metadata": {},
   "outputs": [
    {
     "data": {
      "text/plain": [
       "[<matplotlib.lines.Line2D at 0x1a238d0320>]"
      ]
     },
     "execution_count": 11,
     "metadata": {},
     "output_type": "execute_result"
    },
    {
     "data": {
      "image/png": "[encoded data removed]",
      "text/plain": [
       "<Figure size 432x288 with 1 Axes>"
      ]
     },
     "metadata": {
      "needs_background": "light"
     },
     "output_type": "display_data"
    }
   ],
   "source": [
    "pvals = np.linspace(0, 1)        \n",
    "plt.plot(pvals, [entropy([p,1-p]) for p in pvals])"
   ]
  },
  {
   "cell_type": "markdown",
   "metadata": {},
   "source": [
    "The entropy calculation tells us how much additional information we would obtain with knowledge of the variable.\n",
    "\n",
    "So, if we have a set of candidate covariates from which to choose as a node in a decision tree, we should choose the one that gives us the most information about the response variable (*i.e.* the one with the highest entropy).\n",
    "\n",
    "### Misclassification Rate\n",
    "\n",
    "Alternatively, we can use the misclassification rate:\n",
    "\n",
    "$$C(j,t) = \\frac{1}{n_{jt}} \\sum_{y_i: x_{ij} \\gt t} I(y_i \\ne \\hat{y})$$\n",
    "\n",
    "where $\\hat{y}$ is the most probable class label and $n_{ij}$ is the number of observations in the data subset obtained from splitting via $j,t$.\n",
    "\n",
    "### Gini index\n",
    "\n",
    "The Gini index is simply the expected error rate:\n",
    "\n",
    "$$C(j,t) = \\sum_{k=1}^K \\hat{\\pi}_{jt}[k] (1 - \\hat{\\pi}_{jt}[k]) = 1 - \\sum_{k=1}^K \\hat{\\pi}_{jt}[k]^2$$\n",
    "\n",
    "where $\\hat{\\pi}_{jt}[k]$ is the probability of an observation being correctly classified as class $k$ for the data subset obtained from splitting via $j,t$ (hence, $(1 - \\hat{\\pi}_{jt}[k])$ is the misclassification probability)."
   ]
  },
  {
   "cell_type": "code",
   "execution_count": 12,
   "metadata": {},
   "outputs": [],
   "source": [
    "gini = lambda p: 1. - (np.array(p)**2).sum()"
   ]
  },
  {
   "cell_type": "code",
   "execution_count": 13,
   "metadata": {},
   "outputs": [
    {
     "data": {
      "text/plain": [
       "<matplotlib.legend.Legend at 0x1a236bc5c0>"
      ]
     },
     "execution_count": 13,
     "metadata": {},
     "output_type": "execute_result"
    },
    {
     "data": {
      "image/png": "[encoded data removed]",
      "text/plain": [
       "<Figure size 432x288 with 1 Axes>"
      ]
     },
     "metadata": {
      "needs_background": "light"
     },
     "output_type": "display_data"
    }
   ],
   "source": [
    "pvals = np.linspace(0, 1)        \n",
    "plt.plot(pvals, [entropy([p,1-p])/2. for p in pvals], label='Entropy')\n",
    "plt.plot(pvals, [gini([p,1-p]) for p in pvals], label='Gini')\n",
    "plt.legend()"
   ]
  },
  {
   "cell_type": "markdown",
   "metadata": {},
   "source": [
    "## Decision Trees in `scikit-learn`\n",
    "\n",
    "Classification trees, either binary or multi-class, are implemented in `scikit-learn` in the `DecisionTreeClassifier` class. Where trees are binary, it expects the response variable to be coded as `[-1,1]` for negative and positive outcomes.\n",
    "\n",
    "Let's build a decision tree on the wine dataset."
   ]
  },
  {
   "cell_type": "code",
   "execution_count": 14,
   "metadata": {},
   "outputs": [],
   "source": [
    "wine = pd.read_table(\"../data/wine.dat\", sep='\\s+')\n",
    "\n",
    "attributes = ['Alcohol',\n",
    "            'Malic acid',\n",
    "            'Ash',\n",
    "            'Alcalinity of ash',\n",
    "            'Magnesium',\n",
    "            'Total phenols',\n",
    "            'Flavanoids',\n",
    "            'Nonflavanoid phenols',\n",
    "            'Proanthocyanins',\n",
    "            'Color intensity',\n",
    "            'Hue',\n",
    "            'OD280/OD315 of diluted wines',\n",
    "            'Proline']\n",
    "\n",
    "grape = wine.pop('region')\n",
    "y = grape\n",
    "wine.columns = attributes\n",
    "X = wine"
   ]
  },
  {
   "cell_type": "code",
   "execution_count": 15,
   "metadata": {},
   "outputs": [
    {
     "data": {
      "text/plain": [
       "DecisionTreeClassifier(class_weight=None, criterion='entropy', max_depth=None,\n",
       "            max_features='auto', max_leaf_nodes=None,\n",
       "            min_impurity_decrease=0.0, min_impurity_split=None,\n",
       "            min_samples_leaf=10, min_samples_split=2,\n",
       "            min_weight_fraction_leaf=0.0, presort=False, random_state=None,\n",
       "            splitter='best')"
      ]
     },
     "execution_count": 15,
     "metadata": {},
     "output_type": "execute_result"
    }
   ],
   "source": [
    "from sklearn import tree\n",
    "from sklearn import model_selection\n",
    "\n",
    "X_train, X_test, y_train, y_test = model_selection.train_test_split(\n",
    "        X, y, test_size=0.4, random_state=0)\n",
    "\n",
    "clf = tree.DecisionTreeClassifier(criterion='entropy',\n",
    "                                  max_features=\"auto\",\n",
    "                                  min_samples_leaf=10)\n",
    "clf.fit(X_train, y_train)"
   ]
  },
  {
   "cell_type": "markdown",
   "metadata": {},
   "source": [
    "If you have [GraphViz](http://www.graphviz.org) and `pydot` installed, you can draw the resulting tree:"
   ]
  },
  {
   "cell_type": "code",
   "execution_count": 16,
   "metadata": {},
   "outputs": [
    {
     "data": {
      "image/svg+xml": [
       "<?xml version=\"1.0\" encoding=\"UTF-8\" standalone=\"no\"?>\n",
       "<!DOCTYPE svg PUBLIC \"-//W3C//DTD SVG 1.1//EN\"\n",
       " \"http://www.w3.org/Graphics/SVG/1.1/DTD/svg11.dtd\">\n",
       "<!-- Generated by graphviz version 2.38.0 (20140413.2041)\n",
       " -->\n",
       "<!-- Title: Tree Pages: 1 -->\n",
       "<svg width=\"824pt\" height=\"458pt\"\n",
       " viewBox=\"0.00 0.00 823.80 458.00\" xmlns=\"http://www.w3.org/2000/svg\" xmlns:xlink=\"http://www.w3.org/1999/xlink\">\n",
       "<g id=\"graph0\" class=\"graph\" transform=\"scale(1 1) rotate(0) translate(4 454)\">\n",
       "<title>Tree</title>\n",
       "<polygon fill=\"white\" stroke=\"none\" points=\"-4,4 -4,-454 819.796,-454 819.796,4 -4,4\"/>\n",
       "<!-- 0 -->\n",
       "<g id=\"node1\" class=\"node\"><title>0</title>\n",
       "<path fill=\"#39e581\" fill-opacity=\"0.043137\" stroke=\"black\" d=\"M587.822,-450C587.822,-450 475.863,-450 475.863,-450 469.863,-450 463.863,-444 463.863,-438 463.863,-438 463.863,-398 463.863,-398 463.863,-392 469.863,-386 475.863,-386 475.863,-386 587.822,-386 587.822,-386 593.822,-386 599.822,-392 599.822,-398 599.822,-398 599.822,-438 599.822,-438 599.822,-444 593.822,-450 587.822,-450\"/>\n",
       "<text text-anchor=\"start\" x=\"484.805\" y=\"-434.8\" font-family=\"Helvetica,sans-Serif\" font-size=\"14.00\">Proline ≤ 0.025</text>\n",
       "<text text-anchor=\"start\" x=\"483\" y=\"-420.8\" font-family=\"Helvetica,sans-Serif\" font-size=\"14.00\">entropy = 1.572</text>\n",
       "<text text-anchor=\"start\" x=\"486.121\" y=\"-406.8\" font-family=\"Helvetica,sans-Serif\" font-size=\"14.00\">samples = 106</text>\n",
       "<text text-anchor=\"start\" x=\"472.104\" y=\"-392.8\" font-family=\"Helvetica,sans-Serif\" font-size=\"14.00\">value = [37, 40, 29]</text>\n",
       "</g>\n",
       "<!-- 1 -->\n",
       "<g id=\"node2\" class=\"node\"><title>1</title>\n",
       "<path fill=\"#39e581\" fill-opacity=\"0.282353\" stroke=\"black\" d=\"M494.536,-350C494.536,-350 391.15,-350 391.15,-350 385.15,-350 379.15,-344 379.15,-338 379.15,-338 379.15,-298 379.15,-298 379.15,-292 385.15,-286 391.15,-286 391.15,-286 494.536,-286 494.536,-286 500.536,-286 506.536,-292 506.536,-298 506.536,-298 506.536,-338 506.536,-338 506.536,-344 500.536,-350 494.536,-350\"/>\n",
       "<text text-anchor=\"start\" x=\"388.036\" y=\"-334.8\" font-family=\"Helvetica,sans-Serif\" font-size=\"14.00\">Malic acid ≤ &#45;0.09</text>\n",
       "<text text-anchor=\"start\" x=\"394\" y=\"-320.8\" font-family=\"Helvetica,sans-Serif\" font-size=\"14.00\">entropy = 1.078</text>\n",
       "<text text-anchor=\"start\" x=\"401.014\" y=\"-306.8\" font-family=\"Helvetica,sans-Serif\" font-size=\"14.00\">samples = 66</text>\n",
       "<text text-anchor=\"start\" x=\"386.997\" y=\"-292.8\" font-family=\"Helvetica,sans-Serif\" font-size=\"14.00\">value = [1, 38, 27]</text>\n",
       "</g>\n",
       "<!-- 0&#45;&gt;1 -->\n",
       "<g id=\"edge1\" class=\"edge\"><title>0&#45;&gt;1</title>\n",
       "<path fill=\"none\" stroke=\"black\" d=\"M503.683,-385.992C495.485,-376.966 486.428,-366.993 477.863,-357.562\"/>\n",
       "<polygon fill=\"black\" stroke=\"black\" points=\"480.439,-355.192 471.125,-350.142 475.257,-359.898 480.439,-355.192\"/>\n",
       "<text text-anchor=\"middle\" x=\"469.923\" y=\"-370.914\" font-family=\"Helvetica,sans-Serif\" font-size=\"14.00\">True</text>\n",
       "</g>\n",
       "<!-- 10 -->\n",
       "<g id=\"node11\" class=\"node\"><title>10</title>\n",
       "<path fill=\"#e58139\" fill-opacity=\"0.894118\" stroke=\"black\" d=\"M671.458,-350C671.458,-350 570.228,-350 570.228,-350 564.228,-350 558.228,-344 558.228,-338 558.228,-338 558.228,-298 558.228,-298 558.228,-292 564.228,-286 570.228,-286 570.228,-286 671.458,-286 671.458,-286 677.458,-286 683.458,-292 683.458,-298 683.458,-298 683.458,-338 683.458,-338 683.458,-344 677.458,-350 671.458,-350\"/>\n",
       "<text text-anchor=\"start\" x=\"566.036\" y=\"-334.8\" font-family=\"Helvetica,sans-Serif\" font-size=\"14.00\">Malic acid ≤ &#45;0.34</text>\n",
       "<text text-anchor=\"start\" x=\"572\" y=\"-320.8\" font-family=\"Helvetica,sans-Serif\" font-size=\"14.00\">entropy = 0.569</text>\n",
       "<text text-anchor=\"start\" x=\"579.014\" y=\"-306.8\" font-family=\"Helvetica,sans-Serif\" font-size=\"14.00\">samples = 40</text>\n",
       "<text text-anchor=\"start\" x=\"568.89\" y=\"-292.8\" font-family=\"Helvetica,sans-Serif\" font-size=\"14.00\">value = [36, 2, 2]</text>\n",
       "</g>\n",
       "<!-- 0&#45;&gt;10 -->\n",
       "<g id=\"edge10\" class=\"edge\"><title>0&#45;&gt;10</title>\n",
       "<path fill=\"none\" stroke=\"black\" d=\"M560.003,-385.992C568.2,-376.966 577.257,-366.993 585.822,-357.562\"/>\n",
       "<polygon fill=\"black\" stroke=\"black\" points=\"588.428,-359.898 592.56,-350.142 583.246,-355.192 588.428,-359.898\"/>\n",
       "<text text-anchor=\"middle\" x=\"593.762\" y=\"-370.914\" font-family=\"Helvetica,sans-Serif\" font-size=\"14.00\">False</text>\n",
       "</g>\n",
       "<!-- 2 -->\n",
       "<g id=\"node3\" class=\"node\"><title>2</title>\n",
       "<path fill=\"#39e581\" fill-opacity=\"0.858824\" stroke=\"black\" d=\"M312.001,-250C312.001,-250 71.6845,-250 71.6845,-250 65.6845,-250 59.6845,-244 59.6845,-238 59.6845,-238 59.6845,-198 59.6845,-198 59.6845,-192 65.6845,-186 71.6845,-186 71.6845,-186 312.001,-186 312.001,-186 318.001,-186 324.001,-192 324.001,-198 324.001,-198 324.001,-238 324.001,-238 324.001,-244 318.001,-250 312.001,-250\"/>\n",
       "<text text-anchor=\"start\" x=\"67.7637\" y=\"-234.8\" font-family=\"Helvetica,sans-Serif\" font-size=\"14.00\">OD280/OD315 of diluted wines ≤ &#45;0.255</text>\n",
       "<text text-anchor=\"start\" x=\"143\" y=\"-220.8\" font-family=\"Helvetica,sans-Serif\" font-size=\"14.00\">entropy = 0.544</text>\n",
       "<text text-anchor=\"start\" x=\"150.014\" y=\"-206.8\" font-family=\"Helvetica,sans-Serif\" font-size=\"14.00\">samples = 32</text>\n",
       "<text text-anchor=\"start\" x=\"139.89\" y=\"-192.8\" font-family=\"Helvetica,sans-Serif\" font-size=\"14.00\">value = [0, 28, 4]</text>\n",
       "</g>\n",
       "<!-- 1&#45;&gt;2 -->\n",
       "<g id=\"edge2\" class=\"edge\"><title>1&#45;&gt;2</title>\n",
       "<path fill=\"none\" stroke=\"black\" d=\"M378.855,-292.017C349.112,-280.404 313.243,-266.399 280.908,-253.775\"/>\n",
       "<polygon fill=\"black\" stroke=\"black\" points=\"282.033,-250.457 271.445,-250.08 279.487,-256.977 282.033,-250.457\"/>\n",
       "</g>\n",
       "<!-- 5 -->\n",
       "<g id=\"node6\" class=\"node\"><title>5</title>\n",
       "<path fill=\"#8139e5\" fill-opacity=\"0.541176\" stroke=\"black\" d=\"M500.205,-250C500.205,-250 385.48,-250 385.48,-250 379.48,-250 373.48,-244 373.48,-238 373.48,-238 373.48,-198 373.48,-198 373.48,-192 379.48,-186 385.48,-186 385.48,-186 500.205,-186 500.205,-186 506.205,-186 512.205,-192 512.205,-198 512.205,-198 512.205,-238 512.205,-238 512.205,-244 506.205,-250 500.205,-250\"/>\n",
       "<text text-anchor=\"start\" x=\"381.412\" y=\"-234.8\" font-family=\"Helvetica,sans-Serif\" font-size=\"14.00\">Flavanoids ≤ &#45;0.425</text>\n",
       "<text text-anchor=\"start\" x=\"397.893\" y=\"-220.8\" font-family=\"Helvetica,sans-Serif\" font-size=\"14.00\">entropy = 1.05</text>\n",
       "<text text-anchor=\"start\" x=\"401.014\" y=\"-206.8\" font-family=\"Helvetica,sans-Serif\" font-size=\"14.00\">samples = 34</text>\n",
       "<text text-anchor=\"start\" x=\"386.997\" y=\"-192.8\" font-family=\"Helvetica,sans-Serif\" font-size=\"14.00\">value = [1, 10, 23]</text>\n",
       "</g>\n",
       "<!-- 1&#45;&gt;5 -->\n",
       "<g id=\"edge5\" class=\"edge\"><title>1&#45;&gt;5</title>\n",
       "<path fill=\"none\" stroke=\"black\" d=\"M442.843,-285.992C442.843,-277.859 442.843,-268.959 442.843,-260.378\"/>\n",
       "<polygon fill=\"black\" stroke=\"black\" points=\"446.343,-260.142 442.843,-250.142 439.343,-260.142 446.343,-260.142\"/>\n",
       "</g>\n",
       "<!-- 3 -->\n",
       "<g id=\"node4\" class=\"node\"><title>3</title>\n",
       "<path fill=\"#39e581\" fill-opacity=\"0.333333\" stroke=\"black\" d=\"M101.529,-143C101.529,-143 12.1568,-143 12.1568,-143 6.15679,-143 0.156793,-137 0.156793,-131 0.156793,-131 0.156793,-105 0.156793,-105 0.156793,-99 6.15679,-93 12.1568,-93 12.1568,-93 101.529,-93 101.529,-93 107.529,-93 113.529,-99 113.529,-105 113.529,-105 113.529,-131 113.529,-131 113.529,-137 107.529,-143 101.529,-143\"/>\n",
       "<text text-anchor=\"start\" x=\"8\" y=\"-127.8\" font-family=\"Helvetica,sans-Serif\" font-size=\"14.00\">entropy = 0.971</text>\n",
       "<text text-anchor=\"start\" x=\"15.0137\" y=\"-113.8\" font-family=\"Helvetica,sans-Serif\" font-size=\"14.00\">samples = 10</text>\n",
       "<text text-anchor=\"start\" x=\"8.78271\" y=\"-99.8\" font-family=\"Helvetica,sans-Serif\" font-size=\"14.00\">value = [0, 6, 4]</text>\n",
       "</g>\n",
       "<!-- 2&#45;&gt;3 -->\n",
       "<g id=\"edge3\" class=\"edge\"><title>2&#45;&gt;3</title>\n",
       "<path fill=\"none\" stroke=\"black\" d=\"M149.128,-185.992C132.946,-174.245 114.557,-160.896 98.4754,-149.222\"/>\n",
       "<polygon fill=\"black\" stroke=\"black\" points=\"100.449,-146.33 90.3003,-143.288 96.3367,-151.995 100.449,-146.33\"/>\n",
       "</g>\n",
       "<!-- 4 -->\n",
       "<g id=\"node5\" class=\"node\"><title>4</title>\n",
       "<path fill=\"#39e581\" stroke=\"black\" d=\"M239.749,-143C239.749,-143 143.936,-143 143.936,-143 137.936,-143 131.936,-137 131.936,-131 131.936,-131 131.936,-105 131.936,-105 131.936,-99 137.936,-93 143.936,-93 143.936,-93 239.749,-93 239.749,-93 245.749,-93 251.749,-99 251.749,-105 251.749,-105 251.749,-131 251.749,-131 251.749,-137 245.749,-143 239.749,-143\"/>\n",
       "<text text-anchor=\"start\" x=\"150.786\" y=\"-127.8\" font-family=\"Helvetica,sans-Serif\" font-size=\"14.00\">entropy = 0.0</text>\n",
       "<text text-anchor=\"start\" x=\"150.014\" y=\"-113.8\" font-family=\"Helvetica,sans-Serif\" font-size=\"14.00\">samples = 22</text>\n",
       "<text text-anchor=\"start\" x=\"139.89\" y=\"-99.8\" font-family=\"Helvetica,sans-Serif\" font-size=\"14.00\">value = [0, 22, 0]</text>\n",
       "</g>\n",
       "<!-- 2&#45;&gt;4 -->\n",
       "<g id=\"edge4\" class=\"edge\"><title>2&#45;&gt;4</title>\n",
       "<path fill=\"none\" stroke=\"black\" d=\"M191.843,-185.992C191.843,-175.646 191.843,-164.057 191.843,-153.465\"/>\n",
       "<polygon fill=\"black\" stroke=\"black\" points=\"195.343,-153.288 191.843,-143.288 188.343,-153.288 195.343,-153.288\"/>\n",
       "</g>\n",
       "<!-- 6 -->\n",
       "<g id=\"node7\" class=\"node\"><title>6</title>\n",
       "<path fill=\"#8139e5\" fill-opacity=\"0.956863\" stroke=\"black\" d=\"M401.368,-150C401.368,-150 282.318,-150 282.318,-150 276.318,-150 270.318,-144 270.318,-138 270.318,-138 270.318,-98 270.318,-98 270.318,-92 276.318,-86 282.318,-86 282.318,-86 401.368,-86 401.368,-86 407.368,-86 413.368,-92 413.368,-98 413.368,-98 413.368,-138 413.368,-138 413.368,-144 407.368,-150 401.368,-150\"/>\n",
       "<text text-anchor=\"start\" x=\"278.081\" y=\"-134.8\" font-family=\"Helvetica,sans-Serif\" font-size=\"14.00\">Magnesium ≤ &#45;0.225</text>\n",
       "<text text-anchor=\"start\" x=\"296.893\" y=\"-120.8\" font-family=\"Helvetica,sans-Serif\" font-size=\"14.00\">entropy = 0.25</text>\n",
       "<text text-anchor=\"start\" x=\"300.014\" y=\"-106.8\" font-family=\"Helvetica,sans-Serif\" font-size=\"14.00\">samples = 24</text>\n",
       "<text text-anchor=\"start\" x=\"289.89\" y=\"-92.8\" font-family=\"Helvetica,sans-Serif\" font-size=\"14.00\">value = [0, 1, 23]</text>\n",
       "</g>\n",
       "<!-- 5&#45;&gt;6 -->\n",
       "<g id=\"edge6\" class=\"edge\"><title>5&#45;&gt;6</title>\n",
       "<path fill=\"none\" stroke=\"black\" d=\"M410.886,-185.992C401.491,-176.876 391.102,-166.796 381.297,-157.282\"/>\n",
       "<polygon fill=\"black\" stroke=\"black\" points=\"383.553,-154.594 373.939,-150.142 378.678,-159.618 383.553,-154.594\"/>\n",
       "</g>\n",
       "<!-- 9 -->\n",
       "<g id=\"node10\" class=\"node\"><title>9</title>\n",
       "<path fill=\"#39e581\" fill-opacity=\"0.890196\" stroke=\"black\" d=\"M533.529,-143C533.529,-143 444.157,-143 444.157,-143 438.157,-143 432.157,-137 432.157,-131 432.157,-131 432.157,-105 432.157,-105 432.157,-99 438.157,-93 444.157,-93 444.157,-93 533.529,-93 533.529,-93 539.529,-93 545.529,-99 545.529,-105 545.529,-105 545.529,-131 545.529,-131 545.529,-137 539.529,-143 533.529,-143\"/>\n",
       "<text text-anchor=\"start\" x=\"440\" y=\"-127.8\" font-family=\"Helvetica,sans-Serif\" font-size=\"14.00\">entropy = 0.469</text>\n",
       "<text text-anchor=\"start\" x=\"447.014\" y=\"-113.8\" font-family=\"Helvetica,sans-Serif\" font-size=\"14.00\">samples = 10</text>\n",
       "<text text-anchor=\"start\" x=\"440.783\" y=\"-99.8\" font-family=\"Helvetica,sans-Serif\" font-size=\"14.00\">value = [1, 9, 0]</text>\n",
       "</g>\n",
       "<!-- 5&#45;&gt;9 -->\n",
       "<g id=\"edge9\" class=\"edge\"><title>5&#45;&gt;9</title>\n",
       "<path fill=\"none\" stroke=\"black\" d=\"M457.397,-185.992C462.406,-175.323 468.034,-163.332 473.13,-152.475\"/>\n",
       "<polygon fill=\"black\" stroke=\"black\" points=\"476.362,-153.827 477.442,-143.288 470.025,-150.853 476.362,-153.827\"/>\n",
       "</g>\n",
       "<!-- 7 -->\n",
       "<g id=\"node8\" class=\"node\"><title>7</title>\n",
       "<path fill=\"#8139e5\" stroke=\"black\" d=\"M321.749,-50C321.749,-50 225.936,-50 225.936,-50 219.936,-50 213.936,-44 213.936,-38 213.936,-38 213.936,-12 213.936,-12 213.936,-6 219.936,-0 225.936,-0 225.936,-0 321.749,-0 321.749,-0 327.749,-0 333.749,-6 333.749,-12 333.749,-12 333.749,-38 333.749,-38 333.749,-44 327.749,-50 321.749,-50\"/>\n",
       "<text text-anchor=\"start\" x=\"232.786\" y=\"-34.8\" font-family=\"Helvetica,sans-Serif\" font-size=\"14.00\">entropy = 0.0</text>\n",
       "<text text-anchor=\"start\" x=\"232.014\" y=\"-20.8\" font-family=\"Helvetica,sans-Serif\" font-size=\"14.00\">samples = 14</text>\n",
       "<text text-anchor=\"start\" x=\"221.89\" y=\"-6.8\" font-family=\"Helvetica,sans-Serif\" font-size=\"14.00\">value = [0, 0, 14]</text>\n",
       "</g>\n",
       "<!-- 6&#45;&gt;7 -->\n",
       "<g id=\"edge7\" class=\"edge\"><title>6&#45;&gt;7</title>\n",
       "<path fill=\"none\" stroke=\"black\" d=\"M318.631,-85.9375C311.915,-76.9496 304.572,-67.1231 297.811,-58.0747\"/>\n",
       "<polygon fill=\"black\" stroke=\"black\" points=\"300.589,-55.9456 291.799,-50.0301 294.982,-60.1357 300.589,-55.9456\"/>\n",
       "</g>\n",
       "<!-- 8 -->\n",
       "<g id=\"node9\" class=\"node\"><title>8</title>\n",
       "<path fill=\"#8139e5\" fill-opacity=\"0.890196\" stroke=\"black\" d=\"M453.529,-50C453.529,-50 364.157,-50 364.157,-50 358.157,-50 352.157,-44 352.157,-38 352.157,-38 352.157,-12 352.157,-12 352.157,-6 358.157,-0 364.157,-0 364.157,-0 453.529,-0 453.529,-0 459.529,-0 465.529,-6 465.529,-12 465.529,-12 465.529,-38 465.529,-38 465.529,-44 459.529,-50 453.529,-50\"/>\n",
       "<text text-anchor=\"start\" x=\"360\" y=\"-34.8\" font-family=\"Helvetica,sans-Serif\" font-size=\"14.00\">entropy = 0.469</text>\n",
       "<text text-anchor=\"start\" x=\"367.014\" y=\"-20.8\" font-family=\"Helvetica,sans-Serif\" font-size=\"14.00\">samples = 10</text>\n",
       "<text text-anchor=\"start\" x=\"360.783\" y=\"-6.8\" font-family=\"Helvetica,sans-Serif\" font-size=\"14.00\">value = [0, 1, 9]</text>\n",
       "</g>\n",
       "<!-- 6&#45;&gt;8 -->\n",
       "<g id=\"edge8\" class=\"edge\"><title>6&#45;&gt;8</title>\n",
       "<path fill=\"none\" stroke=\"black\" d=\"M364.713,-85.9375C371.263,-77.0413 378.418,-67.3236 385.023,-58.352\"/>\n",
       "<polygon fill=\"black\" stroke=\"black\" points=\"388.04,-60.158 391.15,-50.0301 382.403,-56.0077 388.04,-60.158\"/>\n",
       "</g>\n",
       "<!-- 11 -->\n",
       "<g id=\"node12\" class=\"node\"><title>11</title>\n",
       "<path fill=\"#e58139\" fill-opacity=\"0.929412\" stroke=\"black\" d=\"M668.749,-250C668.749,-250 572.936,-250 572.936,-250 566.936,-250 560.936,-244 560.936,-238 560.936,-238 560.936,-198 560.936,-198 560.936,-192 566.936,-186 572.936,-186 572.936,-186 668.749,-186 668.749,-186 674.749,-186 680.749,-192 680.749,-198 680.749,-198 680.749,-238 680.749,-238 680.749,-244 674.749,-250 668.749,-250\"/>\n",
       "<text text-anchor=\"start\" x=\"577.698\" y=\"-234.8\" font-family=\"Helvetica,sans-Serif\" font-size=\"14.00\">Proline ≤ 0.89</text>\n",
       "<text text-anchor=\"start\" x=\"572\" y=\"-220.8\" font-family=\"Helvetica,sans-Serif\" font-size=\"14.00\">entropy = 0.353</text>\n",
       "<text text-anchor=\"start\" x=\"579.014\" y=\"-206.8\" font-family=\"Helvetica,sans-Serif\" font-size=\"14.00\">samples = 30</text>\n",
       "<text text-anchor=\"start\" x=\"568.89\" y=\"-192.8\" font-family=\"Helvetica,sans-Serif\" font-size=\"14.00\">value = [28, 2, 0]</text>\n",
       "</g>\n",
       "<!-- 10&#45;&gt;11 -->\n",
       "<g id=\"edge11\" class=\"edge\"><title>10&#45;&gt;11</title>\n",
       "<path fill=\"none\" stroke=\"black\" d=\"M620.843,-285.992C620.843,-277.859 620.843,-268.959 620.843,-260.378\"/>\n",
       "<polygon fill=\"black\" stroke=\"black\" points=\"624.343,-260.142 620.843,-250.142 617.343,-260.142 624.343,-260.142\"/>\n",
       "</g>\n",
       "<!-- 14 -->\n",
       "<g id=\"node15\" class=\"node\"><title>14</title>\n",
       "<path fill=\"#e58139\" fill-opacity=\"0.749020\" stroke=\"black\" d=\"M800.529,-243C800.529,-243 711.157,-243 711.157,-243 705.157,-243 699.157,-237 699.157,-231 699.157,-231 699.157,-205 699.157,-205 699.157,-199 705.157,-193 711.157,-193 711.157,-193 800.529,-193 800.529,-193 806.529,-193 812.529,-199 812.529,-205 812.529,-205 812.529,-231 812.529,-231 812.529,-237 806.529,-243 800.529,-243\"/>\n",
       "<text text-anchor=\"start\" x=\"707\" y=\"-227.8\" font-family=\"Helvetica,sans-Serif\" font-size=\"14.00\">entropy = 0.722</text>\n",
       "<text text-anchor=\"start\" x=\"714.014\" y=\"-213.8\" font-family=\"Helvetica,sans-Serif\" font-size=\"14.00\">samples = 10</text>\n",
       "<text text-anchor=\"start\" x=\"707.783\" y=\"-199.8\" font-family=\"Helvetica,sans-Serif\" font-size=\"14.00\">value = [8, 0, 2]</text>\n",
       "</g>\n",
       "<!-- 10&#45;&gt;14 -->\n",
       "<g id=\"edge14\" class=\"edge\"><title>10&#45;&gt;14</title>\n",
       "<path fill=\"none\" stroke=\"black\" d=\"M663.558,-285.992C679.74,-274.245 698.129,-260.896 714.21,-249.222\"/>\n",
       "<polygon fill=\"black\" stroke=\"black\" points=\"716.349,-251.995 722.385,-243.288 712.237,-246.33 716.349,-251.995\"/>\n",
       "</g>\n",
       "<!-- 12 -->\n",
       "<g id=\"node13\" class=\"node\"><title>12</title>\n",
       "<path fill=\"#e58139\" fill-opacity=\"0.749020\" stroke=\"black\" d=\"M665.529,-143C665.529,-143 576.157,-143 576.157,-143 570.157,-143 564.157,-137 564.157,-131 564.157,-131 564.157,-105 564.157,-105 564.157,-99 570.157,-93 576.157,-93 576.157,-93 665.529,-93 665.529,-93 671.529,-93 677.529,-99 677.529,-105 677.529,-105 677.529,-131 677.529,-131 677.529,-137 671.529,-143 665.529,-143\"/>\n",
       "<text text-anchor=\"start\" x=\"572\" y=\"-127.8\" font-family=\"Helvetica,sans-Serif\" font-size=\"14.00\">entropy = 0.722</text>\n",
       "<text text-anchor=\"start\" x=\"579.014\" y=\"-113.8\" font-family=\"Helvetica,sans-Serif\" font-size=\"14.00\">samples = 10</text>\n",
       "<text text-anchor=\"start\" x=\"572.783\" y=\"-99.8\" font-family=\"Helvetica,sans-Serif\" font-size=\"14.00\">value = [8, 2, 0]</text>\n",
       "</g>\n",
       "<!-- 11&#45;&gt;12 -->\n",
       "<g id=\"edge12\" class=\"edge\"><title>11&#45;&gt;12</title>\n",
       "<path fill=\"none\" stroke=\"black\" d=\"M620.843,-185.992C620.843,-175.646 620.843,-164.057 620.843,-153.465\"/>\n",
       "<polygon fill=\"black\" stroke=\"black\" points=\"624.343,-153.288 620.843,-143.288 617.343,-153.288 624.343,-153.288\"/>\n",
       "</g>\n",
       "<!-- 13 -->\n",
       "<g id=\"node14\" class=\"node\"><title>13</title>\n",
       "<path fill=\"#e58139\" stroke=\"black\" d=\"M803.749,-143C803.749,-143 707.936,-143 707.936,-143 701.936,-143 695.936,-137 695.936,-131 695.936,-131 695.936,-105 695.936,-105 695.936,-99 701.936,-93 707.936,-93 707.936,-93 803.749,-93 803.749,-93 809.749,-93 815.749,-99 815.749,-105 815.749,-105 815.749,-131 815.749,-131 815.749,-137 809.749,-143 803.749,-143\"/>\n",
       "<text text-anchor=\"start\" x=\"714.786\" y=\"-127.8\" font-family=\"Helvetica,sans-Serif\" font-size=\"14.00\">entropy = 0.0</text>\n",
       "<text text-anchor=\"start\" x=\"714.014\" y=\"-113.8\" font-family=\"Helvetica,sans-Serif\" font-size=\"14.00\">samples = 20</text>\n",
       "<text text-anchor=\"start\" x=\"703.89\" y=\"-99.8\" font-family=\"Helvetica,sans-Serif\" font-size=\"14.00\">value = [20, 0, 0]</text>\n",
       "</g>\n",
       "<!-- 11&#45;&gt;13 -->\n",
       "<g id=\"edge13\" class=\"edge\"><title>11&#45;&gt;13</title>\n",
       "<path fill=\"none\" stroke=\"black\" d=\"M663.558,-185.992C679.74,-174.245 698.129,-160.896 714.21,-149.222\"/>\n",
       "<polygon fill=\"black\" stroke=\"black\" points=\"716.349,-151.995 722.385,-143.288 712.237,-146.33 716.349,-151.995\"/>\n",
       "</g>\n",
       "</g>\n",
       "</svg>\n"
      ],
      "text/plain": [
       "<graphviz.files.Source at 0x1a1616f400>"
      ]
     },
     "execution_count": 16,
     "metadata": {},
     "output_type": "execute_result"
    }
   ],
   "source": [
    "import graphviz\n",
    "gv_data = tree.export_graphviz(clf, out_file=None, \n",
    "                     feature_names=attributes,  \n",
    "                     filled=True, rounded=True,  \n",
    "                     special_characters=True) \n",
    "\n",
    "graphviz.Source(gv_data)"
   ]
  },
  {
   "cell_type": "code",
   "execution_count": 17,
   "metadata": {},
   "outputs": [
    {
     "data": {
      "text/html": [
       "<div>\n",
       "<style scoped>\n",
       "    .dataframe tbody tr th:only-of-type {\n",
       "        vertical-align: middle;\n",
       "    }\n",
       "\n",
       "    .dataframe tbody tr th {\n",
       "        vertical-align: top;\n",
       "    }\n",
       "\n",
       "    .dataframe thead th {\n",
       "        text-align: right;\n",
       "    }\n",
       "</style>\n",
       "<table border=\"1\" class=\"dataframe\">\n",
       "  <thead>\n",
       "    <tr style=\"text-align: right;\">\n",
       "      <th>prediction</th>\n",
       "      <th>1</th>\n",
       "      <th>2</th>\n",
       "      <th>3</th>\n",
       "    </tr>\n",
       "    <tr>\n",
       "      <th>actual</th>\n",
       "      <th></th>\n",
       "      <th></th>\n",
       "      <th></th>\n",
       "    </tr>\n",
       "  </thead>\n",
       "  <tbody>\n",
       "    <tr>\n",
       "      <th>1</th>\n",
       "      <td>21</td>\n",
       "      <td>1</td>\n",
       "      <td>0</td>\n",
       "    </tr>\n",
       "    <tr>\n",
       "      <th>2</th>\n",
       "      <td>2</td>\n",
       "      <td>27</td>\n",
       "      <td>2</td>\n",
       "    </tr>\n",
       "    <tr>\n",
       "      <th>3</th>\n",
       "      <td>4</td>\n",
       "      <td>2</td>\n",
       "      <td>13</td>\n",
       "    </tr>\n",
       "  </tbody>\n",
       "</table>\n",
       "</div>"
      ],
      "text/plain": [
       "prediction   1   2   3\n",
       "actual                \n",
       "1           21   1   0\n",
       "2            2  27   2\n",
       "3            4   2  13"
      ]
     },
     "execution_count": 17,
     "metadata": {},
     "output_type": "execute_result"
    }
   ],
   "source": [
    "preds = clf.predict(X_test)\n",
    "pd.crosstab(y_test, preds, rownames=['actual'], \n",
    "            colnames=['prediction'])"
   ]
  },
  {
   "cell_type": "markdown",
   "metadata": {},
   "source": [
    "##  Averaging Trees\n",
    "\n",
    "Decision trees have several advantages: \n",
    "\n",
    "* ease of interpretation\n",
    "* easy of implementation\n",
    "* handles continuous and discrete features (and mixed)\n",
    "* invariant to monotone transformation of features\n",
    "* variable selection automated (ignores redundant variables)\n",
    "* robust\n",
    "* scalable (can handle huge datasets)\n",
    "\n",
    "However, relative to other statistical learning methods, trees do not predict very accurately, due to the greedy nature of the tree construction algorithm. Also, trees tend to be **unstable**, as small changes to the inputs can have large effects on the structure of the tree; poor decisions near the root of the tree will propogate to the rest of the tree. Hence, trees are **high variance** (*i.e.* noisy) estimators.\n",
    "\n",
    "One way to reduce the variance of an estimate is to average together many estimates. In the case of decision trees, we can train $T$ different trees on random subsets of the data (with replacement) then average according to:\n",
    "\n",
    "$$\\hat{f}(\\mathbf{x}) = \\frac{1}{T} \\sum_{i=1}^T f_t(\\mathbf{x})$$\n",
    "\n",
    "where $f_t$ is the $t^{th}$ tree. This approach is called \"bootstrap aggregating\", or **bagging**.\n",
    "\n",
    "Note that, since we are averaging over trees, there is *no need to prune*. With bagging, we reduce variance by averaging, rather than by pruning."
   ]
  },
  {
   "cell_type": "code",
   "execution_count": 18,
   "metadata": {},
   "outputs": [
    {
     "data": {
      "text/plain": [
       "BaggingClassifier(base_estimator=None, bootstrap=True,\n",
       "         bootstrap_features=False, max_features=1.0, max_samples=1.0,\n",
       "         n_estimators=10, n_jobs=4, oob_score=True, random_state=None,\n",
       "         verbose=0, warm_start=False)"
      ]
     },
     "execution_count": 18,
     "metadata": {},
     "output_type": "execute_result"
    }
   ],
   "source": [
    "from sklearn.ensemble import BaggingClassifier\n",
    "\n",
    "bc = BaggingClassifier(n_jobs=4, oob_score=True)\n",
    "bc"
   ]
  },
  {
   "cell_type": "code",
   "execution_count": 19,
   "metadata": {},
   "outputs": [
    {
     "data": {
      "text/html": [
       "<div>\n",
       "<style scoped>\n",
       "    .dataframe tbody tr th:only-of-type {\n",
       "        vertical-align: middle;\n",
       "    }\n",
       "\n",
       "    .dataframe tbody tr th {\n",
       "        vertical-align: top;\n",
       "    }\n",
       "\n",
       "    .dataframe thead th {\n",
       "        text-align: right;\n",
       "    }\n",
       "</style>\n",
       "<table border=\"1\" class=\"dataframe\">\n",
       "  <thead>\n",
       "    <tr style=\"text-align: right;\">\n",
       "      <th>prediction</th>\n",
       "      <th>1</th>\n",
       "      <th>2</th>\n",
       "      <th>3</th>\n",
       "    </tr>\n",
       "    <tr>\n",
       "      <th>actual</th>\n",
       "      <th></th>\n",
       "      <th></th>\n",
       "      <th></th>\n",
       "    </tr>\n",
       "  </thead>\n",
       "  <tbody>\n",
       "    <tr>\n",
       "      <th>1</th>\n",
       "      <td>21</td>\n",
       "      <td>1</td>\n",
       "      <td>0</td>\n",
       "    </tr>\n",
       "    <tr>\n",
       "      <th>2</th>\n",
       "      <td>4</td>\n",
       "      <td>25</td>\n",
       "      <td>2</td>\n",
       "    </tr>\n",
       "    <tr>\n",
       "      <th>3</th>\n",
       "      <td>0</td>\n",
       "      <td>0</td>\n",
       "      <td>19</td>\n",
       "    </tr>\n",
       "  </tbody>\n",
       "</table>\n",
       "</div>"
      ],
      "text/plain": [
       "prediction   1   2   3\n",
       "actual                \n",
       "1           21   1   0\n",
       "2            4  25   2\n",
       "3            0   0  19"
      ]
     },
     "execution_count": 19,
     "metadata": {},
     "output_type": "execute_result"
    }
   ],
   "source": [
    "bc.fit(X_train, y_train)\n",
    "\n",
    "preds = bc.predict(X_test)\n",
    "pd.crosstab(y_test, preds, rownames=['actual'], \n",
    "            colnames=['prediction'])"
   ]
  },
  {
   "cell_type": "markdown",
   "metadata": {},
   "source": [
    "Test error of a bagged model is measured by estimating **out-of-bag error**.\n",
    "\n",
    "On average, each bagged tree uses about 2/3 of observations, leaving the remaining third as \"out-of bag\". The response for the ith observation for each of the trees in which that observation was excluded (on average, B/3) is averaged. This essentially the same as performing leave-one-out (LOO) cross-validation."
   ]
  },
  {
   "cell_type": "code",
   "execution_count": 20,
   "metadata": {},
   "outputs": [
    {
     "data": {
      "text/plain": [
       "0.9528301886792453"
      ]
     },
     "execution_count": 20,
     "metadata": {},
     "output_type": "execute_result"
    }
   ],
   "source": [
    "bc.oob_score_"
   ]
  },
  {
   "cell_type": "markdown",
   "metadata": {},
   "source": [
    "This approach is an **ensemble learning** method, because it takes a set of *weak* learners, and combines them to construct a *strong* learner that is more robust, with lower generalization error.\n",
    "\n",
    "An average of B trees, each with variance $\\sigma^2$, has variance $\\sigma^2/B$. If the variables are simply identically distributed, with positive pairwise correlation $\\rho$, then the variance of the average of the B trees is:\n",
    "\n",
    "$$\\rho \\sigma^2 + \\frac{1-\\rho}{B}\\sigma^2$$"
   ]
  },
  {
   "cell_type": "markdown",
   "metadata": {},
   "source": [
    "As the number of trees becomes large, the second term goes to zero. Further reductions in variance are limited by the size of the **correlation** among the trees $\\rho$."
   ]
  },
  {
   "cell_type": "markdown",
   "metadata": {},
   "source": [
    "## Random Forests\n",
    "\n",
    "**Random forests** improves upon bagging by creating a set of decision trees that are less correlated than bootstrapped trees. This is done by selecting from only a subset $m$ out of $M$ possible predictors at each split. Typically, we choose approximately the square root of the available number.\n",
    "\n",
    "This procedure is used to create a set of trees, most of which will be poor at predicting a given observation. However, classification is based on a *majority vote* of the constituent trees."
   ]
  },
  {
   "cell_type": "code",
   "execution_count": 21,
   "metadata": {},
   "outputs": [
    {
     "name": "stderr",
     "output_type": "stream",
     "text": [
      "/Users/fonnescj/anaconda3/envs/dev/lib/python3.6/site-packages/sklearn/ensemble/forest.py:246: FutureWarning: The default value of n_estimators will change from 10 in version 0.20 to 100 in 0.22.\n",
      "  \"10 in version 0.20 to 100 in 0.22.\", FutureWarning)\n"
     ]
    },
    {
     "data": {
      "text/html": [
       "<div>\n",
       "<style scoped>\n",
       "    .dataframe tbody tr th:only-of-type {\n",
       "        vertical-align: middle;\n",
       "    }\n",
       "\n",
       "    .dataframe tbody tr th {\n",
       "        vertical-align: top;\n",
       "    }\n",
       "\n",
       "    .dataframe thead th {\n",
       "        text-align: right;\n",
       "    }\n",
       "</style>\n",
       "<table border=\"1\" class=\"dataframe\">\n",
       "  <thead>\n",
       "    <tr style=\"text-align: right;\">\n",
       "      <th>prediction</th>\n",
       "      <th>1</th>\n",
       "      <th>2</th>\n",
       "      <th>3</th>\n",
       "    </tr>\n",
       "    <tr>\n",
       "      <th>actual</th>\n",
       "      <th></th>\n",
       "      <th></th>\n",
       "      <th></th>\n",
       "    </tr>\n",
       "  </thead>\n",
       "  <tbody>\n",
       "    <tr>\n",
       "      <th>1</th>\n",
       "      <td>22</td>\n",
       "      <td>0</td>\n",
       "      <td>0</td>\n",
       "    </tr>\n",
       "    <tr>\n",
       "      <th>2</th>\n",
       "      <td>0</td>\n",
       "      <td>29</td>\n",
       "      <td>2</td>\n",
       "    </tr>\n",
       "    <tr>\n",
       "      <th>3</th>\n",
       "      <td>0</td>\n",
       "      <td>0</td>\n",
       "      <td>19</td>\n",
       "    </tr>\n",
       "  </tbody>\n",
       "</table>\n",
       "</div>"
      ],
      "text/plain": [
       "prediction   1   2   3\n",
       "actual                \n",
       "1           22   0   0\n",
       "2            0  29   2\n",
       "3            0   0  19"
      ]
     },
     "execution_count": 21,
     "metadata": {},
     "output_type": "execute_result"
    }
   ],
   "source": [
    "from sklearn.ensemble import RandomForestClassifier\n",
    "\n",
    "rf = RandomForestClassifier(n_jobs=4)\n",
    "rf.fit(X_train, y_train)\n",
    "\n",
    "preds = rf.predict(X_test)\n",
    "pd.crosstab(y_test, preds, rownames=['actual'], \n",
    "            colnames=['prediction'])"
   ]
  },
  {
   "cell_type": "markdown",
   "metadata": {},
   "source": [
    "With random forests, it is possible to quantify the **relative importance** of feature inputs for classification. In scikit-learn, the Gini index (recall, a measure of error reduction) is calculated for each internal node that splits on a particular feature of a given tree, which is multiplied by the number of samples that were routed to the node (this approximates the probability of reaching that node). For each variable, this quantity is averaged over the trees in the forest to yield a measure of importance."
   ]
  },
  {
   "cell_type": "code",
   "execution_count": 22,
   "metadata": {},
   "outputs": [
    {
     "name": "stdout",
     "output_type": "stream",
     "text": [
      "Feature ranking:\n",
      "1. Proline (0.231011)\n",
      "2. Color intensity (0.214828)\n",
      "3. Flavanoids (0.213021)\n",
      "4. Total phenols (0.062633)\n",
      "5. Hue (0.056201)\n",
      "6. OD280/OD315 of diluted wines (0.051345)\n",
      "7. Alcalinity of ash (0.047831)\n",
      "8. Alcohol (0.036627)\n",
      "9. Proanthocyanins (0.030835)\n",
      "10. Malic acid (0.028250)\n",
      "11. Magnesium (0.024085)\n",
      "12. Nonflavanoid phenols (0.001892)\n",
      "13. Ash (0.001441)\n"
     ]
    }
   ],
   "source": [
    "importances = rf.feature_importances_\n",
    "indices = np.argsort(importances)[::-1]\n",
    "\n",
    "# Print the feature ranking\n",
    "print(\"Feature ranking:\")\n",
    "\n",
    "for f in range(X.shape[1]):\n",
    "    print(\"%d. %s (%f)\" % (f + 1, X.columns[indices[f]], importances[indices[f]]))"
   ]
  },
  {
   "cell_type": "code",
   "execution_count": 23,
   "metadata": {},
   "outputs": [
    {
     "data": {
      "image/png": "[encoded data removed]",
      "text/plain": [
       "<Figure size 432x288 with 1 Axes>"
      ]
     },
     "metadata": {
      "needs_background": "light"
     },
     "output_type": "display_data"
    }
   ],
   "source": [
    "plt.figure()\n",
    "plt.title(\"Feature importances\")\n",
    "plt.bar(range(X.shape[1]), importances[indices],\n",
    "       color=\"r\", align=\"center\")\n",
    "plt.xticks(range(X.shape[1]), X.columns[indices], rotation=90)\n",
    "plt.xlim([-1, X.shape[1]]);"
   ]
  },
  {
   "cell_type": "markdown",
   "metadata": {},
   "source": [
    "`RandomForestClassifier` uses the Gini impurity index by default; one may instead use the entropy information gain as a criterion."
   ]
  },
  {
   "cell_type": "code",
   "execution_count": 24,
   "metadata": {},
   "outputs": [
    {
     "name": "stderr",
     "output_type": "stream",
     "text": [
      "/Users/fonnescj/anaconda3/envs/dev/lib/python3.6/site-packages/sklearn/ensemble/forest.py:246: FutureWarning: The default value of n_estimators will change from 10 in version 0.20 to 100 in 0.22.\n",
      "  \"10 in version 0.20 to 100 in 0.22.\", FutureWarning)\n"
     ]
    },
    {
     "name": "stdout",
     "output_type": "stream",
     "text": [
      "Feature ranking:\n",
      "1. Proline (0.192705)\n",
      "2. Alcohol (0.154153)\n",
      "3. Flavanoids (0.151939)\n",
      "4. Color intensity (0.138415)\n",
      "5. OD280/OD315 of diluted wines (0.135648)\n",
      "6. Hue (0.093826)\n",
      "7. Alcalinity of ash (0.043490)\n",
      "8. Proanthocyanins (0.028357)\n",
      "9. Malic acid (0.018267)\n",
      "10. Total phenols (0.017019)\n",
      "11. Magnesium (0.013250)\n",
      "12. Nonflavanoid phenols (0.012930)\n",
      "13. Ash (0.000000)\n"
     ]
    }
   ],
   "source": [
    "rf = RandomForestClassifier(n_jobs=4, criterion='entropy')\n",
    "rf.fit(X_train, y_train)\n",
    "importances = rf.feature_importances_\n",
    "indices = np.argsort(importances)[::-1]\n",
    "\n",
    "# Print the feature ranking\n",
    "print(\"Feature ranking:\")\n",
    "\n",
    "for f in range(X.shape[1]):\n",
    "    print(\"%d. %s (%f)\" % (f + 1, X.columns[indices[f]], importances[indices[f]]))"
   ]
  },
  {
   "cell_type": "markdown",
   "metadata": {},
   "source": [
    "---\n",
    "## References\n",
    "\n",
    "- [`scikit-learn` user's guide](http://scikit-learn.org/stable/user_guide.html)\n",
    "- Vanderplas, J. (2016) [Python Data Science Handbook: Essential Tools for Working with Data](http://shop.oreilly.com/product/0636920034919.do). O'Reilly Media."
   ]
  }
 ],
 "metadata": {
  "kernelspec": {
   "display_name": "Python 3",
   "language": "python",
   "name": "python3"
  },
  "language_info": {
   "codemirror_mode": {
    "name": "ipython",
    "version": 3
   },
   "file_extension": ".py",
   "mimetype": "text/x-python",
   "name": "python",
   "nbconvert_exporter": "python",
   "pygments_lexer": "ipython3",
   "version": "3.6.7"
  },
  "latex_envs": {
   "bibliofile": "biblio.bib",
   "cite_by": "apalike",
   "current_citInitial": 1,
   "eqLabelWithNumbers": true,
   "eqNumInitial": 0
  }
 },
 "nbformat": 4,
 "nbformat_minor": 2
}
